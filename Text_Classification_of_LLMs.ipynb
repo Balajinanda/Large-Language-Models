{
  "nbformat": 4,
  "nbformat_minor": 0,
  "metadata": {
    "colab": {
      "provenance": [],
      "machine_shape": "hm",
      "authorship_tag": "ABX9TyNkKuf7UeenyJV0iB++28H9",
      "include_colab_link": true
    },
    "kernelspec": {
      "name": "python3",
      "display_name": "Python 3"
    },
    "language_info": {
      "name": "python"
    },
    "widgets": {
      "application/vnd.jupyter.widget-state+json": {
        "f443097f72ec4afa995a3200cf10a0fd": {
          "model_module": "@jupyter-widgets/controls",
          "model_name": "HBoxModel",
          "model_module_version": "1.5.0",
          "state": {
            "_dom_classes": [],
            "_model_module": "@jupyter-widgets/controls",
            "_model_module_version": "1.5.0",
            "_model_name": "HBoxModel",
            "_view_count": null,
            "_view_module": "@jupyter-widgets/controls",
            "_view_module_version": "1.5.0",
            "_view_name": "HBoxView",
            "box_style": "",
            "children": [
              "IPY_MODEL_f7faeef3c84f46799211a21de5229ee3",
              "IPY_MODEL_88851f45c9954333a45e4069f22fa135",
              "IPY_MODEL_a722f06b344a42a1b05f5ad79f65f9a3"
            ],
            "layout": "IPY_MODEL_b91f5617bc334cf0867e525b36f9022d"
          }
        },
        "f7faeef3c84f46799211a21de5229ee3": {
          "model_module": "@jupyter-widgets/controls",
          "model_name": "HTMLModel",
          "model_module_version": "1.5.0",
          "state": {
            "_dom_classes": [],
            "_model_module": "@jupyter-widgets/controls",
            "_model_module_version": "1.5.0",
            "_model_name": "HTMLModel",
            "_view_count": null,
            "_view_module": "@jupyter-widgets/controls",
            "_view_module_version": "1.5.0",
            "_view_name": "HTMLView",
            "description": "",
            "description_tooltip": null,
            "layout": "IPY_MODEL_3351cdc17e48414699d09a581d2d3469",
            "placeholder": "​",
            "style": "IPY_MODEL_2727a00821b44184832aa50b7e1adf66",
            "value": "Downloading builder script: 100%"
          }
        },
        "88851f45c9954333a45e4069f22fa135": {
          "model_module": "@jupyter-widgets/controls",
          "model_name": "FloatProgressModel",
          "model_module_version": "1.5.0",
          "state": {
            "_dom_classes": [],
            "_model_module": "@jupyter-widgets/controls",
            "_model_module_version": "1.5.0",
            "_model_name": "FloatProgressModel",
            "_view_count": null,
            "_view_module": "@jupyter-widgets/controls",
            "_view_module_version": "1.5.0",
            "_view_name": "ProgressView",
            "bar_style": "success",
            "description": "",
            "description_tooltip": null,
            "layout": "IPY_MODEL_8901e3284d034e8799707c9233bfe32a",
            "max": 5090,
            "min": 0,
            "orientation": "horizontal",
            "style": "IPY_MODEL_48ccf213b9ef44b09320643428f04747",
            "value": 5090
          }
        },
        "a722f06b344a42a1b05f5ad79f65f9a3": {
          "model_module": "@jupyter-widgets/controls",
          "model_name": "HTMLModel",
          "model_module_version": "1.5.0",
          "state": {
            "_dom_classes": [],
            "_model_module": "@jupyter-widgets/controls",
            "_model_module_version": "1.5.0",
            "_model_name": "HTMLModel",
            "_view_count": null,
            "_view_module": "@jupyter-widgets/controls",
            "_view_module_version": "1.5.0",
            "_view_name": "HTMLView",
            "description": "",
            "description_tooltip": null,
            "layout": "IPY_MODEL_6856db3fc37c44e49eb77c7cc0f3f953",
            "placeholder": "​",
            "style": "IPY_MODEL_d13312aea154432f917e5d3f4aaf0eb2",
            "value": " 5.09k/5.09k [00:00&lt;00:00, 322kB/s]"
          }
        },
        "b91f5617bc334cf0867e525b36f9022d": {
          "model_module": "@jupyter-widgets/base",
          "model_name": "LayoutModel",
          "model_module_version": "1.2.0",
          "state": {
            "_model_module": "@jupyter-widgets/base",
            "_model_module_version": "1.2.0",
            "_model_name": "LayoutModel",
            "_view_count": null,
            "_view_module": "@jupyter-widgets/base",
            "_view_module_version": "1.2.0",
            "_view_name": "LayoutView",
            "align_content": null,
            "align_items": null,
            "align_self": null,
            "border": null,
            "bottom": null,
            "display": null,
            "flex": null,
            "flex_flow": null,
            "grid_area": null,
            "grid_auto_columns": null,
            "grid_auto_flow": null,
            "grid_auto_rows": null,
            "grid_column": null,
            "grid_gap": null,
            "grid_row": null,
            "grid_template_areas": null,
            "grid_template_columns": null,
            "grid_template_rows": null,
            "height": null,
            "justify_content": null,
            "justify_items": null,
            "left": null,
            "margin": null,
            "max_height": null,
            "max_width": null,
            "min_height": null,
            "min_width": null,
            "object_fit": null,
            "object_position": null,
            "order": null,
            "overflow": null,
            "overflow_x": null,
            "overflow_y": null,
            "padding": null,
            "right": null,
            "top": null,
            "visibility": null,
            "width": null
          }
        },
        "3351cdc17e48414699d09a581d2d3469": {
          "model_module": "@jupyter-widgets/base",
          "model_name": "LayoutModel",
          "model_module_version": "1.2.0",
          "state": {
            "_model_module": "@jupyter-widgets/base",
            "_model_module_version": "1.2.0",
            "_model_name": "LayoutModel",
            "_view_count": null,
            "_view_module": "@jupyter-widgets/base",
            "_view_module_version": "1.2.0",
            "_view_name": "LayoutView",
            "align_content": null,
            "align_items": null,
            "align_self": null,
            "border": null,
            "bottom": null,
            "display": null,
            "flex": null,
            "flex_flow": null,
            "grid_area": null,
            "grid_auto_columns": null,
            "grid_auto_flow": null,
            "grid_auto_rows": null,
            "grid_column": null,
            "grid_gap": null,
            "grid_row": null,
            "grid_template_areas": null,
            "grid_template_columns": null,
            "grid_template_rows": null,
            "height": null,
            "justify_content": null,
            "justify_items": null,
            "left": null,
            "margin": null,
            "max_height": null,
            "max_width": null,
            "min_height": null,
            "min_width": null,
            "object_fit": null,
            "object_position": null,
            "order": null,
            "overflow": null,
            "overflow_x": null,
            "overflow_y": null,
            "padding": null,
            "right": null,
            "top": null,
            "visibility": null,
            "width": null
          }
        },
        "2727a00821b44184832aa50b7e1adf66": {
          "model_module": "@jupyter-widgets/controls",
          "model_name": "DescriptionStyleModel",
          "model_module_version": "1.5.0",
          "state": {
            "_model_module": "@jupyter-widgets/controls",
            "_model_module_version": "1.5.0",
            "_model_name": "DescriptionStyleModel",
            "_view_count": null,
            "_view_module": "@jupyter-widgets/base",
            "_view_module_version": "1.2.0",
            "_view_name": "StyleView",
            "description_width": ""
          }
        },
        "8901e3284d034e8799707c9233bfe32a": {
          "model_module": "@jupyter-widgets/base",
          "model_name": "LayoutModel",
          "model_module_version": "1.2.0",
          "state": {
            "_model_module": "@jupyter-widgets/base",
            "_model_module_version": "1.2.0",
            "_model_name": "LayoutModel",
            "_view_count": null,
            "_view_module": "@jupyter-widgets/base",
            "_view_module_version": "1.2.0",
            "_view_name": "LayoutView",
            "align_content": null,
            "align_items": null,
            "align_self": null,
            "border": null,
            "bottom": null,
            "display": null,
            "flex": null,
            "flex_flow": null,
            "grid_area": null,
            "grid_auto_columns": null,
            "grid_auto_flow": null,
            "grid_auto_rows": null,
            "grid_column": null,
            "grid_gap": null,
            "grid_row": null,
            "grid_template_areas": null,
            "grid_template_columns": null,
            "grid_template_rows": null,
            "height": null,
            "justify_content": null,
            "justify_items": null,
            "left": null,
            "margin": null,
            "max_height": null,
            "max_width": null,
            "min_height": null,
            "min_width": null,
            "object_fit": null,
            "object_position": null,
            "order": null,
            "overflow": null,
            "overflow_x": null,
            "overflow_y": null,
            "padding": null,
            "right": null,
            "top": null,
            "visibility": null,
            "width": null
          }
        },
        "48ccf213b9ef44b09320643428f04747": {
          "model_module": "@jupyter-widgets/controls",
          "model_name": "ProgressStyleModel",
          "model_module_version": "1.5.0",
          "state": {
            "_model_module": "@jupyter-widgets/controls",
            "_model_module_version": "1.5.0",
            "_model_name": "ProgressStyleModel",
            "_view_count": null,
            "_view_module": "@jupyter-widgets/base",
            "_view_module_version": "1.2.0",
            "_view_name": "StyleView",
            "bar_color": null,
            "description_width": ""
          }
        },
        "6856db3fc37c44e49eb77c7cc0f3f953": {
          "model_module": "@jupyter-widgets/base",
          "model_name": "LayoutModel",
          "model_module_version": "1.2.0",
          "state": {
            "_model_module": "@jupyter-widgets/base",
            "_model_module_version": "1.2.0",
            "_model_name": "LayoutModel",
            "_view_count": null,
            "_view_module": "@jupyter-widgets/base",
            "_view_module_version": "1.2.0",
            "_view_name": "LayoutView",
            "align_content": null,
            "align_items": null,
            "align_self": null,
            "border": null,
            "bottom": null,
            "display": null,
            "flex": null,
            "flex_flow": null,
            "grid_area": null,
            "grid_auto_columns": null,
            "grid_auto_flow": null,
            "grid_auto_rows": null,
            "grid_column": null,
            "grid_gap": null,
            "grid_row": null,
            "grid_template_areas": null,
            "grid_template_columns": null,
            "grid_template_rows": null,
            "height": null,
            "justify_content": null,
            "justify_items": null,
            "left": null,
            "margin": null,
            "max_height": null,
            "max_width": null,
            "min_height": null,
            "min_width": null,
            "object_fit": null,
            "object_position": null,
            "order": null,
            "overflow": null,
            "overflow_x": null,
            "overflow_y": null,
            "padding": null,
            "right": null,
            "top": null,
            "visibility": null,
            "width": null
          }
        },
        "d13312aea154432f917e5d3f4aaf0eb2": {
          "model_module": "@jupyter-widgets/controls",
          "model_name": "DescriptionStyleModel",
          "model_module_version": "1.5.0",
          "state": {
            "_model_module": "@jupyter-widgets/controls",
            "_model_module_version": "1.5.0",
            "_model_name": "DescriptionStyleModel",
            "_view_count": null,
            "_view_module": "@jupyter-widgets/base",
            "_view_module_version": "1.2.0",
            "_view_name": "StyleView",
            "description_width": ""
          }
        },
        "01fcdb0697ae4779bda1a5276ba971a0": {
          "model_module": "@jupyter-widgets/controls",
          "model_name": "HBoxModel",
          "model_module_version": "1.5.0",
          "state": {
            "_dom_classes": [],
            "_model_module": "@jupyter-widgets/controls",
            "_model_module_version": "1.5.0",
            "_model_name": "HBoxModel",
            "_view_count": null,
            "_view_module": "@jupyter-widgets/controls",
            "_view_module_version": "1.5.0",
            "_view_name": "HBoxView",
            "box_style": "",
            "children": [
              "IPY_MODEL_1c25d41cda07496e8e21ebfbe6adf15f",
              "IPY_MODEL_a7258e97cd6641e99671bd990ee3b8a5",
              "IPY_MODEL_eb8c2faf43454c748fba4acd918ac193"
            ],
            "layout": "IPY_MODEL_a2b933f969af4657b5d1a257a4b3b253"
          }
        },
        "1c25d41cda07496e8e21ebfbe6adf15f": {
          "model_module": "@jupyter-widgets/controls",
          "model_name": "HTMLModel",
          "model_module_version": "1.5.0",
          "state": {
            "_dom_classes": [],
            "_model_module": "@jupyter-widgets/controls",
            "_model_module_version": "1.5.0",
            "_model_name": "HTMLModel",
            "_view_count": null,
            "_view_module": "@jupyter-widgets/controls",
            "_view_module_version": "1.5.0",
            "_view_name": "HTMLView",
            "description": "",
            "description_tooltip": null,
            "layout": "IPY_MODEL_c98ab5b9aa164c849c4aed645adbe13e",
            "placeholder": "​",
            "style": "IPY_MODEL_17b0ce62c9f14cc9b475adb065bdf727",
            "value": "Downloading readme: 100%"
          }
        },
        "a7258e97cd6641e99671bd990ee3b8a5": {
          "model_module": "@jupyter-widgets/controls",
          "model_name": "FloatProgressModel",
          "model_module_version": "1.5.0",
          "state": {
            "_dom_classes": [],
            "_model_module": "@jupyter-widgets/controls",
            "_model_module_version": "1.5.0",
            "_model_name": "FloatProgressModel",
            "_view_count": null,
            "_view_module": "@jupyter-widgets/controls",
            "_view_module_version": "1.5.0",
            "_view_name": "ProgressView",
            "bar_style": "success",
            "description": "",
            "description_tooltip": null,
            "layout": "IPY_MODEL_23bf151bb5d8465e8224e79152272218",
            "max": 10630,
            "min": 0,
            "orientation": "horizontal",
            "style": "IPY_MODEL_57ec6b033df041c49241573d29f1e462",
            "value": 10630
          }
        },
        "eb8c2faf43454c748fba4acd918ac193": {
          "model_module": "@jupyter-widgets/controls",
          "model_name": "HTMLModel",
          "model_module_version": "1.5.0",
          "state": {
            "_dom_classes": [],
            "_model_module": "@jupyter-widgets/controls",
            "_model_module_version": "1.5.0",
            "_model_name": "HTMLModel",
            "_view_count": null,
            "_view_module": "@jupyter-widgets/controls",
            "_view_module_version": "1.5.0",
            "_view_name": "HTMLView",
            "description": "",
            "description_tooltip": null,
            "layout": "IPY_MODEL_0a0af69156d14ddc967f6c7a3bfb20da",
            "placeholder": "​",
            "style": "IPY_MODEL_e028de6f2fbb4121b03034b8014f64f5",
            "value": " 10.6k/10.6k [00:00&lt;00:00, 801kB/s]"
          }
        },
        "a2b933f969af4657b5d1a257a4b3b253": {
          "model_module": "@jupyter-widgets/base",
          "model_name": "LayoutModel",
          "model_module_version": "1.2.0",
          "state": {
            "_model_module": "@jupyter-widgets/base",
            "_model_module_version": "1.2.0",
            "_model_name": "LayoutModel",
            "_view_count": null,
            "_view_module": "@jupyter-widgets/base",
            "_view_module_version": "1.2.0",
            "_view_name": "LayoutView",
            "align_content": null,
            "align_items": null,
            "align_self": null,
            "border": null,
            "bottom": null,
            "display": null,
            "flex": null,
            "flex_flow": null,
            "grid_area": null,
            "grid_auto_columns": null,
            "grid_auto_flow": null,
            "grid_auto_rows": null,
            "grid_column": null,
            "grid_gap": null,
            "grid_row": null,
            "grid_template_areas": null,
            "grid_template_columns": null,
            "grid_template_rows": null,
            "height": null,
            "justify_content": null,
            "justify_items": null,
            "left": null,
            "margin": null,
            "max_height": null,
            "max_width": null,
            "min_height": null,
            "min_width": null,
            "object_fit": null,
            "object_position": null,
            "order": null,
            "overflow": null,
            "overflow_x": null,
            "overflow_y": null,
            "padding": null,
            "right": null,
            "top": null,
            "visibility": null,
            "width": null
          }
        },
        "c98ab5b9aa164c849c4aed645adbe13e": {
          "model_module": "@jupyter-widgets/base",
          "model_name": "LayoutModel",
          "model_module_version": "1.2.0",
          "state": {
            "_model_module": "@jupyter-widgets/base",
            "_model_module_version": "1.2.0",
            "_model_name": "LayoutModel",
            "_view_count": null,
            "_view_module": "@jupyter-widgets/base",
            "_view_module_version": "1.2.0",
            "_view_name": "LayoutView",
            "align_content": null,
            "align_items": null,
            "align_self": null,
            "border": null,
            "bottom": null,
            "display": null,
            "flex": null,
            "flex_flow": null,
            "grid_area": null,
            "grid_auto_columns": null,
            "grid_auto_flow": null,
            "grid_auto_rows": null,
            "grid_column": null,
            "grid_gap": null,
            "grid_row": null,
            "grid_template_areas": null,
            "grid_template_columns": null,
            "grid_template_rows": null,
            "height": null,
            "justify_content": null,
            "justify_items": null,
            "left": null,
            "margin": null,
            "max_height": null,
            "max_width": null,
            "min_height": null,
            "min_width": null,
            "object_fit": null,
            "object_position": null,
            "order": null,
            "overflow": null,
            "overflow_x": null,
            "overflow_y": null,
            "padding": null,
            "right": null,
            "top": null,
            "visibility": null,
            "width": null
          }
        },
        "17b0ce62c9f14cc9b475adb065bdf727": {
          "model_module": "@jupyter-widgets/controls",
          "model_name": "DescriptionStyleModel",
          "model_module_version": "1.5.0",
          "state": {
            "_model_module": "@jupyter-widgets/controls",
            "_model_module_version": "1.5.0",
            "_model_name": "DescriptionStyleModel",
            "_view_count": null,
            "_view_module": "@jupyter-widgets/base",
            "_view_module_version": "1.2.0",
            "_view_name": "StyleView",
            "description_width": ""
          }
        },
        "23bf151bb5d8465e8224e79152272218": {
          "model_module": "@jupyter-widgets/base",
          "model_name": "LayoutModel",
          "model_module_version": "1.2.0",
          "state": {
            "_model_module": "@jupyter-widgets/base",
            "_model_module_version": "1.2.0",
            "_model_name": "LayoutModel",
            "_view_count": null,
            "_view_module": "@jupyter-widgets/base",
            "_view_module_version": "1.2.0",
            "_view_name": "LayoutView",
            "align_content": null,
            "align_items": null,
            "align_self": null,
            "border": null,
            "bottom": null,
            "display": null,
            "flex": null,
            "flex_flow": null,
            "grid_area": null,
            "grid_auto_columns": null,
            "grid_auto_flow": null,
            "grid_auto_rows": null,
            "grid_column": null,
            "grid_gap": null,
            "grid_row": null,
            "grid_template_areas": null,
            "grid_template_columns": null,
            "grid_template_rows": null,
            "height": null,
            "justify_content": null,
            "justify_items": null,
            "left": null,
            "margin": null,
            "max_height": null,
            "max_width": null,
            "min_height": null,
            "min_width": null,
            "object_fit": null,
            "object_position": null,
            "order": null,
            "overflow": null,
            "overflow_x": null,
            "overflow_y": null,
            "padding": null,
            "right": null,
            "top": null,
            "visibility": null,
            "width": null
          }
        },
        "57ec6b033df041c49241573d29f1e462": {
          "model_module": "@jupyter-widgets/controls",
          "model_name": "ProgressStyleModel",
          "model_module_version": "1.5.0",
          "state": {
            "_model_module": "@jupyter-widgets/controls",
            "_model_module_version": "1.5.0",
            "_model_name": "ProgressStyleModel",
            "_view_count": null,
            "_view_module": "@jupyter-widgets/base",
            "_view_module_version": "1.2.0",
            "_view_name": "StyleView",
            "bar_color": null,
            "description_width": ""
          }
        },
        "0a0af69156d14ddc967f6c7a3bfb20da": {
          "model_module": "@jupyter-widgets/base",
          "model_name": "LayoutModel",
          "model_module_version": "1.2.0",
          "state": {
            "_model_module": "@jupyter-widgets/base",
            "_model_module_version": "1.2.0",
            "_model_name": "LayoutModel",
            "_view_count": null,
            "_view_module": "@jupyter-widgets/base",
            "_view_module_version": "1.2.0",
            "_view_name": "LayoutView",
            "align_content": null,
            "align_items": null,
            "align_self": null,
            "border": null,
            "bottom": null,
            "display": null,
            "flex": null,
            "flex_flow": null,
            "grid_area": null,
            "grid_auto_columns": null,
            "grid_auto_flow": null,
            "grid_auto_rows": null,
            "grid_column": null,
            "grid_gap": null,
            "grid_row": null,
            "grid_template_areas": null,
            "grid_template_columns": null,
            "grid_template_rows": null,
            "height": null,
            "justify_content": null,
            "justify_items": null,
            "left": null,
            "margin": null,
            "max_height": null,
            "max_width": null,
            "min_height": null,
            "min_width": null,
            "object_fit": null,
            "object_position": null,
            "order": null,
            "overflow": null,
            "overflow_x": null,
            "overflow_y": null,
            "padding": null,
            "right": null,
            "top": null,
            "visibility": null,
            "width": null
          }
        },
        "e028de6f2fbb4121b03034b8014f64f5": {
          "model_module": "@jupyter-widgets/controls",
          "model_name": "DescriptionStyleModel",
          "model_module_version": "1.5.0",
          "state": {
            "_model_module": "@jupyter-widgets/controls",
            "_model_module_version": "1.5.0",
            "_model_name": "DescriptionStyleModel",
            "_view_count": null,
            "_view_module": "@jupyter-widgets/base",
            "_view_module_version": "1.2.0",
            "_view_name": "StyleView",
            "description_width": ""
          }
        },
        "6ee9c7d83dab4722813a77bf903bb363": {
          "model_module": "@jupyter-widgets/controls",
          "model_name": "HBoxModel",
          "model_module_version": "1.5.0",
          "state": {
            "_dom_classes": [],
            "_model_module": "@jupyter-widgets/controls",
            "_model_module_version": "1.5.0",
            "_model_name": "HBoxModel",
            "_view_count": null,
            "_view_module": "@jupyter-widgets/controls",
            "_view_module_version": "1.5.0",
            "_view_name": "HBoxView",
            "box_style": "",
            "children": [
              "IPY_MODEL_3a8c218333124a47910253ade195c0f6",
              "IPY_MODEL_f19d135827ef424f8dc27b7f81f54835",
              "IPY_MODEL_9b34bfb156544bf19bf965505df81f9f"
            ],
            "layout": "IPY_MODEL_99c7e712edc3431aa39a96c124248962"
          }
        },
        "3a8c218333124a47910253ade195c0f6": {
          "model_module": "@jupyter-widgets/controls",
          "model_name": "HTMLModel",
          "model_module_version": "1.5.0",
          "state": {
            "_dom_classes": [],
            "_model_module": "@jupyter-widgets/controls",
            "_model_module_version": "1.5.0",
            "_model_name": "HTMLModel",
            "_view_count": null,
            "_view_module": "@jupyter-widgets/controls",
            "_view_module_version": "1.5.0",
            "_view_name": "HTMLView",
            "description": "",
            "description_tooltip": null,
            "layout": "IPY_MODEL_c9f642690cbf42dfb24a599293f2357f",
            "placeholder": "​",
            "style": "IPY_MODEL_40e40bef9799408596dadc886810fdad",
            "value": "Downloading data: 100%"
          }
        },
        "f19d135827ef424f8dc27b7f81f54835": {
          "model_module": "@jupyter-widgets/controls",
          "model_name": "FloatProgressModel",
          "model_module_version": "1.5.0",
          "state": {
            "_dom_classes": [],
            "_model_module": "@jupyter-widgets/controls",
            "_model_module_version": "1.5.0",
            "_model_name": "FloatProgressModel",
            "_view_count": null,
            "_view_module": "@jupyter-widgets/controls",
            "_view_module_version": "1.5.0",
            "_view_name": "ProgressView",
            "bar_style": "success",
            "description": "",
            "description_tooltip": null,
            "layout": "IPY_MODEL_7b8994e8313a41e5bc5d50f329d5ade5",
            "max": 335858,
            "min": 0,
            "orientation": "horizontal",
            "style": "IPY_MODEL_33c80ae6a6b046328e1f8381d940a470",
            "value": 335858
          }
        },
        "9b34bfb156544bf19bf965505df81f9f": {
          "model_module": "@jupyter-widgets/controls",
          "model_name": "HTMLModel",
          "model_module_version": "1.5.0",
          "state": {
            "_dom_classes": [],
            "_model_module": "@jupyter-widgets/controls",
            "_model_module_version": "1.5.0",
            "_model_name": "HTMLModel",
            "_view_count": null,
            "_view_module": "@jupyter-widgets/controls",
            "_view_module_version": "1.5.0",
            "_view_name": "HTMLView",
            "description": "",
            "description_tooltip": null,
            "layout": "IPY_MODEL_f36f9fb7aedf4eb5b4e7f8e3e550b23a",
            "placeholder": "​",
            "style": "IPY_MODEL_b87f5645b6f6484a956ca9efb8f9316a",
            "value": " 336k/336k [00:00&lt;00:00, 564kB/s]"
          }
        },
        "99c7e712edc3431aa39a96c124248962": {
          "model_module": "@jupyter-widgets/base",
          "model_name": "LayoutModel",
          "model_module_version": "1.2.0",
          "state": {
            "_model_module": "@jupyter-widgets/base",
            "_model_module_version": "1.2.0",
            "_model_name": "LayoutModel",
            "_view_count": null,
            "_view_module": "@jupyter-widgets/base",
            "_view_module_version": "1.2.0",
            "_view_name": "LayoutView",
            "align_content": null,
            "align_items": null,
            "align_self": null,
            "border": null,
            "bottom": null,
            "display": null,
            "flex": null,
            "flex_flow": null,
            "grid_area": null,
            "grid_auto_columns": null,
            "grid_auto_flow": null,
            "grid_auto_rows": null,
            "grid_column": null,
            "grid_gap": null,
            "grid_row": null,
            "grid_template_areas": null,
            "grid_template_columns": null,
            "grid_template_rows": null,
            "height": null,
            "justify_content": null,
            "justify_items": null,
            "left": null,
            "margin": null,
            "max_height": null,
            "max_width": null,
            "min_height": null,
            "min_width": null,
            "object_fit": null,
            "object_position": null,
            "order": null,
            "overflow": null,
            "overflow_x": null,
            "overflow_y": null,
            "padding": null,
            "right": null,
            "top": null,
            "visibility": null,
            "width": null
          }
        },
        "c9f642690cbf42dfb24a599293f2357f": {
          "model_module": "@jupyter-widgets/base",
          "model_name": "LayoutModel",
          "model_module_version": "1.2.0",
          "state": {
            "_model_module": "@jupyter-widgets/base",
            "_model_module_version": "1.2.0",
            "_model_name": "LayoutModel",
            "_view_count": null,
            "_view_module": "@jupyter-widgets/base",
            "_view_module_version": "1.2.0",
            "_view_name": "LayoutView",
            "align_content": null,
            "align_items": null,
            "align_self": null,
            "border": null,
            "bottom": null,
            "display": null,
            "flex": null,
            "flex_flow": null,
            "grid_area": null,
            "grid_auto_columns": null,
            "grid_auto_flow": null,
            "grid_auto_rows": null,
            "grid_column": null,
            "grid_gap": null,
            "grid_row": null,
            "grid_template_areas": null,
            "grid_template_columns": null,
            "grid_template_rows": null,
            "height": null,
            "justify_content": null,
            "justify_items": null,
            "left": null,
            "margin": null,
            "max_height": null,
            "max_width": null,
            "min_height": null,
            "min_width": null,
            "object_fit": null,
            "object_position": null,
            "order": null,
            "overflow": null,
            "overflow_x": null,
            "overflow_y": null,
            "padding": null,
            "right": null,
            "top": null,
            "visibility": null,
            "width": null
          }
        },
        "40e40bef9799408596dadc886810fdad": {
          "model_module": "@jupyter-widgets/controls",
          "model_name": "DescriptionStyleModel",
          "model_module_version": "1.5.0",
          "state": {
            "_model_module": "@jupyter-widgets/controls",
            "_model_module_version": "1.5.0",
            "_model_name": "DescriptionStyleModel",
            "_view_count": null,
            "_view_module": "@jupyter-widgets/base",
            "_view_module_version": "1.2.0",
            "_view_name": "StyleView",
            "description_width": ""
          }
        },
        "7b8994e8313a41e5bc5d50f329d5ade5": {
          "model_module": "@jupyter-widgets/base",
          "model_name": "LayoutModel",
          "model_module_version": "1.2.0",
          "state": {
            "_model_module": "@jupyter-widgets/base",
            "_model_module_version": "1.2.0",
            "_model_name": "LayoutModel",
            "_view_count": null,
            "_view_module": "@jupyter-widgets/base",
            "_view_module_version": "1.2.0",
            "_view_name": "LayoutView",
            "align_content": null,
            "align_items": null,
            "align_self": null,
            "border": null,
            "bottom": null,
            "display": null,
            "flex": null,
            "flex_flow": null,
            "grid_area": null,
            "grid_auto_columns": null,
            "grid_auto_flow": null,
            "grid_auto_rows": null,
            "grid_column": null,
            "grid_gap": null,
            "grid_row": null,
            "grid_template_areas": null,
            "grid_template_columns": null,
            "grid_template_rows": null,
            "height": null,
            "justify_content": null,
            "justify_items": null,
            "left": null,
            "margin": null,
            "max_height": null,
            "max_width": null,
            "min_height": null,
            "min_width": null,
            "object_fit": null,
            "object_position": null,
            "order": null,
            "overflow": null,
            "overflow_x": null,
            "overflow_y": null,
            "padding": null,
            "right": null,
            "top": null,
            "visibility": null,
            "width": null
          }
        },
        "33c80ae6a6b046328e1f8381d940a470": {
          "model_module": "@jupyter-widgets/controls",
          "model_name": "ProgressStyleModel",
          "model_module_version": "1.5.0",
          "state": {
            "_model_module": "@jupyter-widgets/controls",
            "_model_module_version": "1.5.0",
            "_model_name": "ProgressStyleModel",
            "_view_count": null,
            "_view_module": "@jupyter-widgets/base",
            "_view_module_version": "1.2.0",
            "_view_name": "StyleView",
            "bar_color": null,
            "description_width": ""
          }
        },
        "f36f9fb7aedf4eb5b4e7f8e3e550b23a": {
          "model_module": "@jupyter-widgets/base",
          "model_name": "LayoutModel",
          "model_module_version": "1.2.0",
          "state": {
            "_model_module": "@jupyter-widgets/base",
            "_model_module_version": "1.2.0",
            "_model_name": "LayoutModel",
            "_view_count": null,
            "_view_module": "@jupyter-widgets/base",
            "_view_module_version": "1.2.0",
            "_view_name": "LayoutView",
            "align_content": null,
            "align_items": null,
            "align_self": null,
            "border": null,
            "bottom": null,
            "display": null,
            "flex": null,
            "flex_flow": null,
            "grid_area": null,
            "grid_auto_columns": null,
            "grid_auto_flow": null,
            "grid_auto_rows": null,
            "grid_column": null,
            "grid_gap": null,
            "grid_row": null,
            "grid_template_areas": null,
            "grid_template_columns": null,
            "grid_template_rows": null,
            "height": null,
            "justify_content": null,
            "justify_items": null,
            "left": null,
            "margin": null,
            "max_height": null,
            "max_width": null,
            "min_height": null,
            "min_width": null,
            "object_fit": null,
            "object_position": null,
            "order": null,
            "overflow": null,
            "overflow_x": null,
            "overflow_y": null,
            "padding": null,
            "right": null,
            "top": null,
            "visibility": null,
            "width": null
          }
        },
        "b87f5645b6f6484a956ca9efb8f9316a": {
          "model_module": "@jupyter-widgets/controls",
          "model_name": "DescriptionStyleModel",
          "model_module_version": "1.5.0",
          "state": {
            "_model_module": "@jupyter-widgets/controls",
            "_model_module_version": "1.5.0",
            "_model_name": "DescriptionStyleModel",
            "_view_count": null,
            "_view_module": "@jupyter-widgets/base",
            "_view_module_version": "1.2.0",
            "_view_name": "StyleView",
            "description_width": ""
          }
        },
        "bed491e2d9204df1a79ec13e752b2228": {
          "model_module": "@jupyter-widgets/controls",
          "model_name": "HBoxModel",
          "model_module_version": "1.5.0",
          "state": {
            "_dom_classes": [],
            "_model_module": "@jupyter-widgets/controls",
            "_model_module_version": "1.5.0",
            "_model_name": "HBoxModel",
            "_view_count": null,
            "_view_module": "@jupyter-widgets/controls",
            "_view_module_version": "1.5.0",
            "_view_name": "HBoxView",
            "box_style": "",
            "children": [
              "IPY_MODEL_5be68df0d4364ea9aad65ac94651a56f",
              "IPY_MODEL_221ae31bc5174877a50677eb48635a75",
              "IPY_MODEL_8d9e8f98857b4fca90f48a18e113b70a"
            ],
            "layout": "IPY_MODEL_f3726a2dd3084a4c943ec4252eaa48a2"
          }
        },
        "5be68df0d4364ea9aad65ac94651a56f": {
          "model_module": "@jupyter-widgets/controls",
          "model_name": "HTMLModel",
          "model_module_version": "1.5.0",
          "state": {
            "_dom_classes": [],
            "_model_module": "@jupyter-widgets/controls",
            "_model_module_version": "1.5.0",
            "_model_name": "HTMLModel",
            "_view_count": null,
            "_view_module": "@jupyter-widgets/controls",
            "_view_module_version": "1.5.0",
            "_view_name": "HTMLView",
            "description": "",
            "description_tooltip": null,
            "layout": "IPY_MODEL_ec37b90d855d4334b57fd39abd52ae2e",
            "placeholder": "​",
            "style": "IPY_MODEL_be71ee88a4c84886b00cb82fe777e7c5",
            "value": "Downloading data: 100%"
          }
        },
        "221ae31bc5174877a50677eb48635a75": {
          "model_module": "@jupyter-widgets/controls",
          "model_name": "FloatProgressModel",
          "model_module_version": "1.5.0",
          "state": {
            "_dom_classes": [],
            "_model_module": "@jupyter-widgets/controls",
            "_model_module_version": "1.5.0",
            "_model_name": "FloatProgressModel",
            "_view_count": null,
            "_view_module": "@jupyter-widgets/controls",
            "_view_module_version": "1.5.0",
            "_view_name": "ProgressView",
            "bar_style": "success",
            "description": "",
            "description_tooltip": null,
            "layout": "IPY_MODEL_38c7f3d4988b4a7a88c4364f17791511",
            "max": 23354,
            "min": 0,
            "orientation": "horizontal",
            "style": "IPY_MODEL_493f1a1a2aa2413b9b8c63c0631d970d",
            "value": 23354
          }
        },
        "8d9e8f98857b4fca90f48a18e113b70a": {
          "model_module": "@jupyter-widgets/controls",
          "model_name": "HTMLModel",
          "model_module_version": "1.5.0",
          "state": {
            "_dom_classes": [],
            "_model_module": "@jupyter-widgets/controls",
            "_model_module_version": "1.5.0",
            "_model_name": "HTMLModel",
            "_view_count": null,
            "_view_module": "@jupyter-widgets/controls",
            "_view_module_version": "1.5.0",
            "_view_name": "HTMLView",
            "description": "",
            "description_tooltip": null,
            "layout": "IPY_MODEL_05c01e8b2d194a0f938679cc58040bbd",
            "placeholder": "​",
            "style": "IPY_MODEL_0ec1b3becd1041939a5efb4c28c40bcb",
            "value": " 23.4k/23.4k [00:00&lt;00:00, 274kB/s]"
          }
        },
        "f3726a2dd3084a4c943ec4252eaa48a2": {
          "model_module": "@jupyter-widgets/base",
          "model_name": "LayoutModel",
          "model_module_version": "1.2.0",
          "state": {
            "_model_module": "@jupyter-widgets/base",
            "_model_module_version": "1.2.0",
            "_model_name": "LayoutModel",
            "_view_count": null,
            "_view_module": "@jupyter-widgets/base",
            "_view_module_version": "1.2.0",
            "_view_name": "LayoutView",
            "align_content": null,
            "align_items": null,
            "align_self": null,
            "border": null,
            "bottom": null,
            "display": null,
            "flex": null,
            "flex_flow": null,
            "grid_area": null,
            "grid_auto_columns": null,
            "grid_auto_flow": null,
            "grid_auto_rows": null,
            "grid_column": null,
            "grid_gap": null,
            "grid_row": null,
            "grid_template_areas": null,
            "grid_template_columns": null,
            "grid_template_rows": null,
            "height": null,
            "justify_content": null,
            "justify_items": null,
            "left": null,
            "margin": null,
            "max_height": null,
            "max_width": null,
            "min_height": null,
            "min_width": null,
            "object_fit": null,
            "object_position": null,
            "order": null,
            "overflow": null,
            "overflow_x": null,
            "overflow_y": null,
            "padding": null,
            "right": null,
            "top": null,
            "visibility": null,
            "width": null
          }
        },
        "ec37b90d855d4334b57fd39abd52ae2e": {
          "model_module": "@jupyter-widgets/base",
          "model_name": "LayoutModel",
          "model_module_version": "1.2.0",
          "state": {
            "_model_module": "@jupyter-widgets/base",
            "_model_module_version": "1.2.0",
            "_model_name": "LayoutModel",
            "_view_count": null,
            "_view_module": "@jupyter-widgets/base",
            "_view_module_version": "1.2.0",
            "_view_name": "LayoutView",
            "align_content": null,
            "align_items": null,
            "align_self": null,
            "border": null,
            "bottom": null,
            "display": null,
            "flex": null,
            "flex_flow": null,
            "grid_area": null,
            "grid_auto_columns": null,
            "grid_auto_flow": null,
            "grid_auto_rows": null,
            "grid_column": null,
            "grid_gap": null,
            "grid_row": null,
            "grid_template_areas": null,
            "grid_template_columns": null,
            "grid_template_rows": null,
            "height": null,
            "justify_content": null,
            "justify_items": null,
            "left": null,
            "margin": null,
            "max_height": null,
            "max_width": null,
            "min_height": null,
            "min_width": null,
            "object_fit": null,
            "object_position": null,
            "order": null,
            "overflow": null,
            "overflow_x": null,
            "overflow_y": null,
            "padding": null,
            "right": null,
            "top": null,
            "visibility": null,
            "width": null
          }
        },
        "be71ee88a4c84886b00cb82fe777e7c5": {
          "model_module": "@jupyter-widgets/controls",
          "model_name": "DescriptionStyleModel",
          "model_module_version": "1.5.0",
          "state": {
            "_model_module": "@jupyter-widgets/controls",
            "_model_module_version": "1.5.0",
            "_model_name": "DescriptionStyleModel",
            "_view_count": null,
            "_view_module": "@jupyter-widgets/base",
            "_view_module_version": "1.2.0",
            "_view_name": "StyleView",
            "description_width": ""
          }
        },
        "38c7f3d4988b4a7a88c4364f17791511": {
          "model_module": "@jupyter-widgets/base",
          "model_name": "LayoutModel",
          "model_module_version": "1.2.0",
          "state": {
            "_model_module": "@jupyter-widgets/base",
            "_model_module_version": "1.2.0",
            "_model_name": "LayoutModel",
            "_view_count": null,
            "_view_module": "@jupyter-widgets/base",
            "_view_module_version": "1.2.0",
            "_view_name": "LayoutView",
            "align_content": null,
            "align_items": null,
            "align_self": null,
            "border": null,
            "bottom": null,
            "display": null,
            "flex": null,
            "flex_flow": null,
            "grid_area": null,
            "grid_auto_columns": null,
            "grid_auto_flow": null,
            "grid_auto_rows": null,
            "grid_column": null,
            "grid_gap": null,
            "grid_row": null,
            "grid_template_areas": null,
            "grid_template_columns": null,
            "grid_template_rows": null,
            "height": null,
            "justify_content": null,
            "justify_items": null,
            "left": null,
            "margin": null,
            "max_height": null,
            "max_width": null,
            "min_height": null,
            "min_width": null,
            "object_fit": null,
            "object_position": null,
            "order": null,
            "overflow": null,
            "overflow_x": null,
            "overflow_y": null,
            "padding": null,
            "right": null,
            "top": null,
            "visibility": null,
            "width": null
          }
        },
        "493f1a1a2aa2413b9b8c63c0631d970d": {
          "model_module": "@jupyter-widgets/controls",
          "model_name": "ProgressStyleModel",
          "model_module_version": "1.5.0",
          "state": {
            "_model_module": "@jupyter-widgets/controls",
            "_model_module_version": "1.5.0",
            "_model_name": "ProgressStyleModel",
            "_view_count": null,
            "_view_module": "@jupyter-widgets/base",
            "_view_module_version": "1.2.0",
            "_view_name": "StyleView",
            "bar_color": null,
            "description_width": ""
          }
        },
        "05c01e8b2d194a0f938679cc58040bbd": {
          "model_module": "@jupyter-widgets/base",
          "model_name": "LayoutModel",
          "model_module_version": "1.2.0",
          "state": {
            "_model_module": "@jupyter-widgets/base",
            "_model_module_version": "1.2.0",
            "_model_name": "LayoutModel",
            "_view_count": null,
            "_view_module": "@jupyter-widgets/base",
            "_view_module_version": "1.2.0",
            "_view_name": "LayoutView",
            "align_content": null,
            "align_items": null,
            "align_self": null,
            "border": null,
            "bottom": null,
            "display": null,
            "flex": null,
            "flex_flow": null,
            "grid_area": null,
            "grid_auto_columns": null,
            "grid_auto_flow": null,
            "grid_auto_rows": null,
            "grid_column": null,
            "grid_gap": null,
            "grid_row": null,
            "grid_template_areas": null,
            "grid_template_columns": null,
            "grid_template_rows": null,
            "height": null,
            "justify_content": null,
            "justify_items": null,
            "left": null,
            "margin": null,
            "max_height": null,
            "max_width": null,
            "min_height": null,
            "min_width": null,
            "object_fit": null,
            "object_position": null,
            "order": null,
            "overflow": null,
            "overflow_x": null,
            "overflow_y": null,
            "padding": null,
            "right": null,
            "top": null,
            "visibility": null,
            "width": null
          }
        },
        "0ec1b3becd1041939a5efb4c28c40bcb": {
          "model_module": "@jupyter-widgets/controls",
          "model_name": "DescriptionStyleModel",
          "model_module_version": "1.5.0",
          "state": {
            "_model_module": "@jupyter-widgets/controls",
            "_model_module_version": "1.5.0",
            "_model_name": "DescriptionStyleModel",
            "_view_count": null,
            "_view_module": "@jupyter-widgets/base",
            "_view_module_version": "1.2.0",
            "_view_name": "StyleView",
            "description_width": ""
          }
        },
        "20fe8190ad5643deb3996795f2b92c34": {
          "model_module": "@jupyter-widgets/controls",
          "model_name": "HBoxModel",
          "model_module_version": "1.5.0",
          "state": {
            "_dom_classes": [],
            "_model_module": "@jupyter-widgets/controls",
            "_model_module_version": "1.5.0",
            "_model_name": "HBoxModel",
            "_view_count": null,
            "_view_module": "@jupyter-widgets/controls",
            "_view_module_version": "1.5.0",
            "_view_name": "HBoxView",
            "box_style": "",
            "children": [
              "IPY_MODEL_3accd63138dc4170bc4fcc92c6e22a89",
              "IPY_MODEL_41f1200aa43a4a75b6a34a776da9cf1e",
              "IPY_MODEL_63172f92c1dd4877a347e162889cbdad"
            ],
            "layout": "IPY_MODEL_c7a06ec417f441d4aa6f86be8cb8a028"
          }
        },
        "3accd63138dc4170bc4fcc92c6e22a89": {
          "model_module": "@jupyter-widgets/controls",
          "model_name": "HTMLModel",
          "model_module_version": "1.5.0",
          "state": {
            "_dom_classes": [],
            "_model_module": "@jupyter-widgets/controls",
            "_model_module_version": "1.5.0",
            "_model_name": "HTMLModel",
            "_view_count": null,
            "_view_module": "@jupyter-widgets/controls",
            "_view_module_version": "1.5.0",
            "_view_name": "HTMLView",
            "description": "",
            "description_tooltip": null,
            "layout": "IPY_MODEL_9d2a8b591d6441dfbe201d018fe739c5",
            "placeholder": "​",
            "style": "IPY_MODEL_7ed20a3847504f848d23e4f9f1a9e68d",
            "value": "Generating train split: 100%"
          }
        },
        "41f1200aa43a4a75b6a34a776da9cf1e": {
          "model_module": "@jupyter-widgets/controls",
          "model_name": "FloatProgressModel",
          "model_module_version": "1.5.0",
          "state": {
            "_dom_classes": [],
            "_model_module": "@jupyter-widgets/controls",
            "_model_module_version": "1.5.0",
            "_model_name": "FloatProgressModel",
            "_view_count": null,
            "_view_module": "@jupyter-widgets/controls",
            "_view_module_version": "1.5.0",
            "_view_name": "ProgressView",
            "bar_style": "success",
            "description": "",
            "description_tooltip": null,
            "layout": "IPY_MODEL_8f324c9c398c476cbae3f7e2d41b976d",
            "max": 5452,
            "min": 0,
            "orientation": "horizontal",
            "style": "IPY_MODEL_859f4b4c5a6a4d0983b85b88efce6eb7",
            "value": 5452
          }
        },
        "63172f92c1dd4877a347e162889cbdad": {
          "model_module": "@jupyter-widgets/controls",
          "model_name": "HTMLModel",
          "model_module_version": "1.5.0",
          "state": {
            "_dom_classes": [],
            "_model_module": "@jupyter-widgets/controls",
            "_model_module_version": "1.5.0",
            "_model_name": "HTMLModel",
            "_view_count": null,
            "_view_module": "@jupyter-widgets/controls",
            "_view_module_version": "1.5.0",
            "_view_name": "HTMLView",
            "description": "",
            "description_tooltip": null,
            "layout": "IPY_MODEL_a0503a881be249a0a79b44855e9fa5bf",
            "placeholder": "​",
            "style": "IPY_MODEL_e91d6922c42e4cb58f76266984bfaf61",
            "value": " 5452/5452 [00:00&lt;00:00, 34597.49 examples/s]"
          }
        },
        "c7a06ec417f441d4aa6f86be8cb8a028": {
          "model_module": "@jupyter-widgets/base",
          "model_name": "LayoutModel",
          "model_module_version": "1.2.0",
          "state": {
            "_model_module": "@jupyter-widgets/base",
            "_model_module_version": "1.2.0",
            "_model_name": "LayoutModel",
            "_view_count": null,
            "_view_module": "@jupyter-widgets/base",
            "_view_module_version": "1.2.0",
            "_view_name": "LayoutView",
            "align_content": null,
            "align_items": null,
            "align_self": null,
            "border": null,
            "bottom": null,
            "display": null,
            "flex": null,
            "flex_flow": null,
            "grid_area": null,
            "grid_auto_columns": null,
            "grid_auto_flow": null,
            "grid_auto_rows": null,
            "grid_column": null,
            "grid_gap": null,
            "grid_row": null,
            "grid_template_areas": null,
            "grid_template_columns": null,
            "grid_template_rows": null,
            "height": null,
            "justify_content": null,
            "justify_items": null,
            "left": null,
            "margin": null,
            "max_height": null,
            "max_width": null,
            "min_height": null,
            "min_width": null,
            "object_fit": null,
            "object_position": null,
            "order": null,
            "overflow": null,
            "overflow_x": null,
            "overflow_y": null,
            "padding": null,
            "right": null,
            "top": null,
            "visibility": null,
            "width": null
          }
        },
        "9d2a8b591d6441dfbe201d018fe739c5": {
          "model_module": "@jupyter-widgets/base",
          "model_name": "LayoutModel",
          "model_module_version": "1.2.0",
          "state": {
            "_model_module": "@jupyter-widgets/base",
            "_model_module_version": "1.2.0",
            "_model_name": "LayoutModel",
            "_view_count": null,
            "_view_module": "@jupyter-widgets/base",
            "_view_module_version": "1.2.0",
            "_view_name": "LayoutView",
            "align_content": null,
            "align_items": null,
            "align_self": null,
            "border": null,
            "bottom": null,
            "display": null,
            "flex": null,
            "flex_flow": null,
            "grid_area": null,
            "grid_auto_columns": null,
            "grid_auto_flow": null,
            "grid_auto_rows": null,
            "grid_column": null,
            "grid_gap": null,
            "grid_row": null,
            "grid_template_areas": null,
            "grid_template_columns": null,
            "grid_template_rows": null,
            "height": null,
            "justify_content": null,
            "justify_items": null,
            "left": null,
            "margin": null,
            "max_height": null,
            "max_width": null,
            "min_height": null,
            "min_width": null,
            "object_fit": null,
            "object_position": null,
            "order": null,
            "overflow": null,
            "overflow_x": null,
            "overflow_y": null,
            "padding": null,
            "right": null,
            "top": null,
            "visibility": null,
            "width": null
          }
        },
        "7ed20a3847504f848d23e4f9f1a9e68d": {
          "model_module": "@jupyter-widgets/controls",
          "model_name": "DescriptionStyleModel",
          "model_module_version": "1.5.0",
          "state": {
            "_model_module": "@jupyter-widgets/controls",
            "_model_module_version": "1.5.0",
            "_model_name": "DescriptionStyleModel",
            "_view_count": null,
            "_view_module": "@jupyter-widgets/base",
            "_view_module_version": "1.2.0",
            "_view_name": "StyleView",
            "description_width": ""
          }
        },
        "8f324c9c398c476cbae3f7e2d41b976d": {
          "model_module": "@jupyter-widgets/base",
          "model_name": "LayoutModel",
          "model_module_version": "1.2.0",
          "state": {
            "_model_module": "@jupyter-widgets/base",
            "_model_module_version": "1.2.0",
            "_model_name": "LayoutModel",
            "_view_count": null,
            "_view_module": "@jupyter-widgets/base",
            "_view_module_version": "1.2.0",
            "_view_name": "LayoutView",
            "align_content": null,
            "align_items": null,
            "align_self": null,
            "border": null,
            "bottom": null,
            "display": null,
            "flex": null,
            "flex_flow": null,
            "grid_area": null,
            "grid_auto_columns": null,
            "grid_auto_flow": null,
            "grid_auto_rows": null,
            "grid_column": null,
            "grid_gap": null,
            "grid_row": null,
            "grid_template_areas": null,
            "grid_template_columns": null,
            "grid_template_rows": null,
            "height": null,
            "justify_content": null,
            "justify_items": null,
            "left": null,
            "margin": null,
            "max_height": null,
            "max_width": null,
            "min_height": null,
            "min_width": null,
            "object_fit": null,
            "object_position": null,
            "order": null,
            "overflow": null,
            "overflow_x": null,
            "overflow_y": null,
            "padding": null,
            "right": null,
            "top": null,
            "visibility": null,
            "width": null
          }
        },
        "859f4b4c5a6a4d0983b85b88efce6eb7": {
          "model_module": "@jupyter-widgets/controls",
          "model_name": "ProgressStyleModel",
          "model_module_version": "1.5.0",
          "state": {
            "_model_module": "@jupyter-widgets/controls",
            "_model_module_version": "1.5.0",
            "_model_name": "ProgressStyleModel",
            "_view_count": null,
            "_view_module": "@jupyter-widgets/base",
            "_view_module_version": "1.2.0",
            "_view_name": "StyleView",
            "bar_color": null,
            "description_width": ""
          }
        },
        "a0503a881be249a0a79b44855e9fa5bf": {
          "model_module": "@jupyter-widgets/base",
          "model_name": "LayoutModel",
          "model_module_version": "1.2.0",
          "state": {
            "_model_module": "@jupyter-widgets/base",
            "_model_module_version": "1.2.0",
            "_model_name": "LayoutModel",
            "_view_count": null,
            "_view_module": "@jupyter-widgets/base",
            "_view_module_version": "1.2.0",
            "_view_name": "LayoutView",
            "align_content": null,
            "align_items": null,
            "align_self": null,
            "border": null,
            "bottom": null,
            "display": null,
            "flex": null,
            "flex_flow": null,
            "grid_area": null,
            "grid_auto_columns": null,
            "grid_auto_flow": null,
            "grid_auto_rows": null,
            "grid_column": null,
            "grid_gap": null,
            "grid_row": null,
            "grid_template_areas": null,
            "grid_template_columns": null,
            "grid_template_rows": null,
            "height": null,
            "justify_content": null,
            "justify_items": null,
            "left": null,
            "margin": null,
            "max_height": null,
            "max_width": null,
            "min_height": null,
            "min_width": null,
            "object_fit": null,
            "object_position": null,
            "order": null,
            "overflow": null,
            "overflow_x": null,
            "overflow_y": null,
            "padding": null,
            "right": null,
            "top": null,
            "visibility": null,
            "width": null
          }
        },
        "e91d6922c42e4cb58f76266984bfaf61": {
          "model_module": "@jupyter-widgets/controls",
          "model_name": "DescriptionStyleModel",
          "model_module_version": "1.5.0",
          "state": {
            "_model_module": "@jupyter-widgets/controls",
            "_model_module_version": "1.5.0",
            "_model_name": "DescriptionStyleModel",
            "_view_count": null,
            "_view_module": "@jupyter-widgets/base",
            "_view_module_version": "1.2.0",
            "_view_name": "StyleView",
            "description_width": ""
          }
        },
        "b2bf22049ab04196b3100d5b59159c8b": {
          "model_module": "@jupyter-widgets/controls",
          "model_name": "HBoxModel",
          "model_module_version": "1.5.0",
          "state": {
            "_dom_classes": [],
            "_model_module": "@jupyter-widgets/controls",
            "_model_module_version": "1.5.0",
            "_model_name": "HBoxModel",
            "_view_count": null,
            "_view_module": "@jupyter-widgets/controls",
            "_view_module_version": "1.5.0",
            "_view_name": "HBoxView",
            "box_style": "",
            "children": [
              "IPY_MODEL_9cdd837b01ea45d08008b8a6825f7c84",
              "IPY_MODEL_9992dc860c504f4b8c43f9eb72365ce1",
              "IPY_MODEL_ecf3941a36c74564834226babb1586b7"
            ],
            "layout": "IPY_MODEL_97e3bda7fc48453183248eee4aad1eb4"
          }
        },
        "9cdd837b01ea45d08008b8a6825f7c84": {
          "model_module": "@jupyter-widgets/controls",
          "model_name": "HTMLModel",
          "model_module_version": "1.5.0",
          "state": {
            "_dom_classes": [],
            "_model_module": "@jupyter-widgets/controls",
            "_model_module_version": "1.5.0",
            "_model_name": "HTMLModel",
            "_view_count": null,
            "_view_module": "@jupyter-widgets/controls",
            "_view_module_version": "1.5.0",
            "_view_name": "HTMLView",
            "description": "",
            "description_tooltip": null,
            "layout": "IPY_MODEL_1d2c24d4bd024425b0abde588582af1e",
            "placeholder": "​",
            "style": "IPY_MODEL_fd0fddcb141042b99cf02887344d89e0",
            "value": "Generating test split: 100%"
          }
        },
        "9992dc860c504f4b8c43f9eb72365ce1": {
          "model_module": "@jupyter-widgets/controls",
          "model_name": "FloatProgressModel",
          "model_module_version": "1.5.0",
          "state": {
            "_dom_classes": [],
            "_model_module": "@jupyter-widgets/controls",
            "_model_module_version": "1.5.0",
            "_model_name": "FloatProgressModel",
            "_view_count": null,
            "_view_module": "@jupyter-widgets/controls",
            "_view_module_version": "1.5.0",
            "_view_name": "ProgressView",
            "bar_style": "success",
            "description": "",
            "description_tooltip": null,
            "layout": "IPY_MODEL_9cb463dc6ff24013a7a0bf828fdd8b4a",
            "max": 500,
            "min": 0,
            "orientation": "horizontal",
            "style": "IPY_MODEL_2f7d7dca070c4246b44fcb6573dcc2f6",
            "value": 500
          }
        },
        "ecf3941a36c74564834226babb1586b7": {
          "model_module": "@jupyter-widgets/controls",
          "model_name": "HTMLModel",
          "model_module_version": "1.5.0",
          "state": {
            "_dom_classes": [],
            "_model_module": "@jupyter-widgets/controls",
            "_model_module_version": "1.5.0",
            "_model_name": "HTMLModel",
            "_view_count": null,
            "_view_module": "@jupyter-widgets/controls",
            "_view_module_version": "1.5.0",
            "_view_name": "HTMLView",
            "description": "",
            "description_tooltip": null,
            "layout": "IPY_MODEL_1ca7c292b001404d97d66e4bcf8abe78",
            "placeholder": "​",
            "style": "IPY_MODEL_1ef605af5fb84f62b723d174ac089080",
            "value": " 500/500 [00:00&lt;00:00, 17277.01 examples/s]"
          }
        },
        "97e3bda7fc48453183248eee4aad1eb4": {
          "model_module": "@jupyter-widgets/base",
          "model_name": "LayoutModel",
          "model_module_version": "1.2.0",
          "state": {
            "_model_module": "@jupyter-widgets/base",
            "_model_module_version": "1.2.0",
            "_model_name": "LayoutModel",
            "_view_count": null,
            "_view_module": "@jupyter-widgets/base",
            "_view_module_version": "1.2.0",
            "_view_name": "LayoutView",
            "align_content": null,
            "align_items": null,
            "align_self": null,
            "border": null,
            "bottom": null,
            "display": null,
            "flex": null,
            "flex_flow": null,
            "grid_area": null,
            "grid_auto_columns": null,
            "grid_auto_flow": null,
            "grid_auto_rows": null,
            "grid_column": null,
            "grid_gap": null,
            "grid_row": null,
            "grid_template_areas": null,
            "grid_template_columns": null,
            "grid_template_rows": null,
            "height": null,
            "justify_content": null,
            "justify_items": null,
            "left": null,
            "margin": null,
            "max_height": null,
            "max_width": null,
            "min_height": null,
            "min_width": null,
            "object_fit": null,
            "object_position": null,
            "order": null,
            "overflow": null,
            "overflow_x": null,
            "overflow_y": null,
            "padding": null,
            "right": null,
            "top": null,
            "visibility": null,
            "width": null
          }
        },
        "1d2c24d4bd024425b0abde588582af1e": {
          "model_module": "@jupyter-widgets/base",
          "model_name": "LayoutModel",
          "model_module_version": "1.2.0",
          "state": {
            "_model_module": "@jupyter-widgets/base",
            "_model_module_version": "1.2.0",
            "_model_name": "LayoutModel",
            "_view_count": null,
            "_view_module": "@jupyter-widgets/base",
            "_view_module_version": "1.2.0",
            "_view_name": "LayoutView",
            "align_content": null,
            "align_items": null,
            "align_self": null,
            "border": null,
            "bottom": null,
            "display": null,
            "flex": null,
            "flex_flow": null,
            "grid_area": null,
            "grid_auto_columns": null,
            "grid_auto_flow": null,
            "grid_auto_rows": null,
            "grid_column": null,
            "grid_gap": null,
            "grid_row": null,
            "grid_template_areas": null,
            "grid_template_columns": null,
            "grid_template_rows": null,
            "height": null,
            "justify_content": null,
            "justify_items": null,
            "left": null,
            "margin": null,
            "max_height": null,
            "max_width": null,
            "min_height": null,
            "min_width": null,
            "object_fit": null,
            "object_position": null,
            "order": null,
            "overflow": null,
            "overflow_x": null,
            "overflow_y": null,
            "padding": null,
            "right": null,
            "top": null,
            "visibility": null,
            "width": null
          }
        },
        "fd0fddcb141042b99cf02887344d89e0": {
          "model_module": "@jupyter-widgets/controls",
          "model_name": "DescriptionStyleModel",
          "model_module_version": "1.5.0",
          "state": {
            "_model_module": "@jupyter-widgets/controls",
            "_model_module_version": "1.5.0",
            "_model_name": "DescriptionStyleModel",
            "_view_count": null,
            "_view_module": "@jupyter-widgets/base",
            "_view_module_version": "1.2.0",
            "_view_name": "StyleView",
            "description_width": ""
          }
        },
        "9cb463dc6ff24013a7a0bf828fdd8b4a": {
          "model_module": "@jupyter-widgets/base",
          "model_name": "LayoutModel",
          "model_module_version": "1.2.0",
          "state": {
            "_model_module": "@jupyter-widgets/base",
            "_model_module_version": "1.2.0",
            "_model_name": "LayoutModel",
            "_view_count": null,
            "_view_module": "@jupyter-widgets/base",
            "_view_module_version": "1.2.0",
            "_view_name": "LayoutView",
            "align_content": null,
            "align_items": null,
            "align_self": null,
            "border": null,
            "bottom": null,
            "display": null,
            "flex": null,
            "flex_flow": null,
            "grid_area": null,
            "grid_auto_columns": null,
            "grid_auto_flow": null,
            "grid_auto_rows": null,
            "grid_column": null,
            "grid_gap": null,
            "grid_row": null,
            "grid_template_areas": null,
            "grid_template_columns": null,
            "grid_template_rows": null,
            "height": null,
            "justify_content": null,
            "justify_items": null,
            "left": null,
            "margin": null,
            "max_height": null,
            "max_width": null,
            "min_height": null,
            "min_width": null,
            "object_fit": null,
            "object_position": null,
            "order": null,
            "overflow": null,
            "overflow_x": null,
            "overflow_y": null,
            "padding": null,
            "right": null,
            "top": null,
            "visibility": null,
            "width": null
          }
        },
        "2f7d7dca070c4246b44fcb6573dcc2f6": {
          "model_module": "@jupyter-widgets/controls",
          "model_name": "ProgressStyleModel",
          "model_module_version": "1.5.0",
          "state": {
            "_model_module": "@jupyter-widgets/controls",
            "_model_module_version": "1.5.0",
            "_model_name": "ProgressStyleModel",
            "_view_count": null,
            "_view_module": "@jupyter-widgets/base",
            "_view_module_version": "1.2.0",
            "_view_name": "StyleView",
            "bar_color": null,
            "description_width": ""
          }
        },
        "1ca7c292b001404d97d66e4bcf8abe78": {
          "model_module": "@jupyter-widgets/base",
          "model_name": "LayoutModel",
          "model_module_version": "1.2.0",
          "state": {
            "_model_module": "@jupyter-widgets/base",
            "_model_module_version": "1.2.0",
            "_model_name": "LayoutModel",
            "_view_count": null,
            "_view_module": "@jupyter-widgets/base",
            "_view_module_version": "1.2.0",
            "_view_name": "LayoutView",
            "align_content": null,
            "align_items": null,
            "align_self": null,
            "border": null,
            "bottom": null,
            "display": null,
            "flex": null,
            "flex_flow": null,
            "grid_area": null,
            "grid_auto_columns": null,
            "grid_auto_flow": null,
            "grid_auto_rows": null,
            "grid_column": null,
            "grid_gap": null,
            "grid_row": null,
            "grid_template_areas": null,
            "grid_template_columns": null,
            "grid_template_rows": null,
            "height": null,
            "justify_content": null,
            "justify_items": null,
            "left": null,
            "margin": null,
            "max_height": null,
            "max_width": null,
            "min_height": null,
            "min_width": null,
            "object_fit": null,
            "object_position": null,
            "order": null,
            "overflow": null,
            "overflow_x": null,
            "overflow_y": null,
            "padding": null,
            "right": null,
            "top": null,
            "visibility": null,
            "width": null
          }
        },
        "1ef605af5fb84f62b723d174ac089080": {
          "model_module": "@jupyter-widgets/controls",
          "model_name": "DescriptionStyleModel",
          "model_module_version": "1.5.0",
          "state": {
            "_model_module": "@jupyter-widgets/controls",
            "_model_module_version": "1.5.0",
            "_model_name": "DescriptionStyleModel",
            "_view_count": null,
            "_view_module": "@jupyter-widgets/base",
            "_view_module_version": "1.2.0",
            "_view_name": "StyleView",
            "description_width": ""
          }
        }
      }
    }
  },
  "cells": [
    {
      "cell_type": "markdown",
      "metadata": {
        "id": "view-in-github",
        "colab_type": "text"
      },
      "source": [
        "<a href=\"https://colab.research.google.com/github/Balajinanda/Large-Language-Models/blob/main/Text_Classification_of_LLMs.ipynb\" target=\"_parent\"><img src=\"https://colab.research.google.com/assets/colab-badge.svg\" alt=\"Open In Colab\"/></a>"
      ]
    },
    {
      "cell_type": "markdown",
      "source": [
        "# **Importing libraries**"
      ],
      "metadata": {
        "id": "y7eZjhKzR_Vj"
      }
    },
    {
      "cell_type": "code",
      "source": [
        "pip install datasets"
      ],
      "metadata": {
        "colab": {
          "base_uri": "https://localhost:8080/"
        },
        "collapsed": true,
        "id": "pZk-o1zQR_rt",
        "outputId": "75c6b13f-87de-4e98-9f0b-0b188629b7e5"
      },
      "execution_count": 1,
      "outputs": [
        {
          "output_type": "stream",
          "name": "stdout",
          "text": [
            "Collecting datasets\n",
            "  Downloading datasets-2.20.0-py3-none-any.whl.metadata (19 kB)\n",
            "Requirement already satisfied: filelock in /usr/local/lib/python3.10/dist-packages (from datasets) (3.15.4)\n",
            "Requirement already satisfied: numpy>=1.17 in /usr/local/lib/python3.10/dist-packages (from datasets) (1.26.4)\n",
            "Collecting pyarrow>=15.0.0 (from datasets)\n",
            "  Downloading pyarrow-17.0.0-cp310-cp310-manylinux_2_28_x86_64.whl.metadata (3.3 kB)\n",
            "Requirement already satisfied: pyarrow-hotfix in /usr/local/lib/python3.10/dist-packages (from datasets) (0.6)\n",
            "Collecting dill<0.3.9,>=0.3.0 (from datasets)\n",
            "  Downloading dill-0.3.8-py3-none-any.whl.metadata (10 kB)\n",
            "Requirement already satisfied: pandas in /usr/local/lib/python3.10/dist-packages (from datasets) (2.1.4)\n",
            "Requirement already satisfied: requests>=2.32.2 in /usr/local/lib/python3.10/dist-packages (from datasets) (2.32.3)\n",
            "Requirement already satisfied: tqdm>=4.66.3 in /usr/local/lib/python3.10/dist-packages (from datasets) (4.66.5)\n",
            "Collecting xxhash (from datasets)\n",
            "  Downloading xxhash-3.4.1-cp310-cp310-manylinux_2_17_x86_64.manylinux2014_x86_64.whl.metadata (12 kB)\n",
            "Collecting multiprocess (from datasets)\n",
            "  Downloading multiprocess-0.70.16-py310-none-any.whl.metadata (7.2 kB)\n",
            "Collecting fsspec<=2024.5.0,>=2023.1.0 (from fsspec[http]<=2024.5.0,>=2023.1.0->datasets)\n",
            "  Downloading fsspec-2024.5.0-py3-none-any.whl.metadata (11 kB)\n",
            "Requirement already satisfied: aiohttp in /usr/local/lib/python3.10/dist-packages (from datasets) (3.10.1)\n",
            "Requirement already satisfied: huggingface-hub>=0.21.2 in /usr/local/lib/python3.10/dist-packages (from datasets) (0.23.5)\n",
            "Requirement already satisfied: packaging in /usr/local/lib/python3.10/dist-packages (from datasets) (24.1)\n",
            "Requirement already satisfied: pyyaml>=5.1 in /usr/local/lib/python3.10/dist-packages (from datasets) (6.0.2)\n",
            "Requirement already satisfied: aiohappyeyeballs>=2.3.0 in /usr/local/lib/python3.10/dist-packages (from aiohttp->datasets) (2.3.4)\n",
            "Requirement already satisfied: aiosignal>=1.1.2 in /usr/local/lib/python3.10/dist-packages (from aiohttp->datasets) (1.3.1)\n",
            "Requirement already satisfied: attrs>=17.3.0 in /usr/local/lib/python3.10/dist-packages (from aiohttp->datasets) (24.2.0)\n",
            "Requirement already satisfied: frozenlist>=1.1.1 in /usr/local/lib/python3.10/dist-packages (from aiohttp->datasets) (1.4.1)\n",
            "Requirement already satisfied: multidict<7.0,>=4.5 in /usr/local/lib/python3.10/dist-packages (from aiohttp->datasets) (6.0.5)\n",
            "Requirement already satisfied: yarl<2.0,>=1.0 in /usr/local/lib/python3.10/dist-packages (from aiohttp->datasets) (1.9.4)\n",
            "Requirement already satisfied: async-timeout<5.0,>=4.0 in /usr/local/lib/python3.10/dist-packages (from aiohttp->datasets) (4.0.3)\n",
            "Requirement already satisfied: typing-extensions>=3.7.4.3 in /usr/local/lib/python3.10/dist-packages (from huggingface-hub>=0.21.2->datasets) (4.12.2)\n",
            "Requirement already satisfied: charset-normalizer<4,>=2 in /usr/local/lib/python3.10/dist-packages (from requests>=2.32.2->datasets) (3.3.2)\n",
            "Requirement already satisfied: idna<4,>=2.5 in /usr/local/lib/python3.10/dist-packages (from requests>=2.32.2->datasets) (3.7)\n",
            "Requirement already satisfied: urllib3<3,>=1.21.1 in /usr/local/lib/python3.10/dist-packages (from requests>=2.32.2->datasets) (2.0.7)\n",
            "Requirement already satisfied: certifi>=2017.4.17 in /usr/local/lib/python3.10/dist-packages (from requests>=2.32.2->datasets) (2024.7.4)\n",
            "Requirement already satisfied: python-dateutil>=2.8.2 in /usr/local/lib/python3.10/dist-packages (from pandas->datasets) (2.8.2)\n",
            "Requirement already satisfied: pytz>=2020.1 in /usr/local/lib/python3.10/dist-packages (from pandas->datasets) (2024.1)\n",
            "Requirement already satisfied: tzdata>=2022.1 in /usr/local/lib/python3.10/dist-packages (from pandas->datasets) (2024.1)\n",
            "Requirement already satisfied: six>=1.5 in /usr/local/lib/python3.10/dist-packages (from python-dateutil>=2.8.2->pandas->datasets) (1.16.0)\n",
            "Downloading datasets-2.20.0-py3-none-any.whl (547 kB)\n",
            "\u001b[2K   \u001b[90m━━━━━━━━━━━━━━━━━━━━━━━━━━━━━━━━━━━━━━━━\u001b[0m \u001b[32m547.8/547.8 kB\u001b[0m \u001b[31m16.9 MB/s\u001b[0m eta \u001b[36m0:00:00\u001b[0m\n",
            "\u001b[?25hDownloading dill-0.3.8-py3-none-any.whl (116 kB)\n",
            "\u001b[2K   \u001b[90m━━━━━━━━━━━━━━━━━━━━━━━━━━━━━━━━━━━━━━━━\u001b[0m \u001b[32m116.3/116.3 kB\u001b[0m \u001b[31m5.1 MB/s\u001b[0m eta \u001b[36m0:00:00\u001b[0m\n",
            "\u001b[?25hDownloading fsspec-2024.5.0-py3-none-any.whl (316 kB)\n",
            "\u001b[2K   \u001b[90m━━━━━━━━━━━━━━━━━━━━━━━━━━━━━━━━━━━━━━━━\u001b[0m \u001b[32m316.1/316.1 kB\u001b[0m \u001b[31m18.0 MB/s\u001b[0m eta \u001b[36m0:00:00\u001b[0m\n",
            "\u001b[?25hDownloading pyarrow-17.0.0-cp310-cp310-manylinux_2_28_x86_64.whl (39.9 MB)\n",
            "\u001b[2K   \u001b[90m━━━━━━━━━━━━━━━━━━━━━━━━━━━━━━━━━━━━━━━━\u001b[0m \u001b[32m39.9/39.9 MB\u001b[0m \u001b[31m46.5 MB/s\u001b[0m eta \u001b[36m0:00:00\u001b[0m\n",
            "\u001b[?25hDownloading multiprocess-0.70.16-py310-none-any.whl (134 kB)\n",
            "\u001b[2K   \u001b[90m━━━━━━━━━━━━━━━━━━━━━━━━━━━━━━━━━━━━━━━━\u001b[0m \u001b[32m134.8/134.8 kB\u001b[0m \u001b[31m6.9 MB/s\u001b[0m eta \u001b[36m0:00:00\u001b[0m\n",
            "\u001b[?25hDownloading xxhash-3.4.1-cp310-cp310-manylinux_2_17_x86_64.manylinux2014_x86_64.whl (194 kB)\n",
            "\u001b[2K   \u001b[90m━━━━━━━━━━━━━━━━━━━━━━━━━━━━━━━━━━━━━━━━\u001b[0m \u001b[32m194.1/194.1 kB\u001b[0m \u001b[31m10.0 MB/s\u001b[0m eta \u001b[36m0:00:00\u001b[0m\n",
            "\u001b[?25hInstalling collected packages: xxhash, pyarrow, fsspec, dill, multiprocess, datasets\n",
            "  Attempting uninstall: pyarrow\n",
            "    Found existing installation: pyarrow 14.0.2\n",
            "    Uninstalling pyarrow-14.0.2:\n",
            "      Successfully uninstalled pyarrow-14.0.2\n",
            "  Attempting uninstall: fsspec\n",
            "    Found existing installation: fsspec 2024.6.1\n",
            "    Uninstalling fsspec-2024.6.1:\n",
            "      Successfully uninstalled fsspec-2024.6.1\n",
            "\u001b[31mERROR: pip's dependency resolver does not currently take into account all the packages that are installed. This behaviour is the source of the following dependency conflicts.\n",
            "torch 2.3.1+cu121 requires nvidia-cublas-cu12==12.1.3.1; platform_system == \"Linux\" and platform_machine == \"x86_64\", which is not installed.\n",
            "torch 2.3.1+cu121 requires nvidia-cuda-cupti-cu12==12.1.105; platform_system == \"Linux\" and platform_machine == \"x86_64\", which is not installed.\n",
            "torch 2.3.1+cu121 requires nvidia-cuda-nvrtc-cu12==12.1.105; platform_system == \"Linux\" and platform_machine == \"x86_64\", which is not installed.\n",
            "torch 2.3.1+cu121 requires nvidia-cuda-runtime-cu12==12.1.105; platform_system == \"Linux\" and platform_machine == \"x86_64\", which is not installed.\n",
            "torch 2.3.1+cu121 requires nvidia-cudnn-cu12==8.9.2.26; platform_system == \"Linux\" and platform_machine == \"x86_64\", which is not installed.\n",
            "torch 2.3.1+cu121 requires nvidia-cufft-cu12==11.0.2.54; platform_system == \"Linux\" and platform_machine == \"x86_64\", which is not installed.\n",
            "torch 2.3.1+cu121 requires nvidia-curand-cu12==10.3.2.106; platform_system == \"Linux\" and platform_machine == \"x86_64\", which is not installed.\n",
            "torch 2.3.1+cu121 requires nvidia-cusolver-cu12==11.4.5.107; platform_system == \"Linux\" and platform_machine == \"x86_64\", which is not installed.\n",
            "torch 2.3.1+cu121 requires nvidia-cusparse-cu12==12.1.0.106; platform_system == \"Linux\" and platform_machine == \"x86_64\", which is not installed.\n",
            "torch 2.3.1+cu121 requires nvidia-nccl-cu12==2.20.5; platform_system == \"Linux\" and platform_machine == \"x86_64\", which is not installed.\n",
            "torch 2.3.1+cu121 requires nvidia-nvtx-cu12==12.1.105; platform_system == \"Linux\" and platform_machine == \"x86_64\", which is not installed.\n",
            "cudf-cu12 24.4.1 requires pyarrow<15.0.0a0,>=14.0.1, but you have pyarrow 17.0.0 which is incompatible.\n",
            "gcsfs 2024.6.1 requires fsspec==2024.6.1, but you have fsspec 2024.5.0 which is incompatible.\n",
            "ibis-framework 8.0.0 requires pyarrow<16,>=2, but you have pyarrow 17.0.0 which is incompatible.\u001b[0m\u001b[31m\n",
            "\u001b[0mSuccessfully installed datasets-2.20.0 dill-0.3.8 fsspec-2024.5.0 multiprocess-0.70.16 pyarrow-17.0.0 xxhash-3.4.1\n"
          ]
        }
      ]
    },
    {
      "cell_type": "code",
      "source": [
        "# Required libraries\n",
        "from datasets import load_dataset\n",
        "import pandas as pd\n",
        "import matplotlib.pyplot as plt\n",
        "import plotly.express as px\n",
        "from sklearn.metrics import confusion_matrix, classification_report\n",
        "import matplotlib.pyplot as plt\n",
        "import seaborn as sns\n",
        "import random\n",
        "from sklearn.metrics import accuracy_score\n",
        "from tqdm import tqdm\n",
        "from transformers import BertForSequenceClassification, AdamW\n",
        "import torch\n",
        "from torch.utils.data import DataLoader"
      ],
      "metadata": {
        "id": "dupuCs4ofepC"
      },
      "execution_count": 2,
      "outputs": []
    },
    {
      "cell_type": "markdown",
      "source": [
        "# **Loading the dataset**"
      ],
      "metadata": {
        "id": "95uYqnj8SRxE"
      }
    },
    {
      "cell_type": "code",
      "source": [
        "# Load the TREC-6 dataset\n",
        "dataset = load_dataset('trec')\n",
        "\n",
        "# Inspect the dataset structure\n",
        "print(dataset)"
      ],
      "metadata": {
        "colab": {
          "base_uri": "https://localhost:8080/",
          "height": 574,
          "referenced_widgets": [
            "f443097f72ec4afa995a3200cf10a0fd",
            "f7faeef3c84f46799211a21de5229ee3",
            "88851f45c9954333a45e4069f22fa135",
            "a722f06b344a42a1b05f5ad79f65f9a3",
            "b91f5617bc334cf0867e525b36f9022d",
            "3351cdc17e48414699d09a581d2d3469",
            "2727a00821b44184832aa50b7e1adf66",
            "8901e3284d034e8799707c9233bfe32a",
            "48ccf213b9ef44b09320643428f04747",
            "6856db3fc37c44e49eb77c7cc0f3f953",
            "d13312aea154432f917e5d3f4aaf0eb2",
            "01fcdb0697ae4779bda1a5276ba971a0",
            "1c25d41cda07496e8e21ebfbe6adf15f",
            "a7258e97cd6641e99671bd990ee3b8a5",
            "eb8c2faf43454c748fba4acd918ac193",
            "a2b933f969af4657b5d1a257a4b3b253",
            "c98ab5b9aa164c849c4aed645adbe13e",
            "17b0ce62c9f14cc9b475adb065bdf727",
            "23bf151bb5d8465e8224e79152272218",
            "57ec6b033df041c49241573d29f1e462",
            "0a0af69156d14ddc967f6c7a3bfb20da",
            "e028de6f2fbb4121b03034b8014f64f5",
            "6ee9c7d83dab4722813a77bf903bb363",
            "3a8c218333124a47910253ade195c0f6",
            "f19d135827ef424f8dc27b7f81f54835",
            "9b34bfb156544bf19bf965505df81f9f",
            "99c7e712edc3431aa39a96c124248962",
            "c9f642690cbf42dfb24a599293f2357f",
            "40e40bef9799408596dadc886810fdad",
            "7b8994e8313a41e5bc5d50f329d5ade5",
            "33c80ae6a6b046328e1f8381d940a470",
            "f36f9fb7aedf4eb5b4e7f8e3e550b23a",
            "b87f5645b6f6484a956ca9efb8f9316a",
            "bed491e2d9204df1a79ec13e752b2228",
            "5be68df0d4364ea9aad65ac94651a56f",
            "221ae31bc5174877a50677eb48635a75",
            "8d9e8f98857b4fca90f48a18e113b70a",
            "f3726a2dd3084a4c943ec4252eaa48a2",
            "ec37b90d855d4334b57fd39abd52ae2e",
            "be71ee88a4c84886b00cb82fe777e7c5",
            "38c7f3d4988b4a7a88c4364f17791511",
            "493f1a1a2aa2413b9b8c63c0631d970d",
            "05c01e8b2d194a0f938679cc58040bbd",
            "0ec1b3becd1041939a5efb4c28c40bcb",
            "20fe8190ad5643deb3996795f2b92c34",
            "3accd63138dc4170bc4fcc92c6e22a89",
            "41f1200aa43a4a75b6a34a776da9cf1e",
            "63172f92c1dd4877a347e162889cbdad",
            "c7a06ec417f441d4aa6f86be8cb8a028",
            "9d2a8b591d6441dfbe201d018fe739c5",
            "7ed20a3847504f848d23e4f9f1a9e68d",
            "8f324c9c398c476cbae3f7e2d41b976d",
            "859f4b4c5a6a4d0983b85b88efce6eb7",
            "a0503a881be249a0a79b44855e9fa5bf",
            "e91d6922c42e4cb58f76266984bfaf61",
            "b2bf22049ab04196b3100d5b59159c8b",
            "9cdd837b01ea45d08008b8a6825f7c84",
            "9992dc860c504f4b8c43f9eb72365ce1",
            "ecf3941a36c74564834226babb1586b7",
            "97e3bda7fc48453183248eee4aad1eb4",
            "1d2c24d4bd024425b0abde588582af1e",
            "fd0fddcb141042b99cf02887344d89e0",
            "9cb463dc6ff24013a7a0bf828fdd8b4a",
            "2f7d7dca070c4246b44fcb6573dcc2f6",
            "1ca7c292b001404d97d66e4bcf8abe78",
            "1ef605af5fb84f62b723d174ac089080"
          ]
        },
        "id": "-oadMxg8zX5t",
        "outputId": "13b34485-d529-4d1f-e5e0-5bf640d2bfdd"
      },
      "execution_count": 3,
      "outputs": [
        {
          "output_type": "stream",
          "name": "stderr",
          "text": [
            "/usr/local/lib/python3.10/dist-packages/huggingface_hub/utils/_token.py:89: UserWarning: \n",
            "The secret `HF_TOKEN` does not exist in your Colab secrets.\n",
            "To authenticate with the Hugging Face Hub, create a token in your settings tab (https://huggingface.co/settings/tokens), set it as secret in your Google Colab and restart your session.\n",
            "You will be able to reuse this secret in all of your notebooks.\n",
            "Please note that authentication is recommended but still optional to access public models or datasets.\n",
            "  warnings.warn(\n"
          ]
        },
        {
          "output_type": "display_data",
          "data": {
            "text/plain": [
              "Downloading builder script:   0%|          | 0.00/5.09k [00:00<?, ?B/s]"
            ],
            "application/vnd.jupyter.widget-view+json": {
              "version_major": 2,
              "version_minor": 0,
              "model_id": "f443097f72ec4afa995a3200cf10a0fd"
            }
          },
          "metadata": {}
        },
        {
          "output_type": "display_data",
          "data": {
            "text/plain": [
              "Downloading readme:   0%|          | 0.00/10.6k [00:00<?, ?B/s]"
            ],
            "application/vnd.jupyter.widget-view+json": {
              "version_major": 2,
              "version_minor": 0,
              "model_id": "01fcdb0697ae4779bda1a5276ba971a0"
            }
          },
          "metadata": {}
        },
        {
          "name": "stdout",
          "output_type": "stream",
          "text": [
            "The repository for trec contains custom code which must be executed to correctly load the dataset. You can inspect the repository content at https://hf.co/datasets/trec.\n",
            "You can avoid this prompt in future by passing the argument `trust_remote_code=True`.\n",
            "\n",
            "Do you wish to run the custom code? [y/N] y\n"
          ]
        },
        {
          "output_type": "display_data",
          "data": {
            "text/plain": [
              "Downloading data:   0%|          | 0.00/336k [00:00<?, ?B/s]"
            ],
            "application/vnd.jupyter.widget-view+json": {
              "version_major": 2,
              "version_minor": 0,
              "model_id": "6ee9c7d83dab4722813a77bf903bb363"
            }
          },
          "metadata": {}
        },
        {
          "output_type": "display_data",
          "data": {
            "text/plain": [
              "Downloading data:   0%|          | 0.00/23.4k [00:00<?, ?B/s]"
            ],
            "application/vnd.jupyter.widget-view+json": {
              "version_major": 2,
              "version_minor": 0,
              "model_id": "bed491e2d9204df1a79ec13e752b2228"
            }
          },
          "metadata": {}
        },
        {
          "output_type": "display_data",
          "data": {
            "text/plain": [
              "Generating train split:   0%|          | 0/5452 [00:00<?, ? examples/s]"
            ],
            "application/vnd.jupyter.widget-view+json": {
              "version_major": 2,
              "version_minor": 0,
              "model_id": "20fe8190ad5643deb3996795f2b92c34"
            }
          },
          "metadata": {}
        },
        {
          "output_type": "display_data",
          "data": {
            "text/plain": [
              "Generating test split:   0%|          | 0/500 [00:00<?, ? examples/s]"
            ],
            "application/vnd.jupyter.widget-view+json": {
              "version_major": 2,
              "version_minor": 0,
              "model_id": "b2bf22049ab04196b3100d5b59159c8b"
            }
          },
          "metadata": {}
        },
        {
          "output_type": "stream",
          "name": "stdout",
          "text": [
            "DatasetDict({\n",
            "    train: Dataset({\n",
            "        features: ['text', 'coarse_label', 'fine_label'],\n",
            "        num_rows: 5452\n",
            "    })\n",
            "    test: Dataset({\n",
            "        features: ['text', 'coarse_label', 'fine_label'],\n",
            "        num_rows: 500\n",
            "    })\n",
            "})\n"
          ]
        }
      ]
    },
    {
      "cell_type": "markdown",
      "source": [
        "# **Data Overview**"
      ],
      "metadata": {
        "id": "wMmayr6hSlBK"
      }
    },
    {
      "cell_type": "code",
      "source": [
        "print(dataset['train'].features)"
      ],
      "metadata": {
        "colab": {
          "base_uri": "https://localhost:8080/"
        },
        "id": "g9rXqYaNziYI",
        "outputId": "ce265614-8674-464c-b336-5b8ec7939e3e"
      },
      "execution_count": 35,
      "outputs": [
        {
          "output_type": "stream",
          "name": "stdout",
          "text": [
            "{'text': Value(dtype='string', id=None), 'coarse_label': ClassLabel(names=['ABBR', 'ENTY', 'DESC', 'HUM', 'LOC', 'NUM'], id=None), 'fine_label': ClassLabel(names=['ABBR:abb', 'ABBR:exp', 'ENTY:animal', 'ENTY:body', 'ENTY:color', 'ENTY:cremat', 'ENTY:currency', 'ENTY:dismed', 'ENTY:event', 'ENTY:food', 'ENTY:instru', 'ENTY:lang', 'ENTY:letter', 'ENTY:other', 'ENTY:plant', 'ENTY:product', 'ENTY:religion', 'ENTY:sport', 'ENTY:substance', 'ENTY:symbol', 'ENTY:techmeth', 'ENTY:termeq', 'ENTY:veh', 'ENTY:word', 'DESC:def', 'DESC:desc', 'DESC:manner', 'DESC:reason', 'HUM:gr', 'HUM:ind', 'HUM:title', 'HUM:desc', 'LOC:city', 'LOC:country', 'LOC:mount', 'LOC:other', 'LOC:state', 'NUM:code', 'NUM:count', 'NUM:date', 'NUM:dist', 'NUM:money', 'NUM:ord', 'NUM:other', 'NUM:period', 'NUM:perc', 'NUM:speed', 'NUM:temp', 'NUM:volsize', 'NUM:weight'], id=None)}\n"
          ]
        }
      ]
    },
    {
      "cell_type": "code",
      "source": [
        "print(dataset['test'].features)"
      ],
      "metadata": {
        "colab": {
          "base_uri": "https://localhost:8080/"
        },
        "id": "m4rM46hMzrbf",
        "outputId": "6e1f151e-9713-4ea1-b6ea-1646d49b2b68"
      },
      "execution_count": 36,
      "outputs": [
        {
          "output_type": "stream",
          "name": "stdout",
          "text": [
            "{'text': Value(dtype='string', id=None), 'coarse_label': ClassLabel(names=['ABBR', 'ENTY', 'DESC', 'HUM', 'LOC', 'NUM'], id=None), 'fine_label': ClassLabel(names=['ABBR:abb', 'ABBR:exp', 'ENTY:animal', 'ENTY:body', 'ENTY:color', 'ENTY:cremat', 'ENTY:currency', 'ENTY:dismed', 'ENTY:event', 'ENTY:food', 'ENTY:instru', 'ENTY:lang', 'ENTY:letter', 'ENTY:other', 'ENTY:plant', 'ENTY:product', 'ENTY:religion', 'ENTY:sport', 'ENTY:substance', 'ENTY:symbol', 'ENTY:techmeth', 'ENTY:termeq', 'ENTY:veh', 'ENTY:word', 'DESC:def', 'DESC:desc', 'DESC:manner', 'DESC:reason', 'HUM:gr', 'HUM:ind', 'HUM:title', 'HUM:desc', 'LOC:city', 'LOC:country', 'LOC:mount', 'LOC:other', 'LOC:state', 'NUM:code', 'NUM:count', 'NUM:date', 'NUM:dist', 'NUM:money', 'NUM:ord', 'NUM:other', 'NUM:period', 'NUM:perc', 'NUM:speed', 'NUM:temp', 'NUM:volsize', 'NUM:weight'], id=None)}\n"
          ]
        }
      ]
    },
    {
      "cell_type": "code",
      "source": [
        "# Convert dataset to pandas DataFrame\n",
        "train_trec = pd.DataFrame(dataset['train'])\n",
        "test_trec = pd.DataFrame(dataset['test'])\n",
        "\n",
        "# Check the first few rows of the DataFrame to understand the structure\n",
        "print(train_trec.head())\n",
        "print(test_trec.head())"
      ],
      "metadata": {
        "colab": {
          "base_uri": "https://localhost:8080/"
        },
        "id": "snlcA-HJUt9F",
        "outputId": "1f523c6d-2d24-40a6-db79-edde13e2b052"
      },
      "execution_count": 37,
      "outputs": [
        {
          "output_type": "stream",
          "name": "stdout",
          "text": [
            "                                                text  coarse_label  fine_label\n",
            "0  How did serfdom develop in and then leave Russ...             2          26\n",
            "1   What films featured the character Popeye Doyle ?             1           5\n",
            "2  How can I find a list of celebrities ' real na...             2          26\n",
            "3  What fowl grabs the spotlight after the Chines...             1           2\n",
            "4                    What is the full form of .com ?             0           1\n",
            "                                       text  coarse_label  fine_label\n",
            "0      How far is it from Denver to Aspen ?             5          40\n",
            "1  What county is Modesto , California in ?             4          32\n",
            "2                         Who was Galileo ?             3          31\n",
            "3                         What is an atom ?             2          24\n",
            "4          When did Hawaii become a state ?             5          39\n"
          ]
        }
      ]
    },
    {
      "cell_type": "markdown",
      "source": [
        "# **EDA Analysis**"
      ],
      "metadata": {
        "id": "pAGdb0ANS2r9"
      }
    },
    {
      "cell_type": "code",
      "source": [
        "# Calculate the frequency of each coarse label for training and test sets\n",
        "train_label_frequencies = train_trec['coarse_label'].value_counts()\n",
        "test_label_frequencies = test_trec['coarse_label'].value_counts()\n",
        "\n",
        "# Get label names from the dataset\n",
        "label_names = dataset['train'].features['coarse_label'].int2str"
      ],
      "metadata": {
        "id": "rPY56QEF5VJk"
      },
      "execution_count": 38,
      "outputs": []
    },
    {
      "cell_type": "code",
      "source": [
        "# Create a DataFrame for plotting\n",
        "train_label_data = pd.DataFrame({\n",
        "    'Label': train_label_frequencies.index.map(label_names),\n",
        "    'Count': train_label_frequencies.values\n",
        "})\n",
        "\n",
        "# Plot the distribution of coarse labels in the training dataset\n",
        "train_fig = px.bar(\n",
        "    train_label_data,\n",
        "    x='Label',\n",
        "    y='Count',\n",
        "    title='Coarse Label Distribution in Training Set',\n",
        "    labels={'Count': 'Frequency', 'Label': 'Coarse Label'}\n",
        ")\n",
        "train_fig.update_layout(xaxis={'categoryorder': 'total descending'})\n",
        "\n",
        "# Show the figure\n",
        "train_fig.show()"
      ],
      "metadata": {
        "colab": {
          "base_uri": "https://localhost:8080/",
          "height": 542
        },
        "id": "Tai8qS0R4j_L",
        "outputId": "86aa8eb3-0972-4f7f-8c93-46fa61f4d69e"
      },
      "execution_count": 39,
      "outputs": [
        {
          "output_type": "display_data",
          "data": {
            "text/html": [
              "<html>\n",
              "<head><meta charset=\"utf-8\" /></head>\n",
              "<body>\n",
              "    <div>            <script src=\"https://cdnjs.cloudflare.com/ajax/libs/mathjax/2.7.5/MathJax.js?config=TeX-AMS-MML_SVG\"></script><script type=\"text/javascript\">if (window.MathJax && window.MathJax.Hub && window.MathJax.Hub.Config) {window.MathJax.Hub.Config({SVG: {font: \"STIX-Web\"}});}</script>                <script type=\"text/javascript\">window.PlotlyConfig = {MathJaxConfig: 'local'};</script>\n",
              "        <script charset=\"utf-8\" src=\"https://cdn.plot.ly/plotly-2.24.1.min.js\"></script>                <div id=\"4e0de9e2-fdc2-42ba-a897-426377cd19f0\" class=\"plotly-graph-div\" style=\"height:525px; width:100%;\"></div>            <script type=\"text/javascript\">                                    window.PLOTLYENV=window.PLOTLYENV || {};                                    if (document.getElementById(\"4e0de9e2-fdc2-42ba-a897-426377cd19f0\")) {                    Plotly.newPlot(                        \"4e0de9e2-fdc2-42ba-a897-426377cd19f0\",                        [{\"alignmentgroup\":\"True\",\"hovertemplate\":\"Coarse Label=%{x}\\u003cbr\\u003eFrequency=%{y}\\u003cextra\\u003e\\u003c\\u002fextra\\u003e\",\"legendgroup\":\"\",\"marker\":{\"color\":\"#636efa\",\"pattern\":{\"shape\":\"\"}},\"name\":\"\",\"offsetgroup\":\"\",\"orientation\":\"v\",\"showlegend\":false,\"textposition\":\"auto\",\"x\":[\"ENTY\",\"HUM\",\"DESC\",\"NUM\",\"LOC\",\"ABBR\"],\"xaxis\":\"x\",\"y\":[1250,1223,1162,896,835,86],\"yaxis\":\"y\",\"type\":\"bar\"}],                        {\"template\":{\"data\":{\"histogram2dcontour\":[{\"type\":\"histogram2dcontour\",\"colorbar\":{\"outlinewidth\":0,\"ticks\":\"\"},\"colorscale\":[[0.0,\"#0d0887\"],[0.1111111111111111,\"#46039f\"],[0.2222222222222222,\"#7201a8\"],[0.3333333333333333,\"#9c179e\"],[0.4444444444444444,\"#bd3786\"],[0.5555555555555556,\"#d8576b\"],[0.6666666666666666,\"#ed7953\"],[0.7777777777777778,\"#fb9f3a\"],[0.8888888888888888,\"#fdca26\"],[1.0,\"#f0f921\"]]}],\"choropleth\":[{\"type\":\"choropleth\",\"colorbar\":{\"outlinewidth\":0,\"ticks\":\"\"}}],\"histogram2d\":[{\"type\":\"histogram2d\",\"colorbar\":{\"outlinewidth\":0,\"ticks\":\"\"},\"colorscale\":[[0.0,\"#0d0887\"],[0.1111111111111111,\"#46039f\"],[0.2222222222222222,\"#7201a8\"],[0.3333333333333333,\"#9c179e\"],[0.4444444444444444,\"#bd3786\"],[0.5555555555555556,\"#d8576b\"],[0.6666666666666666,\"#ed7953\"],[0.7777777777777778,\"#fb9f3a\"],[0.8888888888888888,\"#fdca26\"],[1.0,\"#f0f921\"]]}],\"heatmap\":[{\"type\":\"heatmap\",\"colorbar\":{\"outlinewidth\":0,\"ticks\":\"\"},\"colorscale\":[[0.0,\"#0d0887\"],[0.1111111111111111,\"#46039f\"],[0.2222222222222222,\"#7201a8\"],[0.3333333333333333,\"#9c179e\"],[0.4444444444444444,\"#bd3786\"],[0.5555555555555556,\"#d8576b\"],[0.6666666666666666,\"#ed7953\"],[0.7777777777777778,\"#fb9f3a\"],[0.8888888888888888,\"#fdca26\"],[1.0,\"#f0f921\"]]}],\"heatmapgl\":[{\"type\":\"heatmapgl\",\"colorbar\":{\"outlinewidth\":0,\"ticks\":\"\"},\"colorscale\":[[0.0,\"#0d0887\"],[0.1111111111111111,\"#46039f\"],[0.2222222222222222,\"#7201a8\"],[0.3333333333333333,\"#9c179e\"],[0.4444444444444444,\"#bd3786\"],[0.5555555555555556,\"#d8576b\"],[0.6666666666666666,\"#ed7953\"],[0.7777777777777778,\"#fb9f3a\"],[0.8888888888888888,\"#fdca26\"],[1.0,\"#f0f921\"]]}],\"contourcarpet\":[{\"type\":\"contourcarpet\",\"colorbar\":{\"outlinewidth\":0,\"ticks\":\"\"}}],\"contour\":[{\"type\":\"contour\",\"colorbar\":{\"outlinewidth\":0,\"ticks\":\"\"},\"colorscale\":[[0.0,\"#0d0887\"],[0.1111111111111111,\"#46039f\"],[0.2222222222222222,\"#7201a8\"],[0.3333333333333333,\"#9c179e\"],[0.4444444444444444,\"#bd3786\"],[0.5555555555555556,\"#d8576b\"],[0.6666666666666666,\"#ed7953\"],[0.7777777777777778,\"#fb9f3a\"],[0.8888888888888888,\"#fdca26\"],[1.0,\"#f0f921\"]]}],\"surface\":[{\"type\":\"surface\",\"colorbar\":{\"outlinewidth\":0,\"ticks\":\"\"},\"colorscale\":[[0.0,\"#0d0887\"],[0.1111111111111111,\"#46039f\"],[0.2222222222222222,\"#7201a8\"],[0.3333333333333333,\"#9c179e\"],[0.4444444444444444,\"#bd3786\"],[0.5555555555555556,\"#d8576b\"],[0.6666666666666666,\"#ed7953\"],[0.7777777777777778,\"#fb9f3a\"],[0.8888888888888888,\"#fdca26\"],[1.0,\"#f0f921\"]]}],\"mesh3d\":[{\"type\":\"mesh3d\",\"colorbar\":{\"outlinewidth\":0,\"ticks\":\"\"}}],\"scatter\":[{\"fillpattern\":{\"fillmode\":\"overlay\",\"size\":10,\"solidity\":0.2},\"type\":\"scatter\"}],\"parcoords\":[{\"type\":\"parcoords\",\"line\":{\"colorbar\":{\"outlinewidth\":0,\"ticks\":\"\"}}}],\"scatterpolargl\":[{\"type\":\"scatterpolargl\",\"marker\":{\"colorbar\":{\"outlinewidth\":0,\"ticks\":\"\"}}}],\"bar\":[{\"error_x\":{\"color\":\"#2a3f5f\"},\"error_y\":{\"color\":\"#2a3f5f\"},\"marker\":{\"line\":{\"color\":\"#E5ECF6\",\"width\":0.5},\"pattern\":{\"fillmode\":\"overlay\",\"size\":10,\"solidity\":0.2}},\"type\":\"bar\"}],\"scattergeo\":[{\"type\":\"scattergeo\",\"marker\":{\"colorbar\":{\"outlinewidth\":0,\"ticks\":\"\"}}}],\"scatterpolar\":[{\"type\":\"scatterpolar\",\"marker\":{\"colorbar\":{\"outlinewidth\":0,\"ticks\":\"\"}}}],\"histogram\":[{\"marker\":{\"pattern\":{\"fillmode\":\"overlay\",\"size\":10,\"solidity\":0.2}},\"type\":\"histogram\"}],\"scattergl\":[{\"type\":\"scattergl\",\"marker\":{\"colorbar\":{\"outlinewidth\":0,\"ticks\":\"\"}}}],\"scatter3d\":[{\"type\":\"scatter3d\",\"line\":{\"colorbar\":{\"outlinewidth\":0,\"ticks\":\"\"}},\"marker\":{\"colorbar\":{\"outlinewidth\":0,\"ticks\":\"\"}}}],\"scattermapbox\":[{\"type\":\"scattermapbox\",\"marker\":{\"colorbar\":{\"outlinewidth\":0,\"ticks\":\"\"}}}],\"scatterternary\":[{\"type\":\"scatterternary\",\"marker\":{\"colorbar\":{\"outlinewidth\":0,\"ticks\":\"\"}}}],\"scattercarpet\":[{\"type\":\"scattercarpet\",\"marker\":{\"colorbar\":{\"outlinewidth\":0,\"ticks\":\"\"}}}],\"carpet\":[{\"aaxis\":{\"endlinecolor\":\"#2a3f5f\",\"gridcolor\":\"white\",\"linecolor\":\"white\",\"minorgridcolor\":\"white\",\"startlinecolor\":\"#2a3f5f\"},\"baxis\":{\"endlinecolor\":\"#2a3f5f\",\"gridcolor\":\"white\",\"linecolor\":\"white\",\"minorgridcolor\":\"white\",\"startlinecolor\":\"#2a3f5f\"},\"type\":\"carpet\"}],\"table\":[{\"cells\":{\"fill\":{\"color\":\"#EBF0F8\"},\"line\":{\"color\":\"white\"}},\"header\":{\"fill\":{\"color\":\"#C8D4E3\"},\"line\":{\"color\":\"white\"}},\"type\":\"table\"}],\"barpolar\":[{\"marker\":{\"line\":{\"color\":\"#E5ECF6\",\"width\":0.5},\"pattern\":{\"fillmode\":\"overlay\",\"size\":10,\"solidity\":0.2}},\"type\":\"barpolar\"}],\"pie\":[{\"automargin\":true,\"type\":\"pie\"}]},\"layout\":{\"autotypenumbers\":\"strict\",\"colorway\":[\"#636efa\",\"#EF553B\",\"#00cc96\",\"#ab63fa\",\"#FFA15A\",\"#19d3f3\",\"#FF6692\",\"#B6E880\",\"#FF97FF\",\"#FECB52\"],\"font\":{\"color\":\"#2a3f5f\"},\"hovermode\":\"closest\",\"hoverlabel\":{\"align\":\"left\"},\"paper_bgcolor\":\"white\",\"plot_bgcolor\":\"#E5ECF6\",\"polar\":{\"bgcolor\":\"#E5ECF6\",\"angularaxis\":{\"gridcolor\":\"white\",\"linecolor\":\"white\",\"ticks\":\"\"},\"radialaxis\":{\"gridcolor\":\"white\",\"linecolor\":\"white\",\"ticks\":\"\"}},\"ternary\":{\"bgcolor\":\"#E5ECF6\",\"aaxis\":{\"gridcolor\":\"white\",\"linecolor\":\"white\",\"ticks\":\"\"},\"baxis\":{\"gridcolor\":\"white\",\"linecolor\":\"white\",\"ticks\":\"\"},\"caxis\":{\"gridcolor\":\"white\",\"linecolor\":\"white\",\"ticks\":\"\"}},\"coloraxis\":{\"colorbar\":{\"outlinewidth\":0,\"ticks\":\"\"}},\"colorscale\":{\"sequential\":[[0.0,\"#0d0887\"],[0.1111111111111111,\"#46039f\"],[0.2222222222222222,\"#7201a8\"],[0.3333333333333333,\"#9c179e\"],[0.4444444444444444,\"#bd3786\"],[0.5555555555555556,\"#d8576b\"],[0.6666666666666666,\"#ed7953\"],[0.7777777777777778,\"#fb9f3a\"],[0.8888888888888888,\"#fdca26\"],[1.0,\"#f0f921\"]],\"sequentialminus\":[[0.0,\"#0d0887\"],[0.1111111111111111,\"#46039f\"],[0.2222222222222222,\"#7201a8\"],[0.3333333333333333,\"#9c179e\"],[0.4444444444444444,\"#bd3786\"],[0.5555555555555556,\"#d8576b\"],[0.6666666666666666,\"#ed7953\"],[0.7777777777777778,\"#fb9f3a\"],[0.8888888888888888,\"#fdca26\"],[1.0,\"#f0f921\"]],\"diverging\":[[0,\"#8e0152\"],[0.1,\"#c51b7d\"],[0.2,\"#de77ae\"],[0.3,\"#f1b6da\"],[0.4,\"#fde0ef\"],[0.5,\"#f7f7f7\"],[0.6,\"#e6f5d0\"],[0.7,\"#b8e186\"],[0.8,\"#7fbc41\"],[0.9,\"#4d9221\"],[1,\"#276419\"]]},\"xaxis\":{\"gridcolor\":\"white\",\"linecolor\":\"white\",\"ticks\":\"\",\"title\":{\"standoff\":15},\"zerolinecolor\":\"white\",\"automargin\":true,\"zerolinewidth\":2},\"yaxis\":{\"gridcolor\":\"white\",\"linecolor\":\"white\",\"ticks\":\"\",\"title\":{\"standoff\":15},\"zerolinecolor\":\"white\",\"automargin\":true,\"zerolinewidth\":2},\"scene\":{\"xaxis\":{\"backgroundcolor\":\"#E5ECF6\",\"gridcolor\":\"white\",\"linecolor\":\"white\",\"showbackground\":true,\"ticks\":\"\",\"zerolinecolor\":\"white\",\"gridwidth\":2},\"yaxis\":{\"backgroundcolor\":\"#E5ECF6\",\"gridcolor\":\"white\",\"linecolor\":\"white\",\"showbackground\":true,\"ticks\":\"\",\"zerolinecolor\":\"white\",\"gridwidth\":2},\"zaxis\":{\"backgroundcolor\":\"#E5ECF6\",\"gridcolor\":\"white\",\"linecolor\":\"white\",\"showbackground\":true,\"ticks\":\"\",\"zerolinecolor\":\"white\",\"gridwidth\":2}},\"shapedefaults\":{\"line\":{\"color\":\"#2a3f5f\"}},\"annotationdefaults\":{\"arrowcolor\":\"#2a3f5f\",\"arrowhead\":0,\"arrowwidth\":1},\"geo\":{\"bgcolor\":\"white\",\"landcolor\":\"#E5ECF6\",\"subunitcolor\":\"white\",\"showland\":true,\"showlakes\":true,\"lakecolor\":\"white\"},\"title\":{\"x\":0.05},\"mapbox\":{\"style\":\"light\"}}},\"xaxis\":{\"anchor\":\"y\",\"domain\":[0.0,1.0],\"title\":{\"text\":\"Coarse Label\"},\"categoryorder\":\"total descending\"},\"yaxis\":{\"anchor\":\"x\",\"domain\":[0.0,1.0],\"title\":{\"text\":\"Frequency\"}},\"legend\":{\"tracegroupgap\":0},\"title\":{\"text\":\"Coarse Label Distribution in Training Set\"},\"barmode\":\"relative\"},                        {\"responsive\": true}                    ).then(function(){\n",
              "                            \n",
              "var gd = document.getElementById('4e0de9e2-fdc2-42ba-a897-426377cd19f0');\n",
              "var x = new MutationObserver(function (mutations, observer) {{\n",
              "        var display = window.getComputedStyle(gd).display;\n",
              "        if (!display || display === 'none') {{\n",
              "            console.log([gd, 'removed!']);\n",
              "            Plotly.purge(gd);\n",
              "            observer.disconnect();\n",
              "        }}\n",
              "}});\n",
              "\n",
              "// Listen for the removal of the full notebook cells\n",
              "var notebookContainer = gd.closest('#notebook-container');\n",
              "if (notebookContainer) {{\n",
              "    x.observe(notebookContainer, {childList: true});\n",
              "}}\n",
              "\n",
              "// Listen for the clearing of the current output cell\n",
              "var outputEl = gd.closest('.output');\n",
              "if (outputEl) {{\n",
              "    x.observe(outputEl, {childList: true});\n",
              "}}\n",
              "\n",
              "                        })                };                            </script>        </div>\n",
              "</body>\n",
              "</html>"
            ]
          },
          "metadata": {}
        }
      ]
    },
    {
      "cell_type": "code",
      "source": [
        "# Create a DataFrame for plotting\n",
        "test_label_data = pd.DataFrame({\n",
        "    'Label': test_label_frequencies.index.map(label_names),\n",
        "    'Count': test_label_frequencies.values\n",
        "})\n",
        "\n",
        "# Plot the distribution of coarse labels in the test dataset\n",
        "test_fig = px.bar(\n",
        "    test_label_data,\n",
        "    x='Label',\n",
        "    y='Count',\n",
        "    title='Coarse Label Distribution in Test Set',\n",
        "    labels={'Count': 'Frequency', 'Label': 'Coarse Label'}\n",
        ")\n",
        "test_fig.update_layout(xaxis={'categoryorder': 'total descending'})\n",
        "\n",
        "# Show the figure\n",
        "test_fig.show()"
      ],
      "metadata": {
        "colab": {
          "base_uri": "https://localhost:8080/",
          "height": 542
        },
        "id": "0lNYK2VG5C84",
        "outputId": "094f4d7a-591b-48de-82fa-56a8c88cc58c"
      },
      "execution_count": 40,
      "outputs": [
        {
          "output_type": "display_data",
          "data": {
            "text/html": [
              "<html>\n",
              "<head><meta charset=\"utf-8\" /></head>\n",
              "<body>\n",
              "    <div>            <script src=\"https://cdnjs.cloudflare.com/ajax/libs/mathjax/2.7.5/MathJax.js?config=TeX-AMS-MML_SVG\"></script><script type=\"text/javascript\">if (window.MathJax && window.MathJax.Hub && window.MathJax.Hub.Config) {window.MathJax.Hub.Config({SVG: {font: \"STIX-Web\"}});}</script>                <script type=\"text/javascript\">window.PlotlyConfig = {MathJaxConfig: 'local'};</script>\n",
              "        <script charset=\"utf-8\" src=\"https://cdn.plot.ly/plotly-2.24.1.min.js\"></script>                <div id=\"94dd8d3d-d531-430b-a89a-24b9ffe66761\" class=\"plotly-graph-div\" style=\"height:525px; width:100%;\"></div>            <script type=\"text/javascript\">                                    window.PLOTLYENV=window.PLOTLYENV || {};                                    if (document.getElementById(\"94dd8d3d-d531-430b-a89a-24b9ffe66761\")) {                    Plotly.newPlot(                        \"94dd8d3d-d531-430b-a89a-24b9ffe66761\",                        [{\"alignmentgroup\":\"True\",\"hovertemplate\":\"Coarse Label=%{x}\\u003cbr\\u003eFrequency=%{y}\\u003cextra\\u003e\\u003c\\u002fextra\\u003e\",\"legendgroup\":\"\",\"marker\":{\"color\":\"#636efa\",\"pattern\":{\"shape\":\"\"}},\"name\":\"\",\"offsetgroup\":\"\",\"orientation\":\"v\",\"showlegend\":false,\"textposition\":\"auto\",\"x\":[\"DESC\",\"NUM\",\"ENTY\",\"LOC\",\"HUM\",\"ABBR\"],\"xaxis\":\"x\",\"y\":[138,113,94,81,65,9],\"yaxis\":\"y\",\"type\":\"bar\"}],                        {\"template\":{\"data\":{\"histogram2dcontour\":[{\"type\":\"histogram2dcontour\",\"colorbar\":{\"outlinewidth\":0,\"ticks\":\"\"},\"colorscale\":[[0.0,\"#0d0887\"],[0.1111111111111111,\"#46039f\"],[0.2222222222222222,\"#7201a8\"],[0.3333333333333333,\"#9c179e\"],[0.4444444444444444,\"#bd3786\"],[0.5555555555555556,\"#d8576b\"],[0.6666666666666666,\"#ed7953\"],[0.7777777777777778,\"#fb9f3a\"],[0.8888888888888888,\"#fdca26\"],[1.0,\"#f0f921\"]]}],\"choropleth\":[{\"type\":\"choropleth\",\"colorbar\":{\"outlinewidth\":0,\"ticks\":\"\"}}],\"histogram2d\":[{\"type\":\"histogram2d\",\"colorbar\":{\"outlinewidth\":0,\"ticks\":\"\"},\"colorscale\":[[0.0,\"#0d0887\"],[0.1111111111111111,\"#46039f\"],[0.2222222222222222,\"#7201a8\"],[0.3333333333333333,\"#9c179e\"],[0.4444444444444444,\"#bd3786\"],[0.5555555555555556,\"#d8576b\"],[0.6666666666666666,\"#ed7953\"],[0.7777777777777778,\"#fb9f3a\"],[0.8888888888888888,\"#fdca26\"],[1.0,\"#f0f921\"]]}],\"heatmap\":[{\"type\":\"heatmap\",\"colorbar\":{\"outlinewidth\":0,\"ticks\":\"\"},\"colorscale\":[[0.0,\"#0d0887\"],[0.1111111111111111,\"#46039f\"],[0.2222222222222222,\"#7201a8\"],[0.3333333333333333,\"#9c179e\"],[0.4444444444444444,\"#bd3786\"],[0.5555555555555556,\"#d8576b\"],[0.6666666666666666,\"#ed7953\"],[0.7777777777777778,\"#fb9f3a\"],[0.8888888888888888,\"#fdca26\"],[1.0,\"#f0f921\"]]}],\"heatmapgl\":[{\"type\":\"heatmapgl\",\"colorbar\":{\"outlinewidth\":0,\"ticks\":\"\"},\"colorscale\":[[0.0,\"#0d0887\"],[0.1111111111111111,\"#46039f\"],[0.2222222222222222,\"#7201a8\"],[0.3333333333333333,\"#9c179e\"],[0.4444444444444444,\"#bd3786\"],[0.5555555555555556,\"#d8576b\"],[0.6666666666666666,\"#ed7953\"],[0.7777777777777778,\"#fb9f3a\"],[0.8888888888888888,\"#fdca26\"],[1.0,\"#f0f921\"]]}],\"contourcarpet\":[{\"type\":\"contourcarpet\",\"colorbar\":{\"outlinewidth\":0,\"ticks\":\"\"}}],\"contour\":[{\"type\":\"contour\",\"colorbar\":{\"outlinewidth\":0,\"ticks\":\"\"},\"colorscale\":[[0.0,\"#0d0887\"],[0.1111111111111111,\"#46039f\"],[0.2222222222222222,\"#7201a8\"],[0.3333333333333333,\"#9c179e\"],[0.4444444444444444,\"#bd3786\"],[0.5555555555555556,\"#d8576b\"],[0.6666666666666666,\"#ed7953\"],[0.7777777777777778,\"#fb9f3a\"],[0.8888888888888888,\"#fdca26\"],[1.0,\"#f0f921\"]]}],\"surface\":[{\"type\":\"surface\",\"colorbar\":{\"outlinewidth\":0,\"ticks\":\"\"},\"colorscale\":[[0.0,\"#0d0887\"],[0.1111111111111111,\"#46039f\"],[0.2222222222222222,\"#7201a8\"],[0.3333333333333333,\"#9c179e\"],[0.4444444444444444,\"#bd3786\"],[0.5555555555555556,\"#d8576b\"],[0.6666666666666666,\"#ed7953\"],[0.7777777777777778,\"#fb9f3a\"],[0.8888888888888888,\"#fdca26\"],[1.0,\"#f0f921\"]]}],\"mesh3d\":[{\"type\":\"mesh3d\",\"colorbar\":{\"outlinewidth\":0,\"ticks\":\"\"}}],\"scatter\":[{\"fillpattern\":{\"fillmode\":\"overlay\",\"size\":10,\"solidity\":0.2},\"type\":\"scatter\"}],\"parcoords\":[{\"type\":\"parcoords\",\"line\":{\"colorbar\":{\"outlinewidth\":0,\"ticks\":\"\"}}}],\"scatterpolargl\":[{\"type\":\"scatterpolargl\",\"marker\":{\"colorbar\":{\"outlinewidth\":0,\"ticks\":\"\"}}}],\"bar\":[{\"error_x\":{\"color\":\"#2a3f5f\"},\"error_y\":{\"color\":\"#2a3f5f\"},\"marker\":{\"line\":{\"color\":\"#E5ECF6\",\"width\":0.5},\"pattern\":{\"fillmode\":\"overlay\",\"size\":10,\"solidity\":0.2}},\"type\":\"bar\"}],\"scattergeo\":[{\"type\":\"scattergeo\",\"marker\":{\"colorbar\":{\"outlinewidth\":0,\"ticks\":\"\"}}}],\"scatterpolar\":[{\"type\":\"scatterpolar\",\"marker\":{\"colorbar\":{\"outlinewidth\":0,\"ticks\":\"\"}}}],\"histogram\":[{\"marker\":{\"pattern\":{\"fillmode\":\"overlay\",\"size\":10,\"solidity\":0.2}},\"type\":\"histogram\"}],\"scattergl\":[{\"type\":\"scattergl\",\"marker\":{\"colorbar\":{\"outlinewidth\":0,\"ticks\":\"\"}}}],\"scatter3d\":[{\"type\":\"scatter3d\",\"line\":{\"colorbar\":{\"outlinewidth\":0,\"ticks\":\"\"}},\"marker\":{\"colorbar\":{\"outlinewidth\":0,\"ticks\":\"\"}}}],\"scattermapbox\":[{\"type\":\"scattermapbox\",\"marker\":{\"colorbar\":{\"outlinewidth\":0,\"ticks\":\"\"}}}],\"scatterternary\":[{\"type\":\"scatterternary\",\"marker\":{\"colorbar\":{\"outlinewidth\":0,\"ticks\":\"\"}}}],\"scattercarpet\":[{\"type\":\"scattercarpet\",\"marker\":{\"colorbar\":{\"outlinewidth\":0,\"ticks\":\"\"}}}],\"carpet\":[{\"aaxis\":{\"endlinecolor\":\"#2a3f5f\",\"gridcolor\":\"white\",\"linecolor\":\"white\",\"minorgridcolor\":\"white\",\"startlinecolor\":\"#2a3f5f\"},\"baxis\":{\"endlinecolor\":\"#2a3f5f\",\"gridcolor\":\"white\",\"linecolor\":\"white\",\"minorgridcolor\":\"white\",\"startlinecolor\":\"#2a3f5f\"},\"type\":\"carpet\"}],\"table\":[{\"cells\":{\"fill\":{\"color\":\"#EBF0F8\"},\"line\":{\"color\":\"white\"}},\"header\":{\"fill\":{\"color\":\"#C8D4E3\"},\"line\":{\"color\":\"white\"}},\"type\":\"table\"}],\"barpolar\":[{\"marker\":{\"line\":{\"color\":\"#E5ECF6\",\"width\":0.5},\"pattern\":{\"fillmode\":\"overlay\",\"size\":10,\"solidity\":0.2}},\"type\":\"barpolar\"}],\"pie\":[{\"automargin\":true,\"type\":\"pie\"}]},\"layout\":{\"autotypenumbers\":\"strict\",\"colorway\":[\"#636efa\",\"#EF553B\",\"#00cc96\",\"#ab63fa\",\"#FFA15A\",\"#19d3f3\",\"#FF6692\",\"#B6E880\",\"#FF97FF\",\"#FECB52\"],\"font\":{\"color\":\"#2a3f5f\"},\"hovermode\":\"closest\",\"hoverlabel\":{\"align\":\"left\"},\"paper_bgcolor\":\"white\",\"plot_bgcolor\":\"#E5ECF6\",\"polar\":{\"bgcolor\":\"#E5ECF6\",\"angularaxis\":{\"gridcolor\":\"white\",\"linecolor\":\"white\",\"ticks\":\"\"},\"radialaxis\":{\"gridcolor\":\"white\",\"linecolor\":\"white\",\"ticks\":\"\"}},\"ternary\":{\"bgcolor\":\"#E5ECF6\",\"aaxis\":{\"gridcolor\":\"white\",\"linecolor\":\"white\",\"ticks\":\"\"},\"baxis\":{\"gridcolor\":\"white\",\"linecolor\":\"white\",\"ticks\":\"\"},\"caxis\":{\"gridcolor\":\"white\",\"linecolor\":\"white\",\"ticks\":\"\"}},\"coloraxis\":{\"colorbar\":{\"outlinewidth\":0,\"ticks\":\"\"}},\"colorscale\":{\"sequential\":[[0.0,\"#0d0887\"],[0.1111111111111111,\"#46039f\"],[0.2222222222222222,\"#7201a8\"],[0.3333333333333333,\"#9c179e\"],[0.4444444444444444,\"#bd3786\"],[0.5555555555555556,\"#d8576b\"],[0.6666666666666666,\"#ed7953\"],[0.7777777777777778,\"#fb9f3a\"],[0.8888888888888888,\"#fdca26\"],[1.0,\"#f0f921\"]],\"sequentialminus\":[[0.0,\"#0d0887\"],[0.1111111111111111,\"#46039f\"],[0.2222222222222222,\"#7201a8\"],[0.3333333333333333,\"#9c179e\"],[0.4444444444444444,\"#bd3786\"],[0.5555555555555556,\"#d8576b\"],[0.6666666666666666,\"#ed7953\"],[0.7777777777777778,\"#fb9f3a\"],[0.8888888888888888,\"#fdca26\"],[1.0,\"#f0f921\"]],\"diverging\":[[0,\"#8e0152\"],[0.1,\"#c51b7d\"],[0.2,\"#de77ae\"],[0.3,\"#f1b6da\"],[0.4,\"#fde0ef\"],[0.5,\"#f7f7f7\"],[0.6,\"#e6f5d0\"],[0.7,\"#b8e186\"],[0.8,\"#7fbc41\"],[0.9,\"#4d9221\"],[1,\"#276419\"]]},\"xaxis\":{\"gridcolor\":\"white\",\"linecolor\":\"white\",\"ticks\":\"\",\"title\":{\"standoff\":15},\"zerolinecolor\":\"white\",\"automargin\":true,\"zerolinewidth\":2},\"yaxis\":{\"gridcolor\":\"white\",\"linecolor\":\"white\",\"ticks\":\"\",\"title\":{\"standoff\":15},\"zerolinecolor\":\"white\",\"automargin\":true,\"zerolinewidth\":2},\"scene\":{\"xaxis\":{\"backgroundcolor\":\"#E5ECF6\",\"gridcolor\":\"white\",\"linecolor\":\"white\",\"showbackground\":true,\"ticks\":\"\",\"zerolinecolor\":\"white\",\"gridwidth\":2},\"yaxis\":{\"backgroundcolor\":\"#E5ECF6\",\"gridcolor\":\"white\",\"linecolor\":\"white\",\"showbackground\":true,\"ticks\":\"\",\"zerolinecolor\":\"white\",\"gridwidth\":2},\"zaxis\":{\"backgroundcolor\":\"#E5ECF6\",\"gridcolor\":\"white\",\"linecolor\":\"white\",\"showbackground\":true,\"ticks\":\"\",\"zerolinecolor\":\"white\",\"gridwidth\":2}},\"shapedefaults\":{\"line\":{\"color\":\"#2a3f5f\"}},\"annotationdefaults\":{\"arrowcolor\":\"#2a3f5f\",\"arrowhead\":0,\"arrowwidth\":1},\"geo\":{\"bgcolor\":\"white\",\"landcolor\":\"#E5ECF6\",\"subunitcolor\":\"white\",\"showland\":true,\"showlakes\":true,\"lakecolor\":\"white\"},\"title\":{\"x\":0.05},\"mapbox\":{\"style\":\"light\"}}},\"xaxis\":{\"anchor\":\"y\",\"domain\":[0.0,1.0],\"title\":{\"text\":\"Coarse Label\"},\"categoryorder\":\"total descending\"},\"yaxis\":{\"anchor\":\"x\",\"domain\":[0.0,1.0],\"title\":{\"text\":\"Frequency\"}},\"legend\":{\"tracegroupgap\":0},\"title\":{\"text\":\"Coarse Label Distribution in Test Set\"},\"barmode\":\"relative\"},                        {\"responsive\": true}                    ).then(function(){\n",
              "                            \n",
              "var gd = document.getElementById('94dd8d3d-d531-430b-a89a-24b9ffe66761');\n",
              "var x = new MutationObserver(function (mutations, observer) {{\n",
              "        var display = window.getComputedStyle(gd).display;\n",
              "        if (!display || display === 'none') {{\n",
              "            console.log([gd, 'removed!']);\n",
              "            Plotly.purge(gd);\n",
              "            observer.disconnect();\n",
              "        }}\n",
              "}});\n",
              "\n",
              "// Listen for the removal of the full notebook cells\n",
              "var notebookContainer = gd.closest('#notebook-container');\n",
              "if (notebookContainer) {{\n",
              "    x.observe(notebookContainer, {childList: true});\n",
              "}}\n",
              "\n",
              "// Listen for the clearing of the current output cell\n",
              "var outputEl = gd.closest('.output');\n",
              "if (outputEl) {{\n",
              "    x.observe(outputEl, {childList: true});\n",
              "}}\n",
              "\n",
              "                        })                };                            </script>        </div>\n",
              "</body>\n",
              "</html>"
            ]
          },
          "metadata": {}
        }
      ]
    },
    {
      "cell_type": "code",
      "source": [
        "# Calculate the length of each text entry\n",
        "train_trec['text_length'] = train_trec['text'].apply(lambda x: len(x.split()))\n",
        "test_trec['text_length'] = test_trec['text'].apply(lambda x: len(x.split()))\n",
        "\n",
        "# Get label names from the dataset\n",
        "label_names = dataset['train'].features['coarse_label'].int2str\n",
        "\n",
        "# Map label IDs to label names\n",
        "train_trec['Label'] = train_trec['coarse_label'].map(label_names)\n",
        "test_trec['Label'] = test_trec['coarse_label'].map(label_names)"
      ],
      "metadata": {
        "id": "84dBoJsD8rCj"
      },
      "execution_count": 41,
      "outputs": []
    },
    {
      "cell_type": "code",
      "source": [
        "# Create box plots for the training dataset\n",
        "train_fig = px.box(\n",
        "    train_df,\n",
        "    x='Label',\n",
        "    y='text_length',\n",
        "    title='Text Length Distribution by Coarse Label in Training Set',\n",
        "    labels={'text_length': 'Text Length (Number of Tokens)', 'Label': 'Coarse Label'}\n",
        ")\n",
        "train_fig.update_layout(xaxis={'categoryorder': 'total ascending'})\n",
        "train_fig.show()"
      ],
      "metadata": {
        "colab": {
          "base_uri": "https://localhost:8080/",
          "height": 542
        },
        "id": "V487dyyq8rK9",
        "outputId": "ad946870-6fb6-4815-b372-8dbea4ec7dfb"
      },
      "execution_count": 42,
      "outputs": [
        {
          "output_type": "display_data",
          "data": {
            "text/html": [
              "<html>\n",
              "<head><meta charset=\"utf-8\" /></head>\n",
              "<body>\n",
              "    <div>            <script src=\"https://cdnjs.cloudflare.com/ajax/libs/mathjax/2.7.5/MathJax.js?config=TeX-AMS-MML_SVG\"></script><script type=\"text/javascript\">if (window.MathJax && window.MathJax.Hub && window.MathJax.Hub.Config) {window.MathJax.Hub.Config({SVG: {font: \"STIX-Web\"}});}</script>                <script type=\"text/javascript\">window.PlotlyConfig = {MathJaxConfig: 'local'};</script>\n",
              "        <script charset=\"utf-8\" src=\"https://cdn.plot.ly/plotly-2.24.1.min.js\"></script>                <div id=\"9a63225f-6cd6-45f0-876d-56326e6e21ee\" class=\"plotly-graph-div\" style=\"height:525px; width:100%;\"></div>            <script type=\"text/javascript\">                                    window.PLOTLYENV=window.PLOTLYENV || {};                                    if (document.getElementById(\"9a63225f-6cd6-45f0-876d-56326e6e21ee\")) {                    Plotly.newPlot(                        \"9a63225f-6cd6-45f0-876d-56326e6e21ee\",                        [{\"alignmentgroup\":\"True\",\"hovertemplate\":\"Coarse Label=%{x}\\u003cbr\\u003eText Length (Number of Tokens)=%{y}\\u003cextra\\u003e\\u003c\\u002fextra\\u003e\",\"legendgroup\":\"\",\"marker\":{\"color\":\"#636efa\"},\"name\":\"\",\"notched\":false,\"offsetgroup\":\"\",\"orientation\":\"v\",\"showlegend\":false,\"x\":[\"DESC\",\"ENTY\",\"DESC\",\"ENTY\",\"ABBR\",\"HUM\",\"HUM\",\"HUM\",\"DESC\",\"HUM\",\"NUM\",\"DESC\",\"HUM\",\"HUM\",\"ENTY\",\"LOC\",\"DESC\",\"NUM\",\"DESC\",\"DESC\",\"NUM\",\"ENTY\",\"HUM\",\"DESC\",\"DESC\",\"ENTY\",\"HUM\",\"LOC\",\"ENTY\",\"LOC\",\"ABBR\",\"ENTY\",\"NUM\",\"HUM\",\"NUM\",\"DESC\",\"NUM\",\"ENTY\",\"LOC\",\"ENTY\",\"DESC\",\"ENTY\",\"NUM\",\"NUM\",\"DESC\",\"HUM\",\"ENTY\",\"HUM\",\"DESC\",\"ENTY\",\"LOC\",\"DESC\",\"HUM\",\"DESC\",\"HUM\",\"DESC\",\"ENTY\",\"ENTY\",\"LOC\",\"DESC\",\"LOC\",\"DESC\",\"LOC\",\"DESC\",\"HUM\",\"LOC\",\"DESC\",\"DESC\",\"LOC\",\"DESC\",\"LOC\",\"HUM\",\"ENTY\",\"DESC\",\"HUM\",\"DESC\",\"HUM\",\"ENTY\",\"DESC\",\"LOC\",\"ENTY\",\"NUM\",\"DESC\",\"LOC\",\"ENTY\",\"NUM\",\"LOC\",\"ENTY\",\"HUM\",\"NUM\",\"NUM\",\"DESC\",\"DESC\",\"ENTY\",\"DESC\",\"DESC\",\"HUM\",\"DESC\",\"NUM\",\"LOC\",\"HUM\",\"DESC\",\"DESC\",\"ENTY\",\"HUM\",\"HUM\",\"DESC\",\"LOC\",\"ENTY\",\"LOC\",\"DESC\",\"LOC\",\"LOC\",\"ENTY\",\"ENTY\",\"ENTY\",\"LOC\",\"NUM\",\"ENTY\",\"DESC\",\"LOC\",\"ENTY\",\"DESC\",\"NUM\",\"DESC\",\"DESC\",\"DESC\",\"HUM\",\"HUM\",\"NUM\",\"ENTY\",\"DESC\",\"ENTY\",\"ENTY\",\"ENTY\",\"NUM\",\"HUM\",\"DESC\",\"DESC\",\"NUM\",\"LOC\",\"ENTY\",\"LOC\",\"ENTY\",\"DESC\",\"NUM\",\"DESC\",\"ABBR\",\"HUM\",\"HUM\",\"HUM\",\"HUM\",\"NUM\",\"HUM\",\"ENTY\",\"HUM\",\"LOC\",\"ENTY\",\"ENTY\",\"DESC\",\"ENTY\",\"NUM\",\"ENTY\",\"DESC\",\"LOC\",\"HUM\",\"HUM\",\"LOC\",\"NUM\",\"NUM\",\"LOC\",\"NUM\",\"HUM\",\"HUM\",\"ENTY\",\"HUM\",\"DESC\",\"DESC\",\"NUM\",\"LOC\",\"LOC\",\"ENTY\",\"HUM\",\"HUM\",\"DESC\",\"DESC\",\"DESC\",\"NUM\",\"DESC\",\"LOC\",\"ENTY\",\"LOC\",\"HUM\",\"LOC\",\"ENTY\",\"HUM\",\"HUM\",\"NUM\",\"LOC\",\"DESC\",\"HUM\",\"DESC\",\"DESC\",\"NUM\",\"HUM\",\"HUM\",\"NUM\",\"ENTY\",\"DESC\",\"HUM\",\"ENTY\",\"ENTY\",\"LOC\",\"DESC\",\"DESC\",\"NUM\",\"DESC\",\"NUM\",\"ENTY\",\"HUM\",\"DESC\",\"ABBR\",\"ENTY\",\"DESC\",\"DESC\",\"ENTY\",\"NUM\",\"DESC\",\"NUM\",\"NUM\",\"LOC\",\"DESC\",\"HUM\",\"DESC\",\"HUM\",\"NUM\",\"LOC\",\"LOC\",\"ENTY\",\"HUM\",\"ENTY\",\"ENTY\",\"NUM\",\"DESC\",\"LOC\",\"NUM\",\"HUM\",\"DESC\",\"DESC\",\"ENTY\",\"NUM\",\"HUM\",\"DESC\",\"HUM\",\"NUM\",\"HUM\",\"ENTY\",\"DESC\",\"ENTY\",\"LOC\",\"NUM\",\"ABBR\",\"NUM\",\"NUM\",\"DESC\",\"LOC\",\"DESC\",\"DESC\",\"ENTY\",\"HUM\",\"ENTY\",\"ENTY\",\"ENTY\",\"HUM\",\"HUM\",\"HUM\",\"DESC\",\"NUM\",\"ENTY\",\"NUM\",\"NUM\",\"ENTY\",\"NUM\",\"NUM\",\"ENTY\",\"LOC\",\"HUM\",\"HUM\",\"LOC\",\"DESC\",\"DESC\",\"LOC\",\"ENTY\",\"DESC\",\"ABBR\",\"LOC\",\"ENTY\",\"ENTY\",\"LOC\",\"ENTY\",\"ENTY\",\"HUM\",\"ENTY\",\"HUM\",\"ABBR\",\"ENTY\",\"HUM\",\"ABBR\",\"ABBR\",\"ENTY\",\"LOC\",\"HUM\",\"DESC\",\"NUM\",\"NUM\",\"HUM\",\"LOC\",\"ENTY\",\"LOC\",\"HUM\",\"DESC\",\"NUM\",\"LOC\",\"ENTY\",\"DESC\",\"NUM\",\"HUM\",\"LOC\",\"HUM\",\"DESC\",\"DESC\",\"NUM\",\"NUM\",\"NUM\",\"DESC\",\"ENTY\",\"HUM\",\"HUM\",\"ENTY\",\"HUM\",\"ENTY\",\"LOC\",\"LOC\",\"HUM\",\"HUM\",\"ENTY\",\"HUM\",\"NUM\",\"ENTY\",\"DESC\",\"HUM\",\"NUM\",\"ENTY\",\"HUM\",\"LOC\",\"HUM\",\"NUM\",\"NUM\",\"DESC\",\"HUM\",\"HUM\",\"DESC\",\"LOC\",\"DESC\",\"ENTY\",\"HUM\",\"DESC\",\"ENTY\",\"DESC\",\"NUM\",\"HUM\",\"ENTY\",\"HUM\",\"LOC\",\"ENTY\",\"HUM\",\"LOC\",\"ENTY\",\"HUM\",\"NUM\",\"HUM\",\"ABBR\",\"LOC\",\"HUM\",\"DESC\",\"LOC\",\"NUM\",\"ENTY\",\"ENTY\",\"DESC\",\"HUM\",\"HUM\",\"ENTY\",\"LOC\",\"ENTY\",\"NUM\",\"DESC\",\"ENTY\",\"DESC\",\"NUM\",\"ENTY\",\"LOC\",\"NUM\",\"ENTY\",\"ENTY\",\"DESC\",\"DESC\",\"ENTY\",\"NUM\",\"ENTY\",\"ENTY\",\"DESC\",\"LOC\",\"LOC\",\"LOC\",\"NUM\",\"HUM\",\"ENTY\",\"LOC\",\"HUM\",\"DESC\",\"LOC\",\"DESC\",\"LOC\",\"DESC\",\"NUM\",\"HUM\",\"ENTY\",\"DESC\",\"ENTY\",\"NUM\",\"HUM\",\"HUM\",\"DESC\",\"HUM\",\"LOC\",\"LOC\",\"LOC\",\"ENTY\",\"DESC\",\"ENTY\",\"NUM\",\"NUM\",\"ABBR\",\"DESC\",\"ENTY\",\"ENTY\",\"DESC\",\"NUM\",\"DESC\",\"HUM\",\"HUM\",\"LOC\",\"DESC\",\"HUM\",\"LOC\",\"ENTY\",\"ENTY\",\"LOC\",\"DESC\",\"HUM\",\"ENTY\",\"LOC\",\"HUM\",\"NUM\",\"LOC\",\"LOC\",\"ENTY\",\"HUM\",\"ENTY\",\"LOC\",\"HUM\",\"ENTY\",\"HUM\",\"DESC\",\"ENTY\",\"HUM\",\"NUM\",\"ENTY\",\"ENTY\",\"DESC\",\"DESC\",\"NUM\",\"HUM\",\"ENTY\",\"ENTY\",\"HUM\",\"HUM\",\"LOC\",\"HUM\",\"ENTY\",\"HUM\",\"LOC\",\"NUM\",\"HUM\",\"ENTY\",\"DESC\",\"DESC\",\"HUM\",\"HUM\",\"NUM\",\"HUM\",\"LOC\",\"HUM\",\"HUM\",\"ENTY\",\"ENTY\",\"HUM\",\"LOC\",\"ENTY\",\"ENTY\",\"NUM\",\"ENTY\",\"DESC\",\"LOC\",\"DESC\",\"LOC\",\"NUM\",\"ABBR\",\"ENTY\",\"NUM\",\"DESC\",\"LOC\",\"ENTY\",\"HUM\",\"HUM\",\"ENTY\",\"LOC\",\"DESC\",\"NUM\",\"NUM\",\"LOC\",\"NUM\",\"HUM\",\"NUM\",\"ENTY\",\"NUM\",\"LOC\",\"DESC\",\"DESC\",\"ENTY\",\"HUM\",\"DESC\",\"ENTY\",\"ENTY\",\"NUM\",\"LOC\",\"LOC\",\"NUM\",\"ENTY\",\"NUM\",\"ENTY\",\"DESC\",\"DESC\",\"DESC\",\"LOC\",\"HUM\",\"DESC\",\"ENTY\",\"LOC\",\"LOC\",\"LOC\",\"ENTY\",\"NUM\",\"ENTY\",\"ENTY\",\"DESC\",\"LOC\",\"ENTY\",\"LOC\",\"HUM\",\"LOC\",\"ENTY\",\"ENTY\",\"DESC\",\"HUM\",\"LOC\",\"HUM\",\"ENTY\",\"ENTY\",\"LOC\",\"HUM\",\"DESC\",\"HUM\",\"ENTY\",\"LOC\",\"ENTY\",\"NUM\",\"ENTY\",\"ABBR\",\"NUM\",\"ENTY\",\"LOC\",\"ENTY\",\"HUM\",\"ENTY\",\"HUM\",\"NUM\",\"ENTY\",\"LOC\",\"HUM\",\"ENTY\",\"ENTY\",\"DESC\",\"NUM\",\"ENTY\",\"ENTY\",\"DESC\",\"NUM\",\"HUM\",\"HUM\",\"HUM\",\"DESC\",\"ENTY\",\"ENTY\",\"DESC\",\"NUM\",\"ENTY\",\"HUM\",\"DESC\",\"HUM\",\"DESC\",\"DESC\",\"LOC\",\"LOC\",\"ENTY\",\"DESC\",\"LOC\",\"NUM\",\"DESC\",\"NUM\",\"ENTY\",\"DESC\",\"HUM\",\"ENTY\",\"DESC\",\"ENTY\",\"HUM\",\"ENTY\",\"NUM\",\"DESC\",\"ENTY\",\"DESC\",\"LOC\",\"HUM\",\"HUM\",\"ENTY\",\"HUM\",\"ENTY\",\"DESC\",\"ENTY\",\"NUM\",\"ENTY\",\"DESC\",\"HUM\",\"NUM\",\"LOC\",\"DESC\",\"DESC\",\"HUM\",\"LOC\",\"ENTY\",\"NUM\",\"ENTY\",\"HUM\",\"NUM\",\"HUM\",\"HUM\",\"ABBR\",\"NUM\",\"LOC\",\"LOC\",\"HUM\",\"NUM\",\"LOC\",\"LOC\",\"DESC\",\"DESC\",\"HUM\",\"ENTY\",\"DESC\",\"HUM\",\"DESC\",\"ENTY\",\"ENTY\",\"LOC\",\"LOC\",\"ENTY\",\"ENTY\",\"HUM\",\"HUM\",\"LOC\",\"DESC\",\"DESC\",\"ENTY\",\"HUM\",\"ENTY\",\"DESC\",\"NUM\",\"ENTY\",\"NUM\",\"HUM\",\"HUM\",\"LOC\",\"HUM\",\"ENTY\",\"NUM\",\"HUM\",\"DESC\",\"NUM\",\"LOC\",\"ENTY\",\"ENTY\",\"NUM\",\"ENTY\",\"ENTY\",\"ENTY\",\"DESC\",\"ENTY\",\"HUM\",\"NUM\",\"NUM\",\"NUM\",\"LOC\",\"LOC\",\"HUM\",\"DESC\",\"NUM\",\"HUM\",\"LOC\",\"HUM\",\"NUM\",\"DESC\",\"HUM\",\"LOC\",\"NUM\",\"DESC\",\"HUM\",\"DESC\",\"ENTY\",\"ENTY\",\"NUM\",\"HUM\",\"NUM\",\"ENTY\",\"ENTY\",\"NUM\",\"DESC\",\"NUM\",\"DESC\",\"DESC\",\"LOC\",\"HUM\",\"ENTY\",\"HUM\",\"NUM\",\"DESC\",\"LOC\",\"NUM\",\"LOC\",\"ENTY\",\"DESC\",\"DESC\",\"DESC\",\"ENTY\",\"DESC\",\"LOC\",\"DESC\",\"HUM\",\"ENTY\",\"DESC\",\"HUM\",\"HUM\",\"HUM\",\"ENTY\",\"ENTY\",\"DESC\",\"DESC\",\"ENTY\",\"DESC\",\"LOC\",\"NUM\",\"ENTY\",\"NUM\",\"ENTY\",\"HUM\",\"NUM\",\"NUM\",\"ENTY\",\"HUM\",\"DESC\",\"DESC\",\"HUM\",\"DESC\",\"HUM\",\"ENTY\",\"HUM\",\"NUM\",\"ENTY\",\"DESC\",\"HUM\",\"LOC\",\"HUM\",\"DESC\",\"HUM\",\"HUM\",\"HUM\",\"ENTY\",\"HUM\",\"DESC\",\"HUM\",\"ENTY\",\"DESC\",\"NUM\",\"DESC\",\"ENTY\",\"LOC\",\"ENTY\",\"DESC\",\"ENTY\",\"NUM\",\"DESC\",\"DESC\",\"HUM\",\"ENTY\",\"LOC\",\"ENTY\",\"NUM\",\"ABBR\",\"HUM\",\"HUM\",\"HUM\",\"ENTY\",\"ENTY\",\"ENTY\",\"ENTY\",\"NUM\",\"ENTY\",\"DESC\",\"NUM\",\"HUM\",\"ENTY\",\"DESC\",\"ENTY\",\"DESC\",\"DESC\",\"HUM\",\"ENTY\",\"ABBR\",\"LOC\",\"HUM\",\"ENTY\",\"HUM\",\"HUM\",\"ABBR\",\"DESC\",\"HUM\",\"DESC\",\"NUM\",\"NUM\",\"HUM\",\"HUM\",\"NUM\",\"LOC\",\"NUM\",\"DESC\",\"HUM\",\"HUM\",\"LOC\",\"LOC\",\"ENTY\",\"LOC\",\"LOC\",\"ENTY\",\"LOC\",\"HUM\",\"HUM\",\"LOC\",\"DESC\",\"HUM\",\"LOC\",\"HUM\",\"HUM\",\"ENTY\",\"DESC\",\"ENTY\",\"LOC\",\"ENTY\",\"HUM\",\"HUM\",\"HUM\",\"DESC\",\"ENTY\",\"NUM\",\"ENTY\",\"NUM\",\"NUM\",\"HUM\",\"ENTY\",\"NUM\",\"HUM\",\"LOC\",\"ENTY\",\"HUM\",\"NUM\",\"NUM\",\"NUM\",\"LOC\",\"DESC\",\"HUM\",\"NUM\",\"ENTY\",\"LOC\",\"DESC\",\"LOC\",\"LOC\",\"ENTY\",\"NUM\",\"LOC\",\"ENTY\",\"DESC\",\"HUM\",\"DESC\",\"ENTY\",\"DESC\",\"HUM\",\"ENTY\",\"ENTY\",\"LOC\",\"HUM\",\"ENTY\",\"LOC\",\"DESC\",\"DESC\",\"LOC\",\"ENTY\",\"LOC\",\"ENTY\",\"HUM\",\"DESC\",\"HUM\",\"ENTY\",\"LOC\",\"LOC\",\"HUM\",\"DESC\",\"ENTY\",\"DESC\",\"ENTY\",\"DESC\",\"HUM\",\"NUM\",\"LOC\",\"LOC\",\"HUM\",\"ENTY\",\"DESC\",\"HUM\",\"NUM\",\"DESC\",\"NUM\",\"ENTY\",\"LOC\",\"DESC\",\"NUM\",\"ENTY\",\"NUM\",\"ENTY\",\"ENTY\",\"ENTY\",\"ENTY\",\"LOC\",\"DESC\",\"HUM\",\"HUM\",\"HUM\",\"NUM\",\"ENTY\",\"HUM\",\"NUM\",\"ABBR\",\"DESC\",\"LOC\",\"DESC\",\"ENTY\",\"NUM\",\"HUM\",\"ENTY\",\"HUM\",\"DESC\",\"LOC\",\"ENTY\",\"ENTY\",\"ENTY\",\"ENTY\",\"DESC\",\"LOC\",\"DESC\",\"HUM\",\"HUM\",\"HUM\",\"NUM\",\"ENTY\",\"ENTY\",\"HUM\",\"HUM\",\"ENTY\",\"DESC\",\"DESC\",\"NUM\",\"NUM\",\"DESC\",\"ENTY\",\"HUM\",\"DESC\",\"NUM\",\"NUM\",\"ENTY\",\"HUM\",\"DESC\",\"LOC\",\"HUM\",\"HUM\",\"ENTY\",\"HUM\",\"ENTY\",\"LOC\",\"ENTY\",\"DESC\",\"ENTY\",\"ENTY\",\"DESC\",\"LOC\",\"ENTY\",\"NUM\",\"LOC\",\"DESC\",\"DESC\",\"HUM\",\"NUM\",\"NUM\",\"DESC\",\"ENTY\",\"NUM\",\"ENTY\",\"ENTY\",\"NUM\",\"ENTY\",\"LOC\",\"DESC\",\"HUM\",\"ENTY\",\"NUM\",\"HUM\",\"DESC\",\"ENTY\",\"HUM\",\"HUM\",\"ENTY\",\"NUM\",\"DESC\",\"ENTY\",\"DESC\",\"NUM\",\"DESC\",\"NUM\",\"NUM\",\"ENTY\",\"DESC\",\"HUM\",\"DESC\",\"NUM\",\"ENTY\",\"NUM\",\"DESC\",\"LOC\",\"DESC\",\"ENTY\",\"ENTY\",\"NUM\",\"LOC\",\"DESC\",\"NUM\",\"ENTY\",\"LOC\",\"HUM\",\"NUM\",\"DESC\",\"ENTY\",\"ENTY\",\"ENTY\",\"HUM\",\"HUM\",\"ENTY\",\"HUM\",\"LOC\",\"DESC\",\"ENTY\",\"LOC\",\"HUM\",\"DESC\",\"HUM\",\"NUM\",\"HUM\",\"ENTY\",\"HUM\",\"ENTY\",\"NUM\",\"DESC\",\"HUM\",\"LOC\",\"NUM\",\"HUM\",\"DESC\",\"DESC\",\"NUM\",\"LOC\",\"DESC\",\"ENTY\",\"DESC\",\"NUM\",\"HUM\",\"HUM\",\"LOC\",\"LOC\",\"DESC\",\"HUM\",\"NUM\",\"HUM\",\"ENTY\",\"HUM\",\"DESC\",\"HUM\",\"ENTY\",\"ENTY\",\"DESC\",\"LOC\",\"DESC\",\"ENTY\",\"LOC\",\"NUM\",\"ENTY\",\"DESC\",\"DESC\",\"DESC\",\"HUM\",\"NUM\",\"LOC\",\"ENTY\",\"ENTY\",\"ENTY\",\"LOC\",\"LOC\",\"HUM\",\"ENTY\",\"DESC\",\"DESC\",\"NUM\",\"ENTY\",\"NUM\",\"DESC\",\"LOC\",\"DESC\",\"DESC\",\"LOC\",\"LOC\",\"DESC\",\"NUM\",\"NUM\",\"NUM\",\"HUM\",\"ENTY\",\"LOC\",\"HUM\",\"HUM\",\"DESC\",\"LOC\",\"ENTY\",\"NUM\",\"LOC\",\"DESC\",\"ENTY\",\"DESC\",\"ENTY\",\"NUM\",\"DESC\",\"ENTY\",\"DESC\",\"DESC\",\"ENTY\",\"LOC\",\"DESC\",\"LOC\",\"DESC\",\"ENTY\",\"HUM\",\"ENTY\",\"ABBR\",\"LOC\",\"ENTY\",\"LOC\",\"ENTY\",\"NUM\",\"HUM\",\"NUM\",\"HUM\",\"HUM\",\"HUM\",\"DESC\",\"NUM\",\"NUM\",\"HUM\",\"LOC\",\"ENTY\",\"NUM\",\"HUM\",\"DESC\",\"ENTY\",\"HUM\",\"HUM\",\"LOC\",\"NUM\",\"ENTY\",\"ENTY\",\"DESC\",\"DESC\",\"HUM\",\"HUM\",\"ENTY\",\"LOC\",\"NUM\",\"ENTY\",\"NUM\",\"HUM\",\"HUM\",\"NUM\",\"DESC\",\"HUM\",\"NUM\",\"HUM\",\"DESC\",\"HUM\",\"LOC\",\"DESC\",\"DESC\",\"ENTY\",\"ENTY\",\"ENTY\",\"LOC\",\"LOC\",\"DESC\",\"DESC\",\"HUM\",\"ENTY\",\"ENTY\",\"HUM\",\"HUM\",\"ABBR\",\"ENTY\",\"LOC\",\"HUM\",\"DESC\",\"HUM\",\"LOC\",\"LOC\",\"NUM\",\"NUM\",\"HUM\",\"HUM\",\"NUM\",\"NUM\",\"LOC\",\"LOC\",\"LOC\",\"NUM\",\"NUM\",\"ENTY\",\"DESC\",\"DESC\",\"ABBR\",\"HUM\",\"LOC\",\"DESC\",\"DESC\",\"ENTY\",\"DESC\",\"ENTY\",\"ENTY\",\"HUM\",\"DESC\",\"HUM\",\"DESC\",\"LOC\",\"LOC\",\"DESC\",\"DESC\",\"HUM\",\"DESC\",\"NUM\",\"LOC\",\"LOC\",\"HUM\",\"ENTY\",\"ENTY\",\"HUM\",\"ENTY\",\"NUM\",\"NUM\",\"HUM\",\"ENTY\",\"LOC\",\"NUM\",\"ENTY\",\"DESC\",\"DESC\",\"DESC\",\"ENTY\",\"HUM\",\"ENTY\",\"ENTY\",\"ENTY\",\"ENTY\",\"HUM\",\"ENTY\",\"DESC\",\"NUM\",\"NUM\",\"HUM\",\"HUM\",\"LOC\",\"ENTY\",\"NUM\",\"DESC\",\"LOC\",\"HUM\",\"NUM\",\"HUM\",\"LOC\",\"DESC\",\"LOC\",\"DESC\",\"DESC\",\"DESC\",\"ENTY\",\"LOC\",\"LOC\",\"ENTY\",\"LOC\",\"DESC\",\"ABBR\",\"ENTY\",\"HUM\",\"NUM\",\"NUM\",\"HUM\",\"ENTY\",\"ENTY\",\"NUM\",\"LOC\",\"LOC\",\"HUM\",\"ENTY\",\"DESC\",\"LOC\",\"DESC\",\"HUM\",\"ENTY\",\"HUM\",\"ENTY\",\"HUM\",\"LOC\",\"HUM\",\"ENTY\",\"ENTY\",\"ENTY\",\"DESC\",\"ENTY\",\"HUM\",\"NUM\",\"HUM\",\"HUM\",\"HUM\",\"LOC\",\"LOC\",\"DESC\",\"HUM\",\"DESC\",\"ENTY\",\"LOC\",\"ENTY\",\"NUM\",\"DESC\",\"DESC\",\"HUM\",\"NUM\",\"HUM\",\"ABBR\",\"ENTY\",\"DESC\",\"HUM\",\"LOC\",\"ENTY\",\"HUM\",\"ENTY\",\"NUM\",\"HUM\",\"NUM\",\"HUM\",\"LOC\",\"ENTY\",\"DESC\",\"LOC\",\"NUM\",\"ENTY\",\"HUM\",\"NUM\",\"LOC\",\"NUM\",\"HUM\",\"LOC\",\"LOC\",\"LOC\",\"ENTY\",\"ENTY\",\"NUM\",\"ENTY\",\"ENTY\",\"DESC\",\"LOC\",\"LOC\",\"ENTY\",\"LOC\",\"NUM\",\"ENTY\",\"LOC\",\"LOC\",\"LOC\",\"LOC\",\"HUM\",\"ENTY\",\"HUM\",\"DESC\",\"HUM\",\"ENTY\",\"HUM\",\"ENTY\",\"HUM\",\"DESC\",\"ENTY\",\"LOC\",\"NUM\",\"DESC\",\"HUM\",\"LOC\",\"ABBR\",\"DESC\",\"DESC\",\"HUM\",\"HUM\",\"DESC\",\"HUM\",\"NUM\",\"HUM\",\"LOC\",\"ENTY\",\"NUM\",\"DESC\",\"HUM\",\"HUM\",\"HUM\",\"HUM\",\"DESC\",\"HUM\",\"DESC\",\"LOC\",\"LOC\",\"HUM\",\"ENTY\",\"HUM\",\"ENTY\",\"HUM\",\"HUM\",\"HUM\",\"NUM\",\"LOC\",\"HUM\",\"ENTY\",\"DESC\",\"DESC\",\"ENTY\",\"LOC\",\"LOC\",\"NUM\",\"ENTY\",\"NUM\",\"ENTY\",\"HUM\",\"NUM\",\"LOC\",\"NUM\",\"ENTY\",\"ENTY\",\"DESC\",\"NUM\",\"ENTY\",\"LOC\",\"ENTY\",\"ENTY\",\"ENTY\",\"ENTY\",\"LOC\",\"NUM\",\"HUM\",\"HUM\",\"ENTY\",\"DESC\",\"DESC\",\"ENTY\",\"HUM\",\"ENTY\",\"HUM\",\"DESC\",\"LOC\",\"ENTY\",\"NUM\",\"NUM\",\"HUM\",\"HUM\",\"DESC\",\"LOC\",\"LOC\",\"LOC\",\"HUM\",\"HUM\",\"ENTY\",\"NUM\",\"LOC\",\"LOC\",\"DESC\",\"ENTY\",\"NUM\",\"NUM\",\"HUM\",\"DESC\",\"DESC\",\"HUM\",\"HUM\",\"ENTY\",\"NUM\",\"NUM\",\"ENTY\",\"DESC\",\"LOC\",\"HUM\",\"HUM\",\"HUM\",\"HUM\",\"ENTY\",\"ENTY\",\"LOC\",\"NUM\",\"NUM\",\"HUM\",\"NUM\",\"NUM\",\"HUM\",\"LOC\",\"HUM\",\"DESC\",\"HUM\",\"HUM\",\"DESC\",\"HUM\",\"DESC\",\"ENTY\",\"ENTY\",\"ENTY\",\"NUM\",\"DESC\",\"DESC\",\"NUM\",\"ENTY\",\"ENTY\",\"NUM\",\"ENTY\",\"ENTY\",\"DESC\",\"HUM\",\"ENTY\",\"DESC\",\"HUM\",\"ENTY\",\"HUM\",\"NUM\",\"ENTY\",\"DESC\",\"DESC\",\"LOC\",\"DESC\",\"DESC\",\"ENTY\",\"HUM\",\"ENTY\",\"ENTY\",\"LOC\",\"DESC\",\"DESC\",\"ENTY\",\"ENTY\",\"HUM\",\"HUM\",\"DESC\",\"ENTY\",\"HUM\",\"DESC\",\"DESC\",\"HUM\",\"NUM\",\"DESC\",\"NUM\",\"HUM\",\"ENTY\",\"NUM\",\"NUM\",\"LOC\",\"DESC\",\"ENTY\",\"ENTY\",\"ENTY\",\"ENTY\",\"LOC\",\"NUM\",\"ENTY\",\"HUM\",\"HUM\",\"HUM\",\"DESC\",\"HUM\",\"DESC\",\"ENTY\",\"ENTY\",\"DESC\",\"DESC\",\"HUM\",\"HUM\",\"HUM\",\"ENTY\",\"DESC\",\"HUM\",\"HUM\",\"NUM\",\"LOC\",\"NUM\",\"ENTY\",\"DESC\",\"DESC\",\"NUM\",\"HUM\",\"NUM\",\"NUM\",\"ABBR\",\"HUM\",\"ENTY\",\"HUM\",\"DESC\",\"LOC\",\"HUM\",\"DESC\",\"ENTY\",\"ENTY\",\"DESC\",\"HUM\",\"ENTY\",\"LOC\",\"LOC\",\"LOC\",\"NUM\",\"DESC\",\"LOC\",\"NUM\",\"HUM\",\"ENTY\",\"HUM\",\"DESC\",\"ENTY\",\"NUM\",\"NUM\",\"LOC\",\"NUM\",\"LOC\",\"LOC\",\"DESC\",\"ENTY\",\"LOC\",\"DESC\",\"HUM\",\"ENTY\",\"HUM\",\"HUM\",\"HUM\",\"ENTY\",\"DESC\",\"LOC\",\"NUM\",\"ENTY\",\"NUM\",\"NUM\",\"DESC\",\"LOC\",\"ENTY\",\"NUM\",\"ENTY\",\"DESC\",\"HUM\",\"DESC\",\"HUM\",\"ABBR\",\"DESC\",\"ENTY\",\"ENTY\",\"NUM\",\"ENTY\",\"NUM\",\"LOC\",\"HUM\",\"HUM\",\"ENTY\",\"DESC\",\"NUM\",\"NUM\",\"HUM\",\"LOC\",\"DESC\",\"HUM\",\"ENTY\",\"LOC\",\"HUM\",\"LOC\",\"NUM\",\"LOC\",\"HUM\",\"ENTY\",\"ABBR\",\"DESC\",\"NUM\",\"ENTY\",\"NUM\",\"HUM\",\"ENTY\",\"HUM\",\"ENTY\",\"HUM\",\"DESC\",\"ENTY\",\"HUM\",\"ENTY\",\"NUM\",\"DESC\",\"DESC\",\"ENTY\",\"LOC\",\"DESC\",\"LOC\",\"NUM\",\"HUM\",\"DESC\",\"HUM\",\"NUM\",\"NUM\",\"HUM\",\"NUM\",\"NUM\",\"NUM\",\"DESC\",\"DESC\",\"NUM\",\"ENTY\",\"NUM\",\"ENTY\",\"LOC\",\"ENTY\",\"HUM\",\"HUM\",\"HUM\",\"DESC\",\"ENTY\",\"ENTY\",\"HUM\",\"LOC\",\"LOC\",\"LOC\",\"ENTY\",\"HUM\",\"LOC\",\"ENTY\",\"HUM\",\"HUM\",\"HUM\",\"NUM\",\"HUM\",\"HUM\",\"LOC\",\"HUM\",\"NUM\",\"LOC\",\"HUM\",\"ENTY\",\"HUM\",\"ENTY\",\"ENTY\",\"NUM\",\"NUM\",\"DESC\",\"LOC\",\"DESC\",\"DESC\",\"LOC\",\"DESC\",\"ENTY\",\"DESC\",\"NUM\",\"HUM\",\"NUM\",\"ENTY\",\"HUM\",\"NUM\",\"HUM\",\"LOC\",\"LOC\",\"NUM\",\"HUM\",\"ENTY\",\"HUM\",\"HUM\",\"ENTY\",\"LOC\",\"LOC\",\"NUM\",\"DESC\",\"ENTY\",\"LOC\",\"NUM\",\"ENTY\",\"LOC\",\"LOC\",\"HUM\",\"HUM\",\"NUM\",\"DESC\",\"ENTY\",\"LOC\",\"DESC\",\"DESC\",\"ENTY\",\"DESC\",\"NUM\",\"HUM\",\"ENTY\",\"ENTY\",\"NUM\",\"DESC\",\"HUM\",\"HUM\",\"DESC\",\"ENTY\",\"NUM\",\"LOC\",\"LOC\",\"LOC\",\"LOC\",\"ENTY\",\"HUM\",\"LOC\",\"ENTY\",\"DESC\",\"HUM\",\"ENTY\",\"HUM\",\"LOC\",\"NUM\",\"DESC\",\"NUM\",\"ENTY\",\"DESC\",\"ENTY\",\"ABBR\",\"HUM\",\"HUM\",\"ENTY\",\"LOC\",\"DESC\",\"ENTY\",\"DESC\",\"ENTY\",\"NUM\",\"HUM\",\"ENTY\",\"ENTY\",\"LOC\",\"LOC\",\"DESC\",\"HUM\",\"DESC\",\"DESC\",\"DESC\",\"ENTY\",\"DESC\",\"ENTY\",\"ENTY\",\"HUM\",\"HUM\",\"DESC\",\"NUM\",\"DESC\",\"HUM\",\"LOC\",\"DESC\",\"DESC\",\"HUM\",\"LOC\",\"DESC\",\"DESC\",\"DESC\",\"HUM\",\"HUM\",\"DESC\",\"HUM\",\"ENTY\",\"NUM\",\"ENTY\",\"DESC\",\"DESC\",\"LOC\",\"ENTY\",\"LOC\",\"HUM\",\"LOC\",\"ENTY\",\"ENTY\",\"DESC\",\"ENTY\",\"ENTY\",\"ENTY\",\"DESC\",\"NUM\",\"HUM\",\"NUM\",\"DESC\",\"ENTY\",\"DESC\",\"ENTY\",\"LOC\",\"LOC\",\"DESC\",\"DESC\",\"DESC\",\"DESC\",\"HUM\",\"DESC\",\"LOC\",\"NUM\",\"DESC\",\"ENTY\",\"NUM\",\"DESC\",\"ENTY\",\"ENTY\",\"HUM\",\"DESC\",\"DESC\",\"ENTY\",\"LOC\",\"DESC\",\"NUM\",\"ENTY\",\"ENTY\",\"ENTY\",\"ENTY\",\"LOC\",\"NUM\",\"ENTY\",\"HUM\",\"ENTY\",\"DESC\",\"ABBR\",\"ENTY\",\"NUM\",\"ABBR\",\"DESC\",\"ENTY\",\"LOC\",\"ENTY\",\"NUM\",\"HUM\",\"ENTY\",\"DESC\",\"NUM\",\"ENTY\",\"LOC\",\"DESC\",\"DESC\",\"DESC\",\"DESC\",\"NUM\",\"DESC\",\"ENTY\",\"NUM\",\"ENTY\",\"LOC\",\"ENTY\",\"HUM\",\"ENTY\",\"LOC\",\"DESC\",\"HUM\",\"NUM\",\"LOC\",\"ENTY\",\"ENTY\",\"NUM\",\"HUM\",\"DESC\",\"ENTY\",\"ENTY\",\"ENTY\",\"ENTY\",\"NUM\",\"DESC\",\"NUM\",\"DESC\",\"HUM\",\"LOC\",\"NUM\",\"ENTY\",\"LOC\",\"DESC\",\"ENTY\",\"ENTY\",\"ENTY\",\"DESC\",\"HUM\",\"ENTY\",\"HUM\",\"HUM\",\"NUM\",\"LOC\",\"HUM\",\"ENTY\",\"NUM\",\"LOC\",\"HUM\",\"NUM\",\"LOC\",\"NUM\",\"DESC\",\"DESC\",\"HUM\",\"HUM\",\"ENTY\",\"NUM\",\"ENTY\",\"LOC\",\"HUM\",\"DESC\",\"HUM\",\"ENTY\",\"DESC\",\"ABBR\",\"ENTY\",\"ENTY\",\"DESC\",\"HUM\",\"DESC\",\"DESC\",\"HUM\",\"LOC\",\"HUM\",\"HUM\",\"HUM\",\"NUM\",\"NUM\",\"NUM\",\"NUM\",\"ENTY\",\"DESC\",\"ABBR\",\"HUM\",\"HUM\",\"DESC\",\"DESC\",\"ENTY\",\"NUM\",\"ENTY\",\"HUM\",\"NUM\",\"HUM\",\"DESC\",\"LOC\",\"ENTY\",\"ENTY\",\"NUM\",\"ENTY\",\"ENTY\",\"LOC\",\"DESC\",\"DESC\",\"DESC\",\"HUM\",\"LOC\",\"DESC\",\"DESC\",\"ENTY\",\"LOC\",\"DESC\",\"DESC\",\"HUM\",\"DESC\",\"DESC\",\"HUM\",\"HUM\",\"HUM\",\"NUM\",\"ENTY\",\"DESC\",\"DESC\",\"HUM\",\"DESC\",\"DESC\",\"NUM\",\"ENTY\",\"DESC\",\"ENTY\",\"DESC\",\"ENTY\",\"LOC\",\"ENTY\",\"HUM\",\"ABBR\",\"ENTY\",\"HUM\",\"LOC\",\"NUM\",\"ABBR\",\"LOC\",\"ENTY\",\"DESC\",\"HUM\",\"DESC\",\"LOC\",\"DESC\",\"ENTY\",\"ENTY\",\"DESC\",\"NUM\",\"DESC\",\"LOC\",\"DESC\",\"NUM\",\"ENTY\",\"DESC\",\"LOC\",\"ENTY\",\"HUM\",\"DESC\",\"DESC\",\"LOC\",\"DESC\",\"LOC\",\"NUM\",\"LOC\",\"ENTY\",\"HUM\",\"ENTY\",\"DESC\",\"HUM\",\"HUM\",\"NUM\",\"HUM\",\"LOC\",\"LOC\",\"ENTY\",\"DESC\",\"DESC\",\"NUM\",\"NUM\",\"DESC\",\"ENTY\",\"HUM\",\"HUM\",\"ENTY\",\"NUM\",\"LOC\",\"ENTY\",\"LOC\",\"ENTY\",\"ENTY\",\"HUM\",\"HUM\",\"ENTY\",\"DESC\",\"DESC\",\"HUM\",\"LOC\",\"HUM\",\"LOC\",\"HUM\",\"LOC\",\"LOC\",\"NUM\",\"NUM\",\"ENTY\",\"NUM\",\"HUM\",\"ENTY\",\"HUM\",\"DESC\",\"LOC\",\"LOC\",\"ENTY\",\"DESC\",\"HUM\",\"HUM\",\"NUM\",\"DESC\",\"HUM\",\"NUM\",\"LOC\",\"LOC\",\"NUM\",\"DESC\",\"LOC\",\"DESC\",\"NUM\",\"HUM\",\"LOC\",\"DESC\",\"DESC\",\"LOC\",\"DESC\",\"DESC\",\"NUM\",\"ENTY\",\"ENTY\",\"LOC\",\"HUM\",\"DESC\",\"HUM\",\"NUM\",\"LOC\",\"HUM\",\"HUM\",\"DESC\",\"ABBR\",\"LOC\",\"DESC\",\"ENTY\",\"DESC\",\"HUM\",\"DESC\",\"NUM\",\"LOC\",\"ENTY\",\"HUM\",\"NUM\",\"LOC\",\"LOC\",\"ENTY\",\"HUM\",\"DESC\",\"DESC\",\"LOC\",\"LOC\",\"DESC\",\"ENTY\",\"ENTY\",\"ENTY\",\"LOC\",\"ENTY\",\"ENTY\",\"HUM\",\"ENTY\",\"DESC\",\"LOC\",\"DESC\",\"NUM\",\"DESC\",\"NUM\",\"DESC\",\"ENTY\",\"NUM\",\"DESC\",\"ENTY\",\"ENTY\",\"NUM\",\"LOC\",\"ENTY\",\"DESC\",\"NUM\",\"LOC\",\"NUM\",\"ENTY\",\"NUM\",\"NUM\",\"HUM\",\"NUM\",\"HUM\",\"ENTY\",\"HUM\",\"ENTY\",\"DESC\",\"HUM\",\"NUM\",\"ENTY\",\"DESC\",\"LOC\",\"NUM\",\"ENTY\",\"HUM\",\"ENTY\",\"LOC\",\"DESC\",\"HUM\",\"NUM\",\"NUM\",\"HUM\",\"LOC\",\"HUM\",\"LOC\",\"DESC\",\"ENTY\",\"HUM\",\"LOC\",\"NUM\",\"ENTY\",\"DESC\",\"ENTY\",\"ENTY\",\"LOC\",\"LOC\",\"HUM\",\"LOC\",\"DESC\",\"NUM\",\"ENTY\",\"DESC\",\"ENTY\",\"DESC\",\"NUM\",\"ENTY\",\"HUM\",\"NUM\",\"NUM\",\"DESC\",\"NUM\",\"HUM\",\"NUM\",\"ABBR\",\"DESC\",\"HUM\",\"NUM\",\"HUM\",\"NUM\",\"HUM\",\"ENTY\",\"NUM\",\"DESC\",\"HUM\",\"DESC\",\"ENTY\",\"LOC\",\"ENTY\",\"ENTY\",\"LOC\",\"DESC\",\"ENTY\",\"NUM\",\"ENTY\",\"LOC\",\"LOC\",\"ABBR\",\"DESC\",\"HUM\",\"DESC\",\"HUM\",\"HUM\",\"HUM\",\"HUM\",\"HUM\",\"LOC\",\"HUM\",\"ENTY\",\"HUM\",\"ENTY\",\"DESC\",\"DESC\",\"HUM\",\"HUM\",\"DESC\",\"LOC\",\"HUM\",\"HUM\",\"HUM\",\"NUM\",\"LOC\",\"DESC\",\"LOC\",\"ENTY\",\"NUM\",\"LOC\",\"HUM\",\"NUM\",\"ENTY\",\"DESC\",\"HUM\",\"DESC\",\"NUM\",\"DESC\",\"ENTY\",\"NUM\",\"LOC\",\"LOC\",\"ENTY\",\"HUM\",\"NUM\",\"DESC\",\"ENTY\",\"LOC\",\"LOC\",\"DESC\",\"HUM\",\"DESC\",\"DESC\",\"ABBR\",\"NUM\",\"ENTY\",\"DESC\",\"HUM\",\"NUM\",\"DESC\",\"HUM\",\"HUM\",\"ENTY\",\"ENTY\",\"HUM\",\"LOC\",\"DESC\",\"DESC\",\"ENTY\",\"DESC\",\"ENTY\",\"NUM\",\"NUM\",\"NUM\",\"ENTY\",\"ENTY\",\"LOC\",\"NUM\",\"HUM\",\"HUM\",\"ENTY\",\"ENTY\",\"ENTY\",\"DESC\",\"NUM\",\"DESC\",\"DESC\",\"ENTY\",\"LOC\",\"HUM\",\"HUM\",\"ENTY\",\"ENTY\",\"LOC\",\"DESC\",\"DESC\",\"ENTY\",\"HUM\",\"DESC\",\"HUM\",\"HUM\",\"HUM\",\"ENTY\",\"HUM\",\"DESC\",\"HUM\",\"LOC\",\"LOC\",\"HUM\",\"HUM\",\"DESC\",\"NUM\",\"LOC\",\"HUM\",\"ENTY\",\"HUM\",\"HUM\",\"LOC\",\"DESC\",\"ENTY\",\"HUM\",\"ABBR\",\"ENTY\",\"DESC\",\"DESC\",\"NUM\",\"HUM\",\"DESC\",\"DESC\",\"DESC\",\"DESC\",\"HUM\",\"DESC\",\"DESC\",\"DESC\",\"DESC\",\"DESC\",\"HUM\",\"LOC\",\"DESC\",\"LOC\",\"NUM\",\"DESC\",\"NUM\",\"HUM\",\"HUM\",\"HUM\",\"ENTY\",\"LOC\",\"DESC\",\"DESC\",\"NUM\",\"ENTY\",\"NUM\",\"ABBR\",\"LOC\",\"ENTY\",\"DESC\",\"DESC\",\"ENTY\",\"ENTY\",\"NUM\",\"HUM\",\"DESC\",\"ENTY\",\"LOC\",\"DESC\",\"DESC\",\"DESC\",\"ENTY\",\"DESC\",\"NUM\",\"ENTY\",\"DESC\",\"LOC\",\"LOC\",\"NUM\",\"DESC\",\"ENTY\",\"LOC\",\"DESC\",\"ENTY\",\"ENTY\",\"HUM\",\"HUM\",\"DESC\",\"LOC\",\"DESC\",\"HUM\",\"NUM\",\"HUM\",\"DESC\",\"LOC\",\"DESC\",\"DESC\",\"ENTY\",\"NUM\",\"NUM\",\"HUM\",\"LOC\",\"ENTY\",\"LOC\",\"ENTY\",\"DESC\",\"ENTY\",\"NUM\",\"NUM\",\"ENTY\",\"NUM\",\"ENTY\",\"ENTY\",\"ENTY\",\"NUM\",\"ABBR\",\"DESC\",\"NUM\",\"ENTY\",\"HUM\",\"LOC\",\"ENTY\",\"ENTY\",\"LOC\",\"ENTY\",\"ENTY\",\"DESC\",\"HUM\",\"DESC\",\"ENTY\",\"NUM\",\"HUM\",\"ENTY\",\"DESC\",\"HUM\",\"ENTY\",\"ENTY\",\"ENTY\",\"ENTY\",\"ENTY\",\"HUM\",\"LOC\",\"NUM\",\"NUM\",\"NUM\",\"DESC\",\"LOC\",\"DESC\",\"LOC\",\"ENTY\",\"LOC\",\"ENTY\",\"LOC\",\"NUM\",\"DESC\",\"HUM\",\"NUM\",\"LOC\",\"HUM\",\"DESC\",\"HUM\",\"HUM\",\"HUM\",\"ENTY\",\"HUM\",\"NUM\",\"HUM\",\"DESC\",\"ENTY\",\"HUM\",\"ENTY\",\"NUM\",\"ABBR\",\"LOC\",\"LOC\",\"ENTY\",\"NUM\",\"DESC\",\"HUM\",\"NUM\",\"DESC\",\"ENTY\",\"ENTY\",\"DESC\",\"DESC\",\"NUM\",\"ENTY\",\"NUM\",\"NUM\",\"DESC\",\"ENTY\",\"DESC\",\"ENTY\",\"HUM\",\"ENTY\",\"LOC\",\"HUM\",\"ENTY\",\"NUM\",\"NUM\",\"ENTY\",\"HUM\",\"NUM\",\"ENTY\",\"LOC\",\"DESC\",\"DESC\",\"ENTY\",\"NUM\",\"DESC\",\"ENTY\",\"HUM\",\"DESC\",\"ENTY\",\"HUM\",\"ABBR\",\"DESC\",\"HUM\",\"HUM\",\"ENTY\",\"ENTY\",\"DESC\",\"ENTY\",\"HUM\",\"LOC\",\"ENTY\",\"LOC\",\"HUM\",\"LOC\",\"HUM\",\"DESC\",\"ENTY\",\"DESC\",\"DESC\",\"HUM\",\"LOC\",\"LOC\",\"DESC\",\"DESC\",\"ENTY\",\"HUM\",\"HUM\",\"LOC\",\"ENTY\",\"LOC\",\"LOC\",\"LOC\",\"ENTY\",\"LOC\",\"DESC\",\"NUM\",\"DESC\",\"DESC\",\"ENTY\",\"NUM\",\"LOC\",\"DESC\",\"NUM\",\"HUM\",\"DESC\",\"ENTY\",\"ENTY\",\"ENTY\",\"ABBR\",\"ENTY\",\"ENTY\",\"NUM\",\"LOC\",\"ENTY\",\"ENTY\",\"HUM\",\"HUM\",\"DESC\",\"ENTY\",\"NUM\",\"LOC\",\"NUM\",\"DESC\",\"NUM\",\"LOC\",\"DESC\",\"DESC\",\"NUM\",\"DESC\",\"ENTY\",\"LOC\",\"LOC\",\"DESC\",\"ENTY\",\"ENTY\",\"NUM\",\"LOC\",\"ENTY\",\"ENTY\",\"ENTY\",\"HUM\",\"DESC\",\"ENTY\",\"NUM\",\"HUM\",\"HUM\",\"NUM\",\"HUM\",\"HUM\",\"HUM\",\"DESC\",\"HUM\",\"LOC\",\"HUM\",\"DESC\",\"DESC\",\"DESC\",\"NUM\",\"LOC\",\"NUM\",\"ENTY\",\"HUM\",\"DESC\",\"NUM\",\"ENTY\",\"ENTY\",\"DESC\",\"LOC\",\"NUM\",\"HUM\",\"LOC\",\"DESC\",\"DESC\",\"ENTY\",\"DESC\",\"DESC\",\"ENTY\",\"ENTY\",\"HUM\",\"NUM\",\"DESC\",\"ENTY\",\"DESC\",\"NUM\",\"NUM\",\"DESC\",\"ENTY\",\"NUM\",\"HUM\",\"DESC\",\"NUM\",\"ENTY\",\"ENTY\",\"HUM\",\"ENTY\",\"ENTY\",\"ENTY\",\"HUM\",\"DESC\",\"NUM\",\"NUM\",\"DESC\",\"NUM\",\"DESC\",\"HUM\",\"HUM\",\"ENTY\",\"DESC\",\"ENTY\",\"NUM\",\"HUM\",\"NUM\",\"HUM\",\"NUM\",\"DESC\",\"HUM\",\"NUM\",\"HUM\",\"DESC\",\"DESC\",\"ENTY\",\"HUM\",\"ENTY\",\"HUM\",\"HUM\",\"HUM\",\"DESC\",\"DESC\",\"HUM\",\"DESC\",\"DESC\",\"DESC\",\"NUM\",\"ENTY\",\"DESC\",\"HUM\",\"HUM\",\"ENTY\",\"LOC\",\"ENTY\",\"HUM\",\"DESC\",\"DESC\",\"LOC\",\"NUM\",\"DESC\",\"DESC\",\"ENTY\",\"HUM\",\"DESC\",\"HUM\",\"DESC\",\"DESC\",\"DESC\",\"LOC\",\"NUM\",\"HUM\",\"DESC\",\"NUM\",\"DESC\",\"ENTY\",\"ENTY\",\"ENTY\",\"LOC\",\"HUM\",\"NUM\",\"ENTY\",\"LOC\",\"ENTY\",\"DESC\",\"HUM\",\"DESC\",\"NUM\",\"DESC\",\"ENTY\",\"NUM\",\"ENTY\",\"NUM\",\"DESC\",\"LOC\",\"DESC\",\"NUM\",\"NUM\",\"NUM\",\"NUM\",\"HUM\",\"NUM\",\"HUM\",\"ENTY\",\"HUM\",\"ENTY\",\"NUM\",\"LOC\",\"HUM\",\"ENTY\",\"LOC\",\"LOC\",\"NUM\",\"NUM\",\"HUM\",\"LOC\",\"LOC\",\"ENTY\",\"DESC\",\"HUM\",\"NUM\",\"LOC\",\"ENTY\",\"DESC\",\"ENTY\",\"NUM\",\"HUM\",\"ENTY\",\"NUM\",\"HUM\",\"DESC\",\"ENTY\",\"HUM\",\"LOC\",\"DESC\",\"ENTY\",\"HUM\",\"DESC\",\"ABBR\",\"HUM\",\"ENTY\",\"HUM\",\"LOC\",\"NUM\",\"LOC\",\"DESC\",\"DESC\",\"HUM\",\"HUM\",\"HUM\",\"NUM\",\"NUM\",\"HUM\",\"LOC\",\"HUM\",\"ENTY\",\"HUM\",\"HUM\",\"HUM\",\"HUM\",\"DESC\",\"NUM\",\"NUM\",\"ENTY\",\"HUM\",\"NUM\",\"LOC\",\"LOC\",\"HUM\",\"HUM\",\"LOC\",\"HUM\",\"NUM\",\"NUM\",\"HUM\",\"DESC\",\"NUM\",\"LOC\",\"HUM\",\"NUM\",\"DESC\",\"LOC\",\"HUM\",\"HUM\",\"ENTY\",\"DESC\",\"LOC\",\"HUM\",\"DESC\",\"ENTY\",\"NUM\",\"HUM\",\"HUM\",\"LOC\",\"DESC\",\"ENTY\",\"DESC\",\"NUM\",\"ENTY\",\"NUM\",\"HUM\",\"HUM\",\"ENTY\",\"HUM\",\"DESC\",\"HUM\",\"HUM\",\"HUM\",\"DESC\",\"HUM\",\"ENTY\",\"DESC\",\"ENTY\",\"LOC\",\"NUM\",\"LOC\",\"HUM\",\"LOC\",\"NUM\",\"HUM\",\"LOC\",\"HUM\",\"HUM\",\"DESC\",\"HUM\",\"NUM\",\"DESC\",\"LOC\",\"HUM\",\"NUM\",\"NUM\",\"DESC\",\"ENTY\",\"DESC\",\"DESC\",\"ENTY\",\"LOC\",\"HUM\",\"DESC\",\"HUM\",\"LOC\",\"DESC\",\"LOC\",\"HUM\",\"NUM\",\"ENTY\",\"HUM\",\"HUM\",\"ENTY\",\"HUM\",\"NUM\",\"HUM\",\"DESC\",\"LOC\",\"NUM\",\"LOC\",\"HUM\",\"LOC\",\"HUM\",\"ENTY\",\"ENTY\",\"HUM\",\"ENTY\",\"DESC\",\"HUM\",\"LOC\",\"ENTY\",\"DESC\",\"LOC\",\"ENTY\",\"ENTY\",\"HUM\",\"HUM\",\"NUM\",\"HUM\",\"NUM\",\"ENTY\",\"ENTY\",\"DESC\",\"LOC\",\"ABBR\",\"HUM\",\"LOC\",\"DESC\",\"HUM\",\"DESC\",\"ENTY\",\"ENTY\",\"LOC\",\"DESC\",\"DESC\",\"ENTY\",\"LOC\",\"NUM\",\"ENTY\",\"NUM\",\"LOC\",\"LOC\",\"NUM\",\"HUM\",\"NUM\",\"DESC\",\"NUM\",\"HUM\",\"DESC\",\"ENTY\",\"ENTY\",\"DESC\",\"HUM\",\"LOC\",\"LOC\",\"DESC\",\"LOC\",\"DESC\",\"HUM\",\"LOC\",\"NUM\",\"HUM\",\"DESC\",\"DESC\",\"DESC\",\"HUM\",\"ABBR\",\"ENTY\",\"ENTY\",\"HUM\",\"LOC\",\"LOC\",\"ENTY\",\"NUM\",\"NUM\",\"NUM\",\"LOC\",\"LOC\",\"HUM\",\"NUM\",\"NUM\",\"ENTY\",\"DESC\",\"ENTY\",\"ENTY\",\"LOC\",\"HUM\",\"ENTY\",\"HUM\",\"LOC\",\"HUM\",\"NUM\",\"ENTY\",\"NUM\",\"LOC\",\"HUM\",\"NUM\",\"HUM\",\"DESC\",\"ENTY\",\"HUM\",\"NUM\",\"DESC\",\"HUM\",\"ENTY\",\"LOC\",\"ENTY\",\"ENTY\",\"HUM\",\"HUM\",\"LOC\",\"HUM\",\"LOC\",\"NUM\",\"NUM\",\"ABBR\",\"ENTY\",\"ENTY\",\"LOC\",\"DESC\",\"DESC\",\"ENTY\",\"DESC\",\"HUM\",\"NUM\",\"HUM\",\"DESC\",\"DESC\",\"NUM\",\"ENTY\",\"LOC\",\"HUM\",\"DESC\",\"DESC\",\"NUM\",\"LOC\",\"ENTY\",\"HUM\",\"ENTY\",\"HUM\",\"ENTY\",\"DESC\",\"DESC\",\"NUM\",\"LOC\",\"NUM\",\"DESC\",\"HUM\",\"DESC\",\"HUM\",\"HUM\",\"DESC\",\"DESC\",\"DESC\",\"LOC\",\"ENTY\",\"LOC\",\"ENTY\",\"ENTY\",\"LOC\",\"ENTY\",\"NUM\",\"LOC\",\"DESC\",\"ENTY\",\"HUM\",\"DESC\",\"HUM\",\"DESC\",\"HUM\",\"NUM\",\"LOC\",\"LOC\",\"ENTY\",\"ENTY\",\"HUM\",\"HUM\",\"ENTY\",\"HUM\",\"LOC\",\"DESC\",\"NUM\",\"HUM\",\"NUM\",\"DESC\",\"DESC\",\"ENTY\",\"ENTY\",\"LOC\",\"HUM\",\"DESC\",\"HUM\",\"ENTY\",\"HUM\",\"ENTY\",\"HUM\",\"HUM\",\"DESC\",\"DESC\",\"HUM\",\"LOC\",\"LOC\",\"ENTY\",\"ENTY\",\"HUM\",\"ENTY\",\"ENTY\",\"DESC\",\"NUM\",\"LOC\",\"ENTY\",\"NUM\",\"NUM\",\"HUM\",\"NUM\",\"NUM\",\"DESC\",\"LOC\",\"DESC\",\"NUM\",\"NUM\",\"DESC\",\"NUM\",\"NUM\",\"NUM\",\"ABBR\",\"LOC\",\"LOC\",\"LOC\",\"NUM\",\"ENTY\",\"HUM\",\"HUM\",\"ENTY\",\"ENTY\",\"ENTY\",\"NUM\",\"HUM\",\"ENTY\",\"NUM\",\"LOC\",\"ENTY\",\"HUM\",\"HUM\",\"ENTY\",\"HUM\",\"NUM\",\"DESC\",\"NUM\",\"NUM\",\"NUM\",\"NUM\",\"HUM\",\"ENTY\",\"HUM\",\"DESC\",\"NUM\",\"HUM\",\"ENTY\",\"LOC\",\"DESC\",\"LOC\",\"ABBR\",\"LOC\",\"ENTY\",\"DESC\",\"DESC\",\"HUM\",\"ABBR\",\"DESC\",\"ENTY\",\"HUM\",\"HUM\",\"DESC\",\"NUM\",\"HUM\",\"NUM\",\"ENTY\",\"HUM\",\"NUM\",\"HUM\",\"NUM\",\"LOC\",\"HUM\",\"LOC\",\"ENTY\",\"HUM\",\"ENTY\",\"ENTY\",\"DESC\",\"HUM\",\"NUM\",\"LOC\",\"DESC\",\"ENTY\",\"LOC\",\"DESC\",\"ENTY\",\"HUM\",\"NUM\",\"ENTY\",\"ENTY\",\"DESC\",\"NUM\",\"DESC\",\"DESC\",\"LOC\",\"LOC\",\"ENTY\",\"DESC\",\"HUM\",\"ENTY\",\"LOC\",\"LOC\",\"DESC\",\"ENTY\",\"ENTY\",\"ENTY\",\"HUM\",\"HUM\",\"LOC\",\"ABBR\",\"LOC\",\"ENTY\",\"LOC\",\"DESC\",\"HUM\",\"ENTY\",\"HUM\",\"LOC\",\"ENTY\",\"NUM\",\"HUM\",\"ENTY\",\"NUM\",\"LOC\",\"HUM\",\"ABBR\",\"DESC\",\"ENTY\",\"HUM\",\"LOC\",\"LOC\",\"NUM\",\"NUM\",\"DESC\",\"ENTY\",\"DESC\",\"DESC\",\"ENTY\",\"DESC\",\"NUM\",\"DESC\",\"NUM\",\"DESC\",\"HUM\",\"NUM\",\"HUM\",\"DESC\",\"LOC\",\"HUM\",\"HUM\",\"ENTY\",\"HUM\",\"HUM\",\"ENTY\",\"HUM\",\"HUM\",\"NUM\",\"DESC\",\"ENTY\",\"HUM\",\"HUM\",\"DESC\",\"HUM\",\"NUM\",\"ENTY\",\"NUM\",\"HUM\",\"HUM\",\"HUM\",\"HUM\",\"DESC\",\"LOC\",\"ENTY\",\"HUM\",\"ENTY\",\"ENTY\",\"DESC\",\"HUM\",\"LOC\",\"DESC\",\"ENTY\",\"ENTY\",\"HUM\",\"HUM\",\"LOC\",\"DESC\",\"ENTY\",\"HUM\",\"DESC\",\"NUM\",\"ENTY\",\"ENTY\",\"LOC\",\"ENTY\",\"DESC\",\"LOC\",\"ENTY\",\"DESC\",\"LOC\",\"LOC\",\"NUM\",\"DESC\",\"HUM\",\"NUM\",\"ENTY\",\"NUM\",\"ENTY\",\"ENTY\",\"DESC\",\"NUM\",\"DESC\",\"HUM\",\"NUM\",\"NUM\",\"ENTY\",\"ENTY\",\"LOC\",\"ENTY\",\"LOC\",\"HUM\",\"HUM\",\"NUM\",\"DESC\",\"DESC\",\"LOC\",\"ENTY\",\"LOC\",\"HUM\",\"LOC\",\"LOC\",\"ENTY\",\"DESC\",\"HUM\",\"ENTY\",\"HUM\",\"ABBR\",\"ENTY\",\"NUM\",\"HUM\",\"HUM\",\"HUM\",\"DESC\",\"LOC\",\"LOC\",\"LOC\",\"LOC\",\"DESC\",\"LOC\",\"HUM\",\"DESC\",\"LOC\",\"HUM\",\"LOC\",\"HUM\",\"ENTY\",\"HUM\",\"LOC\",\"DESC\",\"LOC\",\"DESC\",\"ENTY\",\"DESC\",\"NUM\",\"DESC\",\"HUM\",\"ABBR\",\"HUM\",\"ENTY\",\"HUM\",\"ENTY\",\"NUM\",\"NUM\",\"DESC\",\"NUM\",\"NUM\",\"ENTY\",\"NUM\",\"DESC\",\"HUM\",\"DESC\",\"LOC\",\"ENTY\",\"NUM\",\"HUM\",\"ENTY\",\"DESC\",\"HUM\",\"NUM\",\"HUM\",\"ENTY\",\"ENTY\",\"HUM\",\"LOC\",\"LOC\",\"DESC\",\"DESC\",\"ENTY\",\"ENTY\",\"NUM\",\"NUM\",\"NUM\",\"NUM\",\"ENTY\",\"HUM\",\"ENTY\",\"ENTY\",\"NUM\",\"DESC\",\"LOC\",\"DESC\",\"HUM\",\"ENTY\",\"HUM\",\"LOC\",\"ENTY\",\"DESC\",\"DESC\",\"DESC\",\"ENTY\",\"HUM\",\"HUM\",\"NUM\",\"ENTY\",\"DESC\",\"ENTY\",\"HUM\",\"ENTY\",\"DESC\",\"NUM\",\"DESC\",\"DESC\",\"HUM\",\"ENTY\",\"DESC\",\"LOC\",\"LOC\",\"ABBR\",\"HUM\",\"ENTY\",\"DESC\",\"NUM\",\"HUM\",\"LOC\",\"HUM\",\"HUM\",\"NUM\",\"DESC\",\"LOC\",\"HUM\",\"ENTY\",\"HUM\",\"DESC\",\"DESC\",\"HUM\",\"DESC\",\"NUM\",\"HUM\",\"LOC\",\"HUM\",\"LOC\",\"NUM\",\"LOC\",\"LOC\",\"NUM\",\"DESC\",\"LOC\",\"NUM\",\"DESC\",\"ENTY\",\"ENTY\",\"ENTY\",\"HUM\",\"NUM\",\"ENTY\",\"HUM\",\"DESC\",\"ABBR\",\"ENTY\",\"DESC\",\"LOC\",\"DESC\",\"LOC\",\"HUM\",\"HUM\",\"LOC\",\"ENTY\",\"NUM\",\"ENTY\",\"DESC\",\"NUM\",\"NUM\",\"NUM\",\"DESC\",\"LOC\",\"DESC\",\"HUM\",\"DESC\",\"HUM\",\"NUM\",\"NUM\",\"NUM\",\"ENTY\",\"ENTY\",\"NUM\",\"DESC\",\"ENTY\",\"ENTY\",\"LOC\",\"ENTY\",\"ENTY\",\"HUM\",\"ENTY\",\"NUM\",\"HUM\",\"HUM\",\"DESC\",\"HUM\",\"DESC\",\"NUM\",\"NUM\",\"ENTY\",\"DESC\",\"NUM\",\"NUM\",\"DESC\",\"HUM\",\"HUM\",\"ENTY\",\"HUM\",\"DESC\",\"DESC\",\"HUM\",\"ENTY\",\"DESC\",\"ENTY\",\"ENTY\",\"DESC\",\"HUM\",\"ENTY\",\"ENTY\",\"HUM\",\"NUM\",\"DESC\",\"DESC\",\"ENTY\",\"ENTY\",\"HUM\",\"HUM\",\"NUM\",\"DESC\",\"DESC\",\"HUM\",\"LOC\",\"ABBR\",\"ENTY\",\"ENTY\",\"DESC\",\"ENTY\",\"NUM\",\"HUM\",\"HUM\",\"NUM\",\"ENTY\",\"ENTY\",\"LOC\",\"NUM\",\"LOC\",\"LOC\",\"DESC\",\"DESC\",\"LOC\",\"NUM\",\"ENTY\",\"LOC\",\"ENTY\",\"NUM\",\"LOC\",\"DESC\",\"HUM\",\"ENTY\",\"LOC\",\"DESC\",\"DESC\",\"NUM\",\"HUM\",\"HUM\",\"HUM\",\"NUM\",\"HUM\",\"ENTY\",\"DESC\",\"LOC\",\"DESC\",\"ENTY\",\"LOC\",\"HUM\",\"DESC\",\"DESC\",\"NUM\",\"DESC\",\"LOC\",\"NUM\",\"ABBR\",\"ENTY\",\"DESC\",\"ENTY\",\"ENTY\",\"DESC\",\"HUM\",\"NUM\",\"ABBR\",\"ENTY\",\"DESC\",\"DESC\",\"ENTY\",\"ENTY\",\"DESC\",\"LOC\",\"ENTY\",\"ENTY\",\"HUM\",\"LOC\",\"LOC\",\"ENTY\",\"HUM\",\"NUM\",\"LOC\",\"HUM\",\"LOC\",\"NUM\",\"DESC\",\"ENTY\",\"HUM\",\"ENTY\",\"DESC\",\"ENTY\",\"NUM\",\"ENTY\",\"DESC\",\"ENTY\",\"ENTY\",\"LOC\",\"HUM\",\"HUM\",\"HUM\",\"ENTY\",\"DESC\",\"HUM\",\"DESC\",\"ENTY\",\"DESC\",\"HUM\",\"DESC\",\"HUM\",\"ENTY\",\"LOC\",\"ENTY\",\"DESC\",\"LOC\",\"ENTY\",\"HUM\",\"DESC\",\"HUM\",\"ENTY\",\"LOC\",\"NUM\",\"HUM\",\"DESC\",\"HUM\",\"HUM\",\"DESC\",\"DESC\",\"HUM\",\"HUM\",\"NUM\",\"NUM\",\"LOC\",\"DESC\",\"NUM\",\"NUM\",\"ENTY\",\"ENTY\",\"HUM\",\"ENTY\",\"NUM\",\"DESC\",\"DESC\",\"LOC\",\"ENTY\",\"DESC\",\"ENTY\",\"NUM\",\"LOC\",\"LOC\",\"HUM\",\"NUM\",\"LOC\",\"LOC\",\"DESC\",\"DESC\",\"LOC\",\"DESC\",\"DESC\",\"NUM\",\"ENTY\",\"ENTY\",\"ENTY\",\"NUM\",\"ENTY\",\"NUM\",\"ENTY\",\"DESC\",\"ENTY\",\"HUM\",\"ENTY\",\"HUM\",\"HUM\",\"DESC\",\"NUM\",\"LOC\",\"ENTY\",\"HUM\",\"DESC\",\"LOC\",\"LOC\",\"ABBR\",\"NUM\",\"HUM\",\"ENTY\",\"LOC\",\"ENTY\",\"NUM\",\"ENTY\",\"HUM\",\"LOC\",\"NUM\",\"ENTY\",\"DESC\",\"NUM\",\"NUM\",\"ENTY\",\"ENTY\",\"ENTY\",\"HUM\",\"ENTY\",\"LOC\",\"HUM\",\"LOC\",\"DESC\",\"DESC\",\"ENTY\",\"ENTY\",\"ENTY\",\"HUM\",\"NUM\",\"ENTY\",\"NUM\",\"HUM\",\"LOC\",\"DESC\",\"DESC\",\"NUM\",\"HUM\",\"HUM\",\"DESC\",\"HUM\",\"DESC\",\"HUM\",\"HUM\",\"ENTY\",\"HUM\",\"NUM\",\"NUM\",\"HUM\",\"ABBR\",\"ENTY\",\"HUM\",\"NUM\",\"DESC\",\"NUM\",\"LOC\",\"LOC\",\"ENTY\",\"DESC\",\"NUM\",\"HUM\",\"LOC\",\"NUM\",\"LOC\",\"ENTY\",\"ENTY\",\"NUM\",\"NUM\",\"LOC\",\"DESC\",\"LOC\",\"DESC\",\"DESC\",\"LOC\",\"ENTY\",\"ENTY\",\"DESC\",\"HUM\",\"ENTY\",\"HUM\",\"ENTY\",\"LOC\",\"DESC\",\"NUM\",\"NUM\",\"HUM\",\"NUM\",\"HUM\",\"NUM\",\"LOC\",\"NUM\",\"NUM\",\"ENTY\",\"HUM\",\"HUM\",\"HUM\",\"DESC\",\"DESC\",\"HUM\",\"HUM\",\"NUM\",\"ENTY\",\"NUM\",\"LOC\",\"NUM\",\"NUM\",\"LOC\",\"DESC\",\"ENTY\",\"HUM\",\"HUM\",\"LOC\",\"DESC\",\"HUM\",\"ENTY\",\"DESC\",\"LOC\",\"ENTY\",\"HUM\",\"LOC\",\"NUM\",\"ENTY\",\"LOC\",\"LOC\",\"DESC\",\"DESC\",\"ENTY\",\"NUM\",\"ENTY\",\"ENTY\",\"HUM\",\"ENTY\",\"HUM\",\"HUM\",\"NUM\",\"NUM\",\"HUM\",\"ENTY\",\"NUM\",\"NUM\",\"ENTY\",\"DESC\",\"ENTY\",\"LOC\",\"ABBR\",\"NUM\",\"HUM\",\"DESC\",\"HUM\",\"NUM\",\"LOC\",\"LOC\",\"DESC\",\"LOC\",\"HUM\",\"DESC\",\"HUM\",\"ENTY\",\"HUM\",\"HUM\",\"NUM\",\"NUM\",\"DESC\",\"LOC\",\"HUM\",\"HUM\",\"NUM\",\"DESC\",\"ENTY\",\"ENTY\",\"DESC\",\"LOC\",\"ENTY\",\"LOC\",\"NUM\",\"LOC\",\"LOC\",\"NUM\",\"ENTY\",\"ENTY\",\"HUM\",\"HUM\",\"HUM\",\"NUM\",\"HUM\",\"ENTY\",\"ENTY\",\"DESC\",\"HUM\",\"LOC\",\"NUM\",\"HUM\",\"DESC\",\"HUM\",\"ABBR\",\"LOC\",\"NUM\",\"LOC\",\"NUM\",\"ENTY\",\"ENTY\",\"HUM\",\"ENTY\",\"DESC\",\"ENTY\",\"NUM\",\"ENTY\",\"NUM\",\"ENTY\",\"HUM\",\"DESC\",\"ENTY\",\"HUM\",\"ENTY\",\"ENTY\",\"ENTY\",\"HUM\",\"LOC\",\"NUM\",\"NUM\",\"ENTY\",\"ENTY\",\"HUM\",\"HUM\",\"NUM\",\"LOC\",\"DESC\",\"NUM\",\"DESC\",\"DESC\",\"ENTY\",\"DESC\",\"DESC\",\"HUM\",\"LOC\",\"HUM\",\"DESC\",\"HUM\",\"DESC\",\"ENTY\",\"ENTY\",\"ENTY\",\"NUM\",\"NUM\",\"NUM\",\"ENTY\",\"NUM\",\"DESC\",\"DESC\",\"ENTY\",\"LOC\",\"HUM\",\"ENTY\",\"DESC\",\"ENTY\",\"NUM\",\"NUM\",\"LOC\",\"NUM\",\"ENTY\",\"ENTY\",\"ABBR\",\"DESC\",\"DESC\",\"LOC\",\"ENTY\",\"DESC\",\"NUM\",\"LOC\",\"DESC\",\"NUM\",\"HUM\",\"LOC\",\"DESC\",\"DESC\",\"HUM\",\"LOC\",\"LOC\",\"ENTY\",\"DESC\",\"NUM\",\"LOC\",\"ENTY\",\"ENTY\",\"HUM\",\"ENTY\",\"LOC\",\"HUM\",\"HUM\",\"DESC\",\"DESC\",\"ENTY\",\"ENTY\",\"HUM\",\"DESC\",\"ENTY\",\"NUM\",\"LOC\",\"NUM\",\"ENTY\",\"DESC\",\"HUM\",\"DESC\",\"LOC\",\"ENTY\",\"HUM\",\"DESC\",\"LOC\",\"HUM\",\"DESC\",\"NUM\",\"DESC\",\"HUM\",\"LOC\",\"ENTY\",\"HUM\",\"HUM\",\"DESC\",\"NUM\",\"ENTY\",\"ENTY\",\"HUM\",\"DESC\",\"ENTY\",\"NUM\",\"NUM\",\"LOC\",\"HUM\",\"HUM\",\"ENTY\",\"DESC\",\"HUM\",\"ENTY\",\"HUM\",\"DESC\",\"HUM\",\"HUM\",\"NUM\",\"ENTY\",\"NUM\",\"HUM\",\"ABBR\",\"NUM\",\"LOC\",\"DESC\",\"LOC\",\"NUM\",\"ABBR\",\"ENTY\",\"NUM\",\"DESC\",\"DESC\",\"ABBR\",\"LOC\",\"HUM\",\"NUM\",\"ENTY\",\"ENTY\",\"ENTY\",\"DESC\",\"HUM\",\"DESC\",\"LOC\",\"HUM\",\"LOC\",\"HUM\",\"DESC\",\"LOC\",\"NUM\",\"LOC\",\"ENTY\",\"ENTY\",\"ENTY\",\"ENTY\",\"ENTY\",\"NUM\",\"DESC\",\"LOC\",\"DESC\",\"LOC\",\"DESC\",\"NUM\",\"ENTY\",\"DESC\",\"DESC\",\"HUM\",\"NUM\",\"DESC\",\"DESC\",\"DESC\",\"DESC\",\"LOC\",\"DESC\",\"HUM\",\"HUM\",\"NUM\",\"HUM\",\"HUM\",\"HUM\",\"ABBR\",\"HUM\",\"NUM\",\"HUM\",\"HUM\",\"HUM\",\"NUM\",\"ENTY\",\"HUM\",\"ENTY\",\"HUM\",\"DESC\",\"NUM\",\"HUM\",\"DESC\",\"HUM\",\"DESC\",\"LOC\",\"NUM\",\"DESC\",\"DESC\",\"HUM\",\"NUM\",\"NUM\",\"HUM\",\"LOC\",\"ABBR\",\"LOC\",\"DESC\",\"DESC\",\"LOC\",\"ENTY\",\"ENTY\",\"ENTY\",\"DESC\",\"LOC\",\"ENTY\",\"NUM\",\"ABBR\",\"HUM\",\"HUM\",\"LOC\",\"ENTY\",\"DESC\",\"ENTY\",\"LOC\",\"NUM\",\"ENTY\",\"HUM\",\"HUM\",\"ENTY\",\"NUM\",\"NUM\",\"HUM\",\"HUM\",\"LOC\",\"HUM\",\"ENTY\",\"LOC\",\"NUM\",\"DESC\",\"DESC\",\"NUM\",\"ENTY\",\"HUM\",\"NUM\",\"ENTY\",\"ENTY\",\"ENTY\",\"HUM\",\"LOC\",\"ENTY\",\"LOC\",\"HUM\",\"ENTY\",\"LOC\",\"ENTY\",\"DESC\",\"LOC\",\"LOC\",\"HUM\",\"NUM\",\"NUM\",\"HUM\",\"HUM\",\"DESC\",\"HUM\",\"ENTY\",\"HUM\",\"ENTY\",\"NUM\",\"DESC\",\"ENTY\",\"HUM\",\"NUM\",\"HUM\",\"LOC\",\"DESC\",\"HUM\",\"HUM\",\"HUM\",\"DESC\",\"NUM\",\"HUM\",\"ENTY\",\"ENTY\",\"ENTY\",\"HUM\",\"ENTY\",\"DESC\",\"HUM\",\"NUM\",\"ENTY\",\"DESC\",\"HUM\",\"DESC\",\"DESC\",\"NUM\",\"NUM\",\"LOC\",\"ENTY\",\"NUM\",\"NUM\",\"HUM\",\"DESC\",\"HUM\",\"LOC\",\"DESC\",\"LOC\",\"NUM\",\"NUM\",\"LOC\",\"NUM\",\"HUM\",\"ENTY\",\"LOC\",\"NUM\",\"DESC\",\"ENTY\",\"LOC\",\"DESC\",\"NUM\",\"HUM\",\"HUM\",\"HUM\",\"DESC\",\"ABBR\",\"HUM\",\"HUM\",\"NUM\",\"LOC\",\"LOC\",\"NUM\",\"HUM\",\"DESC\",\"HUM\",\"ENTY\",\"NUM\",\"NUM\",\"HUM\",\"HUM\",\"LOC\",\"HUM\",\"DESC\",\"HUM\",\"LOC\",\"HUM\",\"DESC\",\"HUM\",\"ENTY\",\"LOC\",\"NUM\",\"HUM\",\"LOC\",\"NUM\",\"DESC\",\"HUM\",\"NUM\",\"HUM\",\"LOC\",\"DESC\",\"ENTY\",\"ENTY\",\"DESC\",\"NUM\",\"ENTY\",\"DESC\",\"ENTY\",\"DESC\",\"ENTY\",\"DESC\",\"ENTY\",\"LOC\",\"HUM\",\"HUM\",\"NUM\",\"ENTY\",\"ENTY\",\"LOC\",\"DESC\",\"DESC\",\"ENTY\",\"ENTY\",\"DESC\",\"LOC\",\"DESC\",\"ENTY\",\"HUM\",\"LOC\",\"LOC\",\"NUM\",\"NUM\",\"ENTY\",\"LOC\",\"ENTY\",\"NUM\",\"DESC\",\"NUM\",\"ENTY\",\"HUM\",\"ENTY\",\"DESC\",\"DESC\",\"DESC\",\"NUM\",\"HUM\",\"HUM\",\"HUM\",\"ENTY\",\"ENTY\",\"DESC\",\"NUM\",\"LOC\",\"NUM\",\"LOC\",\"ENTY\",\"ENTY\",\"DESC\",\"LOC\",\"NUM\",\"LOC\",\"HUM\",\"ENTY\",\"ENTY\",\"ENTY\",\"DESC\",\"DESC\",\"DESC\",\"HUM\",\"ABBR\",\"ENTY\",\"DESC\",\"NUM\",\"LOC\",\"HUM\",\"HUM\",\"DESC\",\"NUM\",\"HUM\",\"HUM\",\"DESC\",\"ENTY\",\"HUM\",\"ENTY\",\"ENTY\",\"HUM\",\"NUM\",\"LOC\",\"HUM\",\"DESC\",\"NUM\",\"DESC\",\"DESC\",\"NUM\",\"NUM\",\"ENTY\",\"ENTY\",\"ENTY\",\"HUM\",\"DESC\",\"ENTY\",\"LOC\",\"DESC\",\"LOC\",\"ENTY\",\"ENTY\",\"HUM\",\"DESC\",\"DESC\",\"HUM\",\"ABBR\",\"DESC\",\"ENTY\",\"HUM\",\"ENTY\",\"ENTY\",\"ENTY\",\"HUM\",\"HUM\",\"HUM\",\"LOC\",\"DESC\",\"LOC\",\"NUM\",\"DESC\",\"LOC\",\"ENTY\",\"DESC\",\"ENTY\",\"NUM\",\"DESC\",\"LOC\",\"HUM\",\"DESC\",\"DESC\",\"DESC\",\"ENTY\",\"LOC\",\"HUM\",\"DESC\",\"HUM\",\"HUM\",\"NUM\",\"NUM\",\"ENTY\",\"DESC\",\"LOC\",\"NUM\",\"DESC\",\"HUM\",\"DESC\",\"NUM\",\"DESC\",\"NUM\",\"ENTY\",\"LOC\",\"NUM\",\"NUM\",\"DESC\",\"LOC\",\"HUM\",\"HUM\",\"HUM\",\"ENTY\",\"NUM\",\"LOC\",\"HUM\",\"LOC\",\"HUM\",\"LOC\",\"HUM\",\"NUM\",\"LOC\",\"DESC\",\"ENTY\",\"DESC\",\"ENTY\",\"HUM\",\"HUM\",\"NUM\",\"LOC\",\"DESC\",\"DESC\",\"NUM\",\"DESC\",\"LOC\",\"DESC\",\"HUM\",\"ENTY\",\"NUM\",\"ABBR\",\"NUM\",\"DESC\",\"DESC\",\"HUM\",\"ENTY\",\"HUM\",\"DESC\",\"DESC\",\"ENTY\",\"LOC\",\"HUM\",\"HUM\",\"ENTY\",\"ENTY\",\"DESC\",\"LOC\",\"ENTY\",\"NUM\",\"DESC\",\"DESC\",\"ENTY\",\"NUM\",\"ENTY\",\"DESC\",\"NUM\",\"NUM\",\"NUM\",\"DESC\",\"LOC\",\"HUM\",\"HUM\",\"HUM\",\"LOC\",\"HUM\",\"ENTY\",\"HUM\",\"ENTY\",\"DESC\",\"NUM\",\"ENTY\",\"LOC\",\"ENTY\",\"LOC\",\"NUM\",\"NUM\",\"HUM\",\"HUM\",\"NUM\",\"LOC\",\"DESC\",\"DESC\",\"DESC\",\"HUM\",\"DESC\",\"NUM\",\"ENTY\",\"LOC\",\"ENTY\",\"ENTY\",\"DESC\",\"HUM\",\"ENTY\",\"ENTY\",\"HUM\",\"NUM\",\"ENTY\",\"DESC\",\"HUM\",\"LOC\",\"DESC\",\"HUM\",\"HUM\",\"DESC\",\"NUM\",\"HUM\",\"HUM\",\"ENTY\",\"DESC\",\"DESC\",\"HUM\",\"NUM\",\"HUM\",\"NUM\",\"LOC\",\"HUM\",\"ENTY\",\"DESC\",\"NUM\",\"DESC\",\"DESC\",\"ENTY\",\"HUM\",\"NUM\",\"HUM\",\"DESC\",\"LOC\",\"NUM\",\"HUM\",\"DESC\",\"DESC\",\"ENTY\",\"HUM\",\"ENTY\",\"ENTY\",\"HUM\",\"NUM\",\"NUM\",\"ENTY\",\"HUM\",\"ENTY\",\"DESC\",\"LOC\",\"ENTY\",\"HUM\",\"ENTY\",\"ENTY\",\"ENTY\",\"HUM\",\"HUM\",\"HUM\",\"HUM\",\"HUM\",\"NUM\",\"ENTY\",\"NUM\",\"HUM\",\"ENTY\",\"LOC\",\"HUM\",\"LOC\",\"DESC\",\"HUM\",\"ENTY\",\"LOC\",\"HUM\",\"HUM\",\"DESC\",\"ENTY\",\"ENTY\",\"HUM\",\"HUM\",\"LOC\",\"ENTY\",\"ENTY\",\"DESC\",\"LOC\",\"LOC\",\"DESC\",\"DESC\",\"ENTY\",\"DESC\",\"ENTY\",\"LOC\",\"DESC\",\"ENTY\",\"DESC\",\"ENTY\",\"LOC\",\"HUM\",\"LOC\",\"ENTY\",\"NUM\",\"NUM\",\"HUM\",\"HUM\",\"HUM\",\"HUM\",\"NUM\",\"NUM\",\"DESC\",\"LOC\",\"DESC\",\"DESC\",\"ENTY\",\"ENTY\",\"ENTY\",\"DESC\",\"DESC\",\"HUM\",\"DESC\",\"ENTY\",\"ENTY\",\"LOC\",\"HUM\",\"LOC\",\"DESC\",\"LOC\",\"LOC\",\"DESC\",\"LOC\",\"NUM\",\"HUM\",\"HUM\",\"HUM\",\"ENTY\",\"NUM\",\"DESC\",\"DESC\",\"ENTY\",\"HUM\",\"HUM\",\"HUM\",\"LOC\",\"NUM\",\"LOC\",\"DESC\",\"DESC\",\"ENTY\",\"ENTY\",\"DESC\",\"DESC\",\"HUM\",\"ENTY\",\"NUM\",\"ENTY\",\"LOC\",\"NUM\",\"ENTY\",\"DESC\",\"NUM\",\"NUM\",\"HUM\",\"HUM\",\"HUM\",\"LOC\",\"HUM\",\"DESC\",\"LOC\",\"DESC\",\"DESC\",\"ENTY\",\"DESC\",\"HUM\",\"DESC\",\"ENTY\",\"DESC\",\"ENTY\",\"LOC\",\"ENTY\",\"ENTY\",\"ENTY\",\"NUM\",\"ENTY\",\"HUM\",\"NUM\",\"HUM\",\"NUM\",\"LOC\",\"LOC\",\"DESC\",\"ENTY\",\"LOC\",\"ENTY\",\"NUM\",\"NUM\",\"HUM\",\"HUM\",\"ENTY\",\"HUM\",\"HUM\",\"ENTY\",\"DESC\",\"LOC\",\"ABBR\",\"NUM\",\"HUM\",\"DESC\",\"ENTY\",\"NUM\",\"DESC\",\"DESC\",\"ENTY\",\"LOC\",\"HUM\",\"LOC\",\"NUM\",\"LOC\",\"ENTY\",\"DESC\",\"DESC\",\"NUM\",\"HUM\",\"HUM\",\"ABBR\",\"NUM\",\"NUM\",\"LOC\",\"HUM\",\"HUM\",\"HUM\",\"HUM\",\"ENTY\",\"ENTY\",\"NUM\",\"HUM\",\"HUM\",\"NUM\",\"LOC\",\"ENTY\",\"DESC\",\"NUM\",\"ENTY\",\"ENTY\",\"LOC\",\"LOC\",\"DESC\",\"LOC\",\"NUM\",\"ENTY\",\"NUM\",\"LOC\",\"ENTY\",\"HUM\",\"ENTY\",\"HUM\",\"DESC\",\"DESC\",\"DESC\",\"DESC\",\"HUM\",\"DESC\",\"DESC\",\"NUM\",\"HUM\",\"ABBR\",\"HUM\",\"DESC\",\"DESC\",\"NUM\",\"DESC\",\"LOC\",\"DESC\",\"ABBR\",\"LOC\",\"LOC\",\"HUM\",\"DESC\",\"ENTY\",\"DESC\",\"NUM\",\"ENTY\",\"HUM\",\"HUM\",\"ENTY\",\"LOC\",\"ENTY\",\"DESC\",\"DESC\",\"HUM\",\"NUM\",\"NUM\",\"LOC\",\"DESC\",\"ENTY\",\"HUM\",\"NUM\",\"ENTY\",\"ENTY\",\"DESC\",\"HUM\",\"ENTY\",\"ENTY\",\"NUM\",\"ENTY\",\"NUM\",\"DESC\",\"ENTY\",\"NUM\",\"NUM\",\"HUM\",\"NUM\",\"ENTY\",\"DESC\",\"DESC\",\"NUM\",\"LOC\",\"NUM\",\"NUM\",\"ABBR\",\"HUM\",\"HUM\",\"HUM\",\"HUM\",\"HUM\",\"ENTY\",\"ENTY\",\"ENTY\",\"ABBR\",\"NUM\",\"NUM\",\"DESC\",\"LOC\",\"HUM\",\"DESC\",\"ENTY\",\"NUM\",\"DESC\",\"HUM\",\"DESC\",\"NUM\",\"ENTY\",\"HUM\",\"NUM\",\"LOC\",\"NUM\",\"NUM\",\"ENTY\",\"DESC\",\"LOC\",\"ENTY\",\"LOC\",\"ABBR\",\"NUM\",\"HUM\",\"ENTY\",\"DESC\",\"ENTY\",\"ENTY\",\"NUM\",\"DESC\",\"HUM\",\"LOC\",\"LOC\",\"DESC\",\"DESC\",\"DESC\",\"NUM\",\"DESC\",\"ENTY\",\"DESC\",\"DESC\",\"LOC\",\"ENTY\",\"HUM\",\"LOC\",\"DESC\",\"ENTY\",\"DESC\",\"LOC\",\"DESC\",\"DESC\",\"ENTY\",\"DESC\",\"ENTY\",\"ENTY\",\"DESC\",\"HUM\",\"DESC\",\"DESC\",\"ENTY\",\"HUM\",\"HUM\",\"DESC\",\"HUM\",\"ENTY\",\"DESC\",\"ENTY\",\"HUM\",\"DESC\",\"ENTY\",\"NUM\",\"ENTY\",\"NUM\",\"HUM\",\"ENTY\",\"HUM\",\"HUM\",\"DESC\",\"DESC\",\"NUM\",\"ENTY\",\"HUM\",\"DESC\",\"HUM\",\"LOC\",\"DESC\",\"NUM\",\"LOC\",\"HUM\",\"HUM\",\"DESC\",\"LOC\",\"HUM\",\"DESC\",\"DESC\",\"HUM\",\"DESC\",\"LOC\",\"DESC\",\"NUM\",\"DESC\",\"LOC\",\"LOC\",\"DESC\",\"ENTY\",\"NUM\",\"DESC\",\"NUM\",\"DESC\",\"HUM\",\"ENTY\",\"NUM\",\"ENTY\",\"DESC\",\"LOC\",\"ENTY\",\"DESC\",\"HUM\",\"LOC\",\"LOC\",\"LOC\",\"LOC\",\"DESC\",\"DESC\",\"LOC\",\"HUM\",\"DESC\",\"DESC\",\"NUM\",\"LOC\",\"ENTY\",\"LOC\",\"LOC\",\"HUM\",\"ENTY\",\"ENTY\",\"ENTY\",\"NUM\",\"LOC\",\"HUM\",\"NUM\",\"NUM\",\"HUM\",\"ENTY\",\"LOC\",\"DESC\",\"ENTY\",\"NUM\",\"HUM\",\"HUM\",\"HUM\",\"NUM\",\"HUM\",\"HUM\",\"LOC\",\"DESC\",\"HUM\",\"HUM\",\"NUM\",\"HUM\",\"NUM\",\"LOC\",\"ENTY\",\"DESC\",\"ENTY\",\"NUM\",\"ENTY\",\"LOC\",\"ENTY\",\"HUM\",\"ENTY\",\"NUM\",\"HUM\",\"HUM\",\"DESC\",\"LOC\",\"ENTY\",\"HUM\",\"LOC\",\"LOC\",\"NUM\",\"ENTY\",\"HUM\",\"DESC\",\"NUM\",\"HUM\",\"LOC\",\"ENTY\",\"HUM\",\"HUM\",\"ABBR\",\"ENTY\",\"ABBR\",\"HUM\",\"ENTY\",\"ENTY\",\"HUM\",\"DESC\",\"NUM\",\"DESC\",\"ENTY\",\"NUM\",\"ENTY\",\"NUM\",\"DESC\",\"HUM\",\"HUM\",\"ENTY\",\"NUM\",\"LOC\",\"NUM\",\"ENTY\",\"HUM\",\"LOC\",\"NUM\",\"NUM\",\"NUM\",\"DESC\",\"HUM\",\"DESC\",\"HUM\",\"NUM\",\"HUM\",\"DESC\",\"DESC\",\"LOC\",\"LOC\",\"NUM\",\"NUM\",\"DESC\",\"ENTY\",\"ENTY\",\"DESC\",\"LOC\",\"HUM\",\"HUM\",\"HUM\",\"DESC\",\"LOC\",\"ABBR\",\"LOC\",\"NUM\",\"ENTY\",\"ENTY\",\"ENTY\",\"ABBR\",\"NUM\",\"HUM\",\"HUM\",\"LOC\",\"ENTY\",\"NUM\",\"NUM\",\"ENTY\",\"ENTY\",\"ENTY\",\"HUM\",\"LOC\",\"NUM\",\"HUM\",\"NUM\",\"HUM\",\"DESC\",\"HUM\",\"ENTY\",\"LOC\",\"NUM\",\"HUM\",\"DESC\",\"LOC\",\"DESC\",\"DESC\",\"HUM\",\"ENTY\",\"HUM\",\"LOC\",\"LOC\",\"NUM\",\"DESC\",\"NUM\",\"DESC\",\"HUM\",\"HUM\",\"LOC\",\"HUM\",\"HUM\",\"HUM\",\"ENTY\",\"DESC\",\"HUM\",\"NUM\",\"ENTY\",\"ENTY\",\"DESC\",\"DESC\",\"LOC\",\"LOC\",\"NUM\",\"HUM\",\"HUM\",\"LOC\",\"HUM\",\"LOC\",\"ENTY\",\"ENTY\",\"HUM\",\"DESC\",\"HUM\",\"HUM\",\"DESC\",\"ENTY\",\"ENTY\",\"HUM\",\"NUM\",\"NUM\",\"LOC\",\"DESC\",\"LOC\",\"HUM\",\"LOC\",\"LOC\",\"ENTY\",\"ENTY\",\"LOC\",\"NUM\",\"DESC\",\"HUM\",\"NUM\",\"HUM\",\"HUM\",\"HUM\",\"LOC\",\"LOC\",\"LOC\",\"NUM\",\"NUM\",\"NUM\",\"DESC\",\"ENTY\",\"ENTY\",\"NUM\",\"DESC\",\"HUM\",\"LOC\",\"ENTY\",\"HUM\",\"DESC\",\"DESC\",\"NUM\",\"HUM\",\"ENTY\",\"NUM\",\"DESC\",\"DESC\",\"ENTY\",\"HUM\",\"NUM\",\"DESC\",\"NUM\",\"ENTY\",\"LOC\",\"DESC\",\"HUM\",\"ENTY\",\"LOC\",\"HUM\",\"ENTY\",\"NUM\",\"NUM\",\"LOC\",\"HUM\",\"DESC\",\"DESC\",\"LOC\",\"ENTY\",\"LOC\",\"HUM\",\"ENTY\",\"ENTY\",\"NUM\",\"NUM\",\"ENTY\"],\"x0\":\" \",\"xaxis\":\"x\",\"y\":[10,8,12,13,8,10,10,6,5,10,6,8,8,4,13,9,13,11,8,6,8,9,5,6,11,8,8,10,8,7,8,6,11,13,10,5,7,9,14,12,11,12,9,12,11,10,12,7,12,11,9,4,9,10,6,7,11,9,8,6,5,17,7,4,10,14,5,6,11,8,11,7,13,7,12,10,9,11,14,16,8,11,8,10,7,10,7,7,7,12,6,10,7,12,7,7,13,8,8,11,4,11,9,10,8,12,7,8,7,8,6,20,8,12,9,14,18,10,9,9,18,10,13,17,7,11,7,11,15,8,7,5,8,13,12,16,9,5,4,9,5,12,15,11,10,10,7,12,4,8,8,11,11,4,10,8,10,13,19,7,9,8,10,5,7,15,7,14,9,14,6,11,15,6,10,11,7,13,10,13,15,14,12,8,6,9,4,11,5,8,11,6,15,7,9,6,10,9,9,9,4,8,6,13,22,8,7,11,7,8,15,10,13,11,7,8,6,9,12,12,9,6,10,13,8,8,9,11,5,10,14,6,15,7,18,12,12,16,8,14,9,13,13,8,6,26,8,4,12,13,12,13,9,15,8,5,10,16,9,17,11,7,7,9,7,8,13,9,11,8,18,5,10,14,10,11,4,5,10,9,8,8,8,9,7,6,28,11,12,12,10,6,6,12,8,9,12,19,8,6,8,13,11,11,7,9,8,6,4,14,12,12,7,6,9,13,9,9,10,12,9,10,10,6,6,12,9,11,10,12,6,12,7,10,5,11,16,4,6,11,9,6,9,7,10,13,5,13,9,7,18,9,9,7,9,17,12,7,11,9,8,5,12,9,15,10,5,12,6,9,18,9,18,6,17,7,15,10,9,8,17,13,10,9,7,11,11,8,16,14,12,11,13,6,9,9,5,9,9,12,8,11,11,7,6,11,5,11,15,11,8,10,13,9,10,9,7,18,14,13,12,14,11,11,10,6,9,7,7,5,10,16,5,7,9,8,10,10,8,10,7,11,9,6,7,13,17,7,9,11,10,14,10,8,8,13,14,15,9,5,8,8,13,6,9,13,9,9,7,10,5,8,9,11,4,23,14,8,11,10,9,6,8,10,11,10,10,12,10,11,7,11,10,15,6,7,6,5,15,21,12,8,8,10,10,16,11,7,8,14,10,11,11,5,8,23,11,10,6,8,16,6,11,8,8,16,13,7,5,11,8,10,11,4,8,12,8,9,7,9,11,17,11,7,8,7,14,7,7,9,5,18,5,6,11,8,9,4,16,6,19,9,9,10,7,14,6,9,7,9,10,6,15,9,7,12,10,12,6,14,19,6,9,5,12,9,8,12,11,13,8,7,16,12,19,10,12,11,10,13,21,9,10,9,8,14,8,6,12,15,11,11,8,11,10,4,9,7,10,12,8,13,6,13,9,7,12,8,5,6,9,13,24,4,15,5,5,8,14,12,10,8,5,4,11,21,7,9,10,7,11,5,12,5,11,8,10,8,10,5,16,7,7,9,17,10,8,11,12,8,9,12,16,13,16,9,17,10,9,9,17,13,11,6,13,9,8,7,10,7,17,10,7,16,28,10,10,4,10,12,14,12,9,8,9,8,15,9,11,10,5,8,29,10,13,11,13,15,7,8,11,8,9,9,10,19,5,15,12,11,13,18,7,10,6,8,9,32,11,11,6,12,14,12,13,8,9,10,10,8,7,5,19,9,11,12,7,10,14,14,8,11,7,6,6,12,12,10,14,16,8,7,5,11,8,9,9,11,13,4,11,10,10,5,9,17,12,8,8,10,10,5,15,7,9,8,12,11,9,8,13,12,13,6,13,16,12,8,15,16,9,9,4,11,5,14,5,7,11,14,10,6,12,13,8,11,14,9,6,5,13,6,12,5,8,12,10,6,7,12,7,17,13,7,9,7,5,6,9,8,14,7,5,21,7,9,8,6,12,7,13,7,13,5,7,9,9,15,12,8,12,6,6,9,5,12,13,10,13,8,11,6,10,12,8,6,9,8,8,10,11,6,12,7,7,10,8,11,19,9,10,9,8,15,8,13,13,13,11,7,8,13,11,15,8,8,12,7,8,9,12,10,11,11,4,16,12,7,7,32,10,8,11,7,14,8,9,6,12,13,9,15,13,8,18,10,12,5,14,6,22,12,10,9,8,9,14,13,16,6,5,10,9,8,8,8,9,13,12,12,10,5,11,14,10,9,12,12,12,12,15,7,8,11,12,9,14,7,14,6,17,7,13,11,19,11,10,14,7,16,21,7,23,16,10,11,11,10,7,18,7,12,8,8,8,9,12,11,4,14,12,12,9,9,7,8,10,10,6,12,8,5,11,14,11,5,6,8,13,8,9,15,8,9,15,18,12,15,7,21,11,7,10,11,10,11,15,9,12,8,12,9,13,19,4,10,7,16,5,11,6,12,7,10,5,9,4,14,13,18,11,8,12,19,10,10,16,9,6,6,7,5,9,6,4,16,17,12,4,8,8,15,7,12,8,13,9,12,9,8,7,8,15,9,19,14,8,10,15,6,29,8,10,6,11,7,9,6,11,7,11,4,12,12,9,12,12,15,8,11,12,9,13,6,10,7,8,9,16,7,7,10,8,15,10,13,11,6,9,11,6,8,5,10,8,8,13,14,12,12,4,12,15,16,12,21,12,5,8,20,19,18,13,16,6,7,7,5,10,16,10,5,15,6,8,7,12,11,8,13,14,8,14,8,8,12,14,12,7,10,10,10,10,8,10,24,7,9,8,10,15,8,8,10,10,11,14,11,9,10,11,10,11,15,16,15,12,11,11,10,6,12,9,6,9,7,9,6,12,14,5,11,15,10,9,11,9,6,11,6,10,12,13,6,10,9,13,15,16,13,13,10,12,9,9,9,15,7,4,15,14,15,14,8,15,6,10,6,13,15,12,12,10,8,12,3,17,5,13,12,11,8,11,11,13,24,14,9,11,11,7,12,9,9,12,5,7,13,6,11,8,8,12,9,10,12,11,7,7,12,10,10,5,16,12,7,14,5,7,6,10,12,7,15,8,11,10,8,11,12,9,7,11,8,9,11,10,18,10,8,4,15,7,8,4,4,16,7,8,10,20,8,7,10,11,10,9,18,8,15,19,12,8,6,15,9,11,10,8,12,10,7,5,10,10,21,6,18,5,5,12,13,9,11,11,19,17,16,9,7,15,11,7,10,14,13,10,11,19,16,8,7,9,10,11,8,13,4,8,9,14,11,12,10,18,8,9,10,14,15,12,5,5,9,6,12,7,5,7,9,7,16,5,6,6,9,7,10,6,8,9,17,12,10,13,16,8,7,11,13,9,10,22,9,8,20,11,9,10,5,10,9,8,10,9,9,11,13,6,6,8,11,6,10,7,20,8,10,9,8,11,9,6,8,12,10,9,10,7,7,8,6,7,7,6,12,14,11,8,11,5,14,7,7,12,7,10,11,6,15,7,9,11,10,13,12,9,5,8,6,10,9,11,10,7,11,8,8,10,7,12,6,8,14,7,8,6,12,11,11,10,7,10,7,8,10,11,9,9,9,4,7,17,5,9,13,10,11,11,11,10,8,14,12,6,7,9,16,11,4,19,9,14,15,13,9,4,11,6,9,19,6,8,10,11,5,8,8,8,7,17,6,11,5,19,5,11,14,4,6,22,12,10,20,6,8,7,16,9,15,9,12,8,11,18,10,5,14,12,8,8,4,9,12,9,7,13,8,6,12,20,12,16,11,6,10,15,13,12,15,6,11,7,12,12,9,15,10,9,8,8,20,10,11,9,8,8,6,9,8,7,18,17,12,13,10,15,7,6,15,6,6,15,11,8,7,6,5,10,18,12,11,6,11,10,6,11,13,7,8,5,13,10,7,14,9,5,4,14,13,7,5,12,5,11,16,12,11,9,6,5,10,11,14,16,10,12,12,12,11,13,8,8,6,8,10,7,10,6,17,9,10,7,7,6,16,10,9,5,8,11,6,11,11,12,9,11,12,8,13,14,6,17,21,8,12,10,10,13,13,15,11,11,13,4,8,12,7,12,11,12,8,9,10,10,7,11,29,13,11,21,16,14,12,11,9,20,16,8,11,12,13,12,8,9,5,10,7,19,7,9,4,10,8,11,10,9,9,11,9,20,13,8,8,9,16,9,8,7,11,11,8,7,7,14,8,12,6,8,11,6,9,8,7,11,7,7,16,9,6,7,8,9,9,6,12,6,9,4,21,11,18,12,8,4,6,7,10,9,6,5,11,9,9,9,6,9,10,5,12,5,19,5,12,8,11,10,11,12,8,8,8,15,9,7,13,8,15,8,15,15,7,8,9,13,11,5,7,9,8,15,7,8,11,18,16,11,13,14,6,9,8,7,15,14,5,12,8,16,8,10,8,10,6,16,9,16,11,9,5,15,10,5,25,6,11,12,12,9,13,7,10,12,11,4,10,11,6,10,6,9,13,8,11,9,10,10,11,8,8,12,14,7,12,7,19,8,7,17,10,15,9,11,18,12,16,12,12,9,5,5,8,7,8,7,11,10,8,6,21,6,8,8,5,8,7,8,11,17,9,21,4,30,7,19,7,7,11,6,10,8,9,14,15,15,7,8,18,17,13,24,7,9,18,11,8,6,8,13,11,6,7,8,8,18,6,10,14,13,10,11,7,12,7,13,12,14,12,10,8,13,8,8,9,7,16,10,6,19,25,10,16,8,6,7,13,9,16,10,10,22,7,10,9,16,19,14,7,15,11,10,9,13,10,5,6,5,12,8,9,11,6,15,8,10,11,10,18,26,7,9,7,14,7,6,11,7,8,11,7,5,10,12,10,13,6,13,11,13,10,7,8,5,11,8,10,12,5,11,6,9,7,4,8,16,11,17,9,9,5,8,12,6,10,6,8,8,12,13,9,7,15,7,24,16,16,11,6,8,5,8,7,11,16,17,6,12,12,12,5,9,14,7,4,11,11,5,8,7,13,12,9,8,10,8,19,6,13,11,13,17,8,10,11,6,8,10,14,9,5,7,10,9,7,7,8,11,13,7,4,7,11,6,10,10,7,12,7,6,6,14,9,12,5,17,9,9,10,10,20,13,6,6,8,15,11,9,12,6,9,9,18,5,9,8,11,6,17,5,21,10,10,12,12,18,9,9,10,10,3,11,6,13,4,19,11,10,12,16,18,11,9,10,6,8,13,17,6,12,7,10,9,8,6,9,12,6,11,7,8,17,12,10,12,12,12,13,5,8,10,11,10,7,8,13,8,8,11,5,6,9,8,11,8,4,13,14,6,10,11,7,9,7,13,4,15,11,8,11,10,12,9,10,8,8,12,11,8,10,10,13,9,7,11,9,10,16,4,11,8,12,11,9,8,10,17,10,20,9,13,4,12,6,16,7,15,22,13,6,15,12,22,11,11,11,10,7,12,9,17,18,10,16,7,10,9,9,8,11,5,5,15,8,13,19,9,9,15,11,8,9,15,8,11,8,7,11,7,12,14,5,4,4,7,11,10,10,8,8,10,11,7,13,4,5,15,8,7,8,7,11,15,14,15,7,12,8,5,10,10,11,9,5,14,7,5,11,10,21,8,7,12,6,9,7,20,14,6,7,10,12,6,6,14,13,29,17,12,14,7,12,10,7,10,11,25,9,4,21,5,6,14,6,6,8,17,14,10,15,10,13,11,5,10,17,17,7,10,10,6,7,9,7,7,12,13,26,17,11,6,11,6,9,8,7,15,12,11,6,12,8,9,5,10,12,5,8,7,7,4,6,15,12,15,10,10,8,7,10,9,8,15,17,20,6,13,17,16,9,5,16,7,7,5,8,10,17,7,12,16,13,16,4,16,8,9,7,11,10,13,19,14,8,6,7,9,10,8,8,8,14,10,15,4,13,6,9,17,12,12,4,16,21,7,9,10,8,15,5,13,10,6,9,12,4,10,9,9,10,11,23,13,9,13,11,9,8,12,21,20,9,12,6,10,9,11,16,10,14,11,8,10,6,7,4,12,10,13,12,12,8,37,9,9,12,8,16,15,9,8,20,11,8,6,10,7,18,10,18,11,16,9,8,8,7,11,5,9,5,4,9,19,4,7,13,7,6,13,9,6,15,6,11,7,12,9,15,6,7,9,6,10,10,10,11,11,10,7,17,8,7,9,10,11,10,7,12,17,12,5,9,7,10,12,12,11,16,21,24,7,10,14,6,16,13,9,8,12,14,9,15,10,8,7,12,11,14,7,15,7,11,10,7,5,13,9,10,14,6,10,19,14,7,14,7,10,7,18,10,18,8,10,4,12,10,13,6,6,7,9,14,7,11,7,6,10,9,9,6,9,12,11,12,10,5,9,6,14,7,10,12,11,5,10,6,8,12,7,11,9,13,9,7,10,11,7,16,17,8,7,13,8,10,10,9,8,9,18,7,6,11,7,11,12,15,7,7,14,10,11,5,7,14,16,8,13,17,16,7,17,12,6,5,8,11,12,8,15,12,17,6,16,12,9,9,15,7,8,5,7,20,5,11,10,4,7,9,9,15,4,10,6,12,9,12,9,12,15,9,17,13,10,6,10,13,14,8,12,8,10,12,8,6,11,8,15,11,11,12,7,6,8,10,6,12,5,11,8,11,9,5,10,12,11,9,11,11,12,6,10,5,14,10,7,16,11,9,13,8,6,10,7,16,19,6,4,4,8,10,9,11,7,6,4,8,13,10,16,12,11,15,10,11,9,13,13,5,6,12,5,17,17,10,9,10,8,10,10,4,12,10,13,6,9,14,9,6,7,13,14,11,6,4,9,8,11,12,9,5,11,9,12,20,5,8,12,7,19,10,18,10,9,10,22,6,6,11,9,10,6,10,6,4,8,9,16,14,10,13,11,11,10,12,16,12,11,8,17,12,18,5,8,8,6,13,11,7,9,11,8,8,8,11,14,11,14,12,9,24,16,13,6,10,12,12,11,13,15,7,11,11,11,6,10,4,10,15,7,19,14,12,11,11,20,20,5,12,4,8,10,6,11,10,10,13,8,5,10,18,11,11,13,6,12,8,16,9,9,8,13,12,11,12,13,7,7,9,9,8,19,6,13,10,7,15,5,14,8,15,4,15,15,11,19,9,9,6,9,7,14,11,12,26,14,18,11,13,11,10,8,11,10,8,13,10,7,9,10,12,15,13,7,14,13,14,9,11,7,9,7,10,12,7,9,13,10,19,12,5,14,10,8,13,11,10,5,15,10,17,5,5,14,8,8,14,9,12,24,8,7,12,11,9,9,12,10,10,11,13,8,9,5,8,11,12,7,12,10,12,11,7,7,8,9,7,12,5,14,9,6,11,8,18,10,10,5,11,6,16,12,11,6,7,4,9,7,7,6,4,9,11,16,12,18,9,18,11,21,8,14,4,7,6,15,18,9,7,6,12,8,4,7,14,11,16,8,22,10,7,10,8,10,10,13,7,9,14,15,6,11,9,9,7,6,7,11,9,20,12,8,21,10,14,8,7,20,4,10,6,7,10,12,8,13,13,10,10,17,11,6,11,10,8,5,7,11,11,7,5,9,8,6,11,8,16,10,5,18,6,9,16,14,10,15,10,6,5,8,10,12,11,6,6,9,8,10,4,7,7,11,16,34,9,11,8,13,9,18,13,10,13,15,6,18,13,10,12,9,19,7,12,13,18,10,8,7,10,6,10,10,15,9,7,14,9,16,12,12,8,8,7,9,9,22,11,13,8,7,11,14,9,11,17,9,11,5,10,13,8,9,9,7,13,9,6,10,5,9,9,12,6,7,7,17,25,14,9,4,8,7,10,10,5,13,7,6,12,12,18,11,12,9,9,8,9,9,11,13,12,11,5,20,20,28,9,7,6,9,7,6,8,10,8,9,8,9,4,19,7,9,9,9,15,14,12,6,10,14,19,7,7,17,12,14,7,13,15,4,7,6,18,11,10,11,9,6,12,12,8,8,6,9,8,7,9,9,8,8,5,8,9,5,10,8,12,11,6,12,15,14,8,14,20,11,4,7,7,9,13,12,13,11,8,11,12,12,12,31,6,10,12,8,9,8,5,6,7,14,5,11,9,5,7,10,10,19,9,10,7,5,5,10,9,11,10,10,9,19,6,10,15,14,10,16,6,12,5,10,8,9,5,23,5,11,17,7,9,16,20,11,5,11,9,8,4,5,14,9,7,8,12,5,9,13,8,15,18,9,11,11,11,6,9,9,13,5,7,9,10,12,9,11,8,8,7,16,15,9,9,11,7,18,6,14,6,7,13,19,9,9,9,9,12,11,19,5,16,6,10,6,9,8,11,10,6,14,10,10,8,4,10,8,12,10,8,8,10,13,9,11,16,10,11,16,6,8,16,8,7,17,8,12,13,13,7,10,12,12,9,11,8,12,7,7,22,8,10,11,8,21,7,11,11,9,7,6,9,11,12,7,15,8,9,17,9,7,12,8,8,9,14,11,9,15,8,15,13,14,10,10,9,5,6,10,6,6,15,11,17,9,10,6,4,8,21,6,5,14,7,8,12,17,13,6,9,12,7,5,11,9,16,9,8,9,6,13,9,6,7,5,17,16,6,14,12,4,12,5,9,12,6,8,8,11,8,12,7,6,14,10,9,11,18,7,12,11,8,17,14,7,10,5,9,10,9,7,8,9,15,11,10,7,8,7,21,11,15,8,8,9,13,10,6,13,9,14,8,8,11,7,5,16,6,5,10,8,17,20,16,15,18,9,15,22,8,7,16,22,14,9,5,8,10,9,16,15,12,7,7,7,8,8,5,26,8,6,12,9,15,9,8,7,7,7,6,11,5,7,11,9,14,13,8,8,7,12,10,8,8,9,9,10,5,10,6,9,9,12,9,11,9,11,7,18,11,6,9,5,6,8,7,13,11,10,5,8,5,6,8,8,7,9,25,12,8,7,15,10,10,9,12,7,8,9,9,9,11,15,13,6,5,12,8,9,7,8,9,15,6,9,6,10,11,5,8,13,12,6,15,12,12,11,6,10,12,17,12,8,12,9,18,16,4,13,8,12,8,14,14,8,13,18,12,10,10,19,11,5,12,11,11,18,11,18,13,11,9,9,9,31,5,10,5,9,7,7,12,6,7,7,15,10,7,10,11,10,9,11,12,7,14,10,16,20,9,9,10,8,6,7,7,4,9,7,12,12,5,5,5,11,9,4,9,9,8,5,11,6,8,7,19,8,9,17,11,12,12,8,12,17,10,15,7,7,7,11,13,8,15,10,10,25,23,11,7,11,13,8,9,8,9,10,7,4,6,11,8,8,13,9,7,9,6,11,13,7,10,8,8,5,10,9,7,13,14,10,12,7,7,7,18,19,6,10,12,9,7,9,5,8,12,6,6,12,12,13,9,9,8,14,12,15,15,14,15,21,8,7,9,11,13,11,8,15,13,6,10,5,9,10,13,7,8,4,13,10,9,10,8,11,8,9,9,4,8,6,14,13,12,7,5,6,18,8,15,15,12,6,9,10,12,8,10,4,5,5,11,9,10,8,11,18,8,10,12,14,6,17,21,6,9,6,12,9,13,19,11,5,8,9,10,12,9,7,8,8,10,11,21,8,12,8,13,9,14,5,8,17,7,11,14,4,8,9,11,15,7,4,12,10,16,23,18,8,9,8,8,9,27,9,11,5,8,11,11,11,9,8,6,10,10,9,9,12,7,8,5,10,6,8,10,8,11,11,8,13,15,11,6,12,7,15,9,5,12,7,25,9,6,16,13,15,13,13,24,6,12,13,8,12,9,11,13,6,14,8,8,12,7,14,14,9,11,8,19,6,5,5,12,9,8,10,6,10,5,11,11,4,11,7,7,7,10,11,8,9,12,12,9,9,7,12,12,11,7,9,9,18,15,16,8,12,7,16,17,10,12,7,9,19,10,8,13,7,12,9,10,10,5,10,14,8,14,8,9,10,8,7,7,11,7,7,9,13,8,11,8,9,8,9,4,12,10,9,12,10,7,9,5,14,10,11,11,9,10,9,14,6,12,7,10,9,8,15,22,6,9,15,7,6,10,6,11,21,9,8,18,9,5,11,11,8,7,5,7,7,12,9,9,10,8,9,9,11,16,11,10,5,7,11,6,9,5,14,12,10,7,7,9,8,14,9,13,16,10,11,10,16,8,6,12,12,8,8,12,4,18,9,10,17,13,5,9,6,6,10,10,10,9,7,8,8,8,11,9,16,6,7,7,7,10,9,10,7,13,7,7,9,15,9,13,3,9,8,22,22,4,6,11,9,11,16,9,8,10,8,9,12,9,11,11,8,13,13,8,8,12,15,7,7,6,10,12,18,4,7,11,12,7,4,9,13,9,9,19,12,15,9,7,12,7,19,13,9,10,17,11,6,16,19,8,9,13,9,11,15,8,17,19,6,8,7,7,18,8,8,8,9,9,6,9,14,9,4,14,12,6,10,9,13,8,15,5,5,5,8,9,12,17,6,5,15,12,11,9,11,11,10,10,12,8,4,7,6,11,10,8,5,9,12,17,10,8,10,10,19,6,14,7,7,15,16,11,5,6,16,12,9,8,9,7,9,15,9,18,9,7,11,18,10,5,4,13,10,7,8,9,6,11,6,12,18,11,11,7,10,8,11,5,7,11,7,10,16,9,8,6,16,8,8,9,20,8,9,9,12,10,5,7,13,10,12,9,14,13,10,8,7,9,4,12,10,5,10,7,7,13,7,14,8,11,11,9,10,7,13,7,4,10,6,10,12,12,18,17,5,9,6,10,11,9,8,14,7,11,6,7,7,5,9,12,15,16,8,6,12,12,4,4,7,8,14,9,17,10,10,8,13,9,8,9,15,10,16,14,12,8,17,16,11,25,12,12,8,10,12,24,10,9,19,8,13,14,13,7,7,5,31,6,10,9,10,13,7,6,13,4,7,6,16,5,7,4,6,14,9,15,10,15,24,6,7,11,13,12,11,4,13,8,5,9,4,10,14,7,7,8,14,16,7,24,23,13,8,7,9,11,8,5,13,9,9,7,7,16,9,6,7,15,12,10,11,7,10,16,9,15,8,9,9,9,15,6,16,12,23,7,11,16,12,9,4,9,14,9,7,9,11,13,9,10,6,7,4,8,7,16,12,12,13,10,10,16,8,12,21,17,10,16,12,12,10,11,24,8,8,10,19,15,7,9,12,11,8,10,11,18,21,9,9,4,13,18,10,13,10,12,8,4,7,18,10,9,10,15,9,4,5,10,9,10,8,22,11,16,11,9,7,9,15,9,9,11,9,11,7,18,11,12,6,13,14,13,7,11,7,12,5,9,9,8,14,8,15,13,10,7,9,11,6,13,3,6,7,10,8,4,12,4,7,15,13,4,12,16,14,5,7,12,14,11,11,12,10,11,13,14,13,6,20,9,9,10,7,17,13,10,12,12,17,6,14,6,5,9,10,13,12,6,9,8,11,9,14,11,11,9,7,11,10,10,9,16,12,8,6,10,10,11,15,9,13,15,14,6,9,11,8,10,12,5,6,13,15,11,7,8,8,8,7,6,7,9,9,7,12,12,5,11,5,7,10,16,7,9,7,11,8,7,5,6,7,14,10,9,5,12,4,9,10,13,9,9,9,10,6,10,9,14,7,10,7,10,8,11,8,12,8,7,5,7,13,5,5,11,13,9,11,7,7,22,6,7,12,10,15,8,16,9,6,6,13,10,8,9,10,11,7,11,7,7,8,13,5,5,7,11,7,7,12,8,8,6,9,11,8,10,11,12,8,10,11,9,13,9,8,6,15,9,7,6,9,22,11,7,4,13,9,10,7,14,6,8,7,9,21,13,13,15,9,5,5,13,11,7,6,7,10,12,9,9,9,4,11,11,11,8,18,7,14,9,9,7,19,8,11,13,10,4,8,12,9,6,17,12,7,9,5,11,10,12,6,9,15,8,9,7,10,9,7,12,16,10,12,10,15,7,12,23,9,11,11,17,5,9,8,8,10,11,10,17,14,6,10,9,10,17,6,10,13,16,9,15,8,12,4,11,7,12,6,7,7,10,12,8,8,12,12,13,8,12,13,20,8,9,6,9,12,4,10,17,5,7,14,13,9,13,8,13,9,9,12,7,5,10,18,17,14,9,8,15,6,10,12,15,7,14,8,11,8,14,12,6,13,9,23,9,9,10,11,14,13,15,5,15,12,4,9,8,10,8,11,9,13,17,5,15,14,14,11,15,5,7,8,12,9,8,11,10,7,8,8,15,7,9,9,7,4,9,5,16,8,11,8,12,12,11,12,7,8,10,15,8,11,8,11,6,6,13,6,9,12,11,10,13,9,5,10,9,6,7,7],\"y0\":\" \",\"yaxis\":\"y\",\"type\":\"box\"}],                        {\"template\":{\"data\":{\"histogram2dcontour\":[{\"type\":\"histogram2dcontour\",\"colorbar\":{\"outlinewidth\":0,\"ticks\":\"\"},\"colorscale\":[[0.0,\"#0d0887\"],[0.1111111111111111,\"#46039f\"],[0.2222222222222222,\"#7201a8\"],[0.3333333333333333,\"#9c179e\"],[0.4444444444444444,\"#bd3786\"],[0.5555555555555556,\"#d8576b\"],[0.6666666666666666,\"#ed7953\"],[0.7777777777777778,\"#fb9f3a\"],[0.8888888888888888,\"#fdca26\"],[1.0,\"#f0f921\"]]}],\"choropleth\":[{\"type\":\"choropleth\",\"colorbar\":{\"outlinewidth\":0,\"ticks\":\"\"}}],\"histogram2d\":[{\"type\":\"histogram2d\",\"colorbar\":{\"outlinewidth\":0,\"ticks\":\"\"},\"colorscale\":[[0.0,\"#0d0887\"],[0.1111111111111111,\"#46039f\"],[0.2222222222222222,\"#7201a8\"],[0.3333333333333333,\"#9c179e\"],[0.4444444444444444,\"#bd3786\"],[0.5555555555555556,\"#d8576b\"],[0.6666666666666666,\"#ed7953\"],[0.7777777777777778,\"#fb9f3a\"],[0.8888888888888888,\"#fdca26\"],[1.0,\"#f0f921\"]]}],\"heatmap\":[{\"type\":\"heatmap\",\"colorbar\":{\"outlinewidth\":0,\"ticks\":\"\"},\"colorscale\":[[0.0,\"#0d0887\"],[0.1111111111111111,\"#46039f\"],[0.2222222222222222,\"#7201a8\"],[0.3333333333333333,\"#9c179e\"],[0.4444444444444444,\"#bd3786\"],[0.5555555555555556,\"#d8576b\"],[0.6666666666666666,\"#ed7953\"],[0.7777777777777778,\"#fb9f3a\"],[0.8888888888888888,\"#fdca26\"],[1.0,\"#f0f921\"]]}],\"heatmapgl\":[{\"type\":\"heatmapgl\",\"colorbar\":{\"outlinewidth\":0,\"ticks\":\"\"},\"colorscale\":[[0.0,\"#0d0887\"],[0.1111111111111111,\"#46039f\"],[0.2222222222222222,\"#7201a8\"],[0.3333333333333333,\"#9c179e\"],[0.4444444444444444,\"#bd3786\"],[0.5555555555555556,\"#d8576b\"],[0.6666666666666666,\"#ed7953\"],[0.7777777777777778,\"#fb9f3a\"],[0.8888888888888888,\"#fdca26\"],[1.0,\"#f0f921\"]]}],\"contourcarpet\":[{\"type\":\"contourcarpet\",\"colorbar\":{\"outlinewidth\":0,\"ticks\":\"\"}}],\"contour\":[{\"type\":\"contour\",\"colorbar\":{\"outlinewidth\":0,\"ticks\":\"\"},\"colorscale\":[[0.0,\"#0d0887\"],[0.1111111111111111,\"#46039f\"],[0.2222222222222222,\"#7201a8\"],[0.3333333333333333,\"#9c179e\"],[0.4444444444444444,\"#bd3786\"],[0.5555555555555556,\"#d8576b\"],[0.6666666666666666,\"#ed7953\"],[0.7777777777777778,\"#fb9f3a\"],[0.8888888888888888,\"#fdca26\"],[1.0,\"#f0f921\"]]}],\"surface\":[{\"type\":\"surface\",\"colorbar\":{\"outlinewidth\":0,\"ticks\":\"\"},\"colorscale\":[[0.0,\"#0d0887\"],[0.1111111111111111,\"#46039f\"],[0.2222222222222222,\"#7201a8\"],[0.3333333333333333,\"#9c179e\"],[0.4444444444444444,\"#bd3786\"],[0.5555555555555556,\"#d8576b\"],[0.6666666666666666,\"#ed7953\"],[0.7777777777777778,\"#fb9f3a\"],[0.8888888888888888,\"#fdca26\"],[1.0,\"#f0f921\"]]}],\"mesh3d\":[{\"type\":\"mesh3d\",\"colorbar\":{\"outlinewidth\":0,\"ticks\":\"\"}}],\"scatter\":[{\"fillpattern\":{\"fillmode\":\"overlay\",\"size\":10,\"solidity\":0.2},\"type\":\"scatter\"}],\"parcoords\":[{\"type\":\"parcoords\",\"line\":{\"colorbar\":{\"outlinewidth\":0,\"ticks\":\"\"}}}],\"scatterpolargl\":[{\"type\":\"scatterpolargl\",\"marker\":{\"colorbar\":{\"outlinewidth\":0,\"ticks\":\"\"}}}],\"bar\":[{\"error_x\":{\"color\":\"#2a3f5f\"},\"error_y\":{\"color\":\"#2a3f5f\"},\"marker\":{\"line\":{\"color\":\"#E5ECF6\",\"width\":0.5},\"pattern\":{\"fillmode\":\"overlay\",\"size\":10,\"solidity\":0.2}},\"type\":\"bar\"}],\"scattergeo\":[{\"type\":\"scattergeo\",\"marker\":{\"colorbar\":{\"outlinewidth\":0,\"ticks\":\"\"}}}],\"scatterpolar\":[{\"type\":\"scatterpolar\",\"marker\":{\"colorbar\":{\"outlinewidth\":0,\"ticks\":\"\"}}}],\"histogram\":[{\"marker\":{\"pattern\":{\"fillmode\":\"overlay\",\"size\":10,\"solidity\":0.2}},\"type\":\"histogram\"}],\"scattergl\":[{\"type\":\"scattergl\",\"marker\":{\"colorbar\":{\"outlinewidth\":0,\"ticks\":\"\"}}}],\"scatter3d\":[{\"type\":\"scatter3d\",\"line\":{\"colorbar\":{\"outlinewidth\":0,\"ticks\":\"\"}},\"marker\":{\"colorbar\":{\"outlinewidth\":0,\"ticks\":\"\"}}}],\"scattermapbox\":[{\"type\":\"scattermapbox\",\"marker\":{\"colorbar\":{\"outlinewidth\":0,\"ticks\":\"\"}}}],\"scatterternary\":[{\"type\":\"scatterternary\",\"marker\":{\"colorbar\":{\"outlinewidth\":0,\"ticks\":\"\"}}}],\"scattercarpet\":[{\"type\":\"scattercarpet\",\"marker\":{\"colorbar\":{\"outlinewidth\":0,\"ticks\":\"\"}}}],\"carpet\":[{\"aaxis\":{\"endlinecolor\":\"#2a3f5f\",\"gridcolor\":\"white\",\"linecolor\":\"white\",\"minorgridcolor\":\"white\",\"startlinecolor\":\"#2a3f5f\"},\"baxis\":{\"endlinecolor\":\"#2a3f5f\",\"gridcolor\":\"white\",\"linecolor\":\"white\",\"minorgridcolor\":\"white\",\"startlinecolor\":\"#2a3f5f\"},\"type\":\"carpet\"}],\"table\":[{\"cells\":{\"fill\":{\"color\":\"#EBF0F8\"},\"line\":{\"color\":\"white\"}},\"header\":{\"fill\":{\"color\":\"#C8D4E3\"},\"line\":{\"color\":\"white\"}},\"type\":\"table\"}],\"barpolar\":[{\"marker\":{\"line\":{\"color\":\"#E5ECF6\",\"width\":0.5},\"pattern\":{\"fillmode\":\"overlay\",\"size\":10,\"solidity\":0.2}},\"type\":\"barpolar\"}],\"pie\":[{\"automargin\":true,\"type\":\"pie\"}]},\"layout\":{\"autotypenumbers\":\"strict\",\"colorway\":[\"#636efa\",\"#EF553B\",\"#00cc96\",\"#ab63fa\",\"#FFA15A\",\"#19d3f3\",\"#FF6692\",\"#B6E880\",\"#FF97FF\",\"#FECB52\"],\"font\":{\"color\":\"#2a3f5f\"},\"hovermode\":\"closest\",\"hoverlabel\":{\"align\":\"left\"},\"paper_bgcolor\":\"white\",\"plot_bgcolor\":\"#E5ECF6\",\"polar\":{\"bgcolor\":\"#E5ECF6\",\"angularaxis\":{\"gridcolor\":\"white\",\"linecolor\":\"white\",\"ticks\":\"\"},\"radialaxis\":{\"gridcolor\":\"white\",\"linecolor\":\"white\",\"ticks\":\"\"}},\"ternary\":{\"bgcolor\":\"#E5ECF6\",\"aaxis\":{\"gridcolor\":\"white\",\"linecolor\":\"white\",\"ticks\":\"\"},\"baxis\":{\"gridcolor\":\"white\",\"linecolor\":\"white\",\"ticks\":\"\"},\"caxis\":{\"gridcolor\":\"white\",\"linecolor\":\"white\",\"ticks\":\"\"}},\"coloraxis\":{\"colorbar\":{\"outlinewidth\":0,\"ticks\":\"\"}},\"colorscale\":{\"sequential\":[[0.0,\"#0d0887\"],[0.1111111111111111,\"#46039f\"],[0.2222222222222222,\"#7201a8\"],[0.3333333333333333,\"#9c179e\"],[0.4444444444444444,\"#bd3786\"],[0.5555555555555556,\"#d8576b\"],[0.6666666666666666,\"#ed7953\"],[0.7777777777777778,\"#fb9f3a\"],[0.8888888888888888,\"#fdca26\"],[1.0,\"#f0f921\"]],\"sequentialminus\":[[0.0,\"#0d0887\"],[0.1111111111111111,\"#46039f\"],[0.2222222222222222,\"#7201a8\"],[0.3333333333333333,\"#9c179e\"],[0.4444444444444444,\"#bd3786\"],[0.5555555555555556,\"#d8576b\"],[0.6666666666666666,\"#ed7953\"],[0.7777777777777778,\"#fb9f3a\"],[0.8888888888888888,\"#fdca26\"],[1.0,\"#f0f921\"]],\"diverging\":[[0,\"#8e0152\"],[0.1,\"#c51b7d\"],[0.2,\"#de77ae\"],[0.3,\"#f1b6da\"],[0.4,\"#fde0ef\"],[0.5,\"#f7f7f7\"],[0.6,\"#e6f5d0\"],[0.7,\"#b8e186\"],[0.8,\"#7fbc41\"],[0.9,\"#4d9221\"],[1,\"#276419\"]]},\"xaxis\":{\"gridcolor\":\"white\",\"linecolor\":\"white\",\"ticks\":\"\",\"title\":{\"standoff\":15},\"zerolinecolor\":\"white\",\"automargin\":true,\"zerolinewidth\":2},\"yaxis\":{\"gridcolor\":\"white\",\"linecolor\":\"white\",\"ticks\":\"\",\"title\":{\"standoff\":15},\"zerolinecolor\":\"white\",\"automargin\":true,\"zerolinewidth\":2},\"scene\":{\"xaxis\":{\"backgroundcolor\":\"#E5ECF6\",\"gridcolor\":\"white\",\"linecolor\":\"white\",\"showbackground\":true,\"ticks\":\"\",\"zerolinecolor\":\"white\",\"gridwidth\":2},\"yaxis\":{\"backgroundcolor\":\"#E5ECF6\",\"gridcolor\":\"white\",\"linecolor\":\"white\",\"showbackground\":true,\"ticks\":\"\",\"zerolinecolor\":\"white\",\"gridwidth\":2},\"zaxis\":{\"backgroundcolor\":\"#E5ECF6\",\"gridcolor\":\"white\",\"linecolor\":\"white\",\"showbackground\":true,\"ticks\":\"\",\"zerolinecolor\":\"white\",\"gridwidth\":2}},\"shapedefaults\":{\"line\":{\"color\":\"#2a3f5f\"}},\"annotationdefaults\":{\"arrowcolor\":\"#2a3f5f\",\"arrowhead\":0,\"arrowwidth\":1},\"geo\":{\"bgcolor\":\"white\",\"landcolor\":\"#E5ECF6\",\"subunitcolor\":\"white\",\"showland\":true,\"showlakes\":true,\"lakecolor\":\"white\"},\"title\":{\"x\":0.05},\"mapbox\":{\"style\":\"light\"}}},\"xaxis\":{\"anchor\":\"y\",\"domain\":[0.0,1.0],\"title\":{\"text\":\"Coarse Label\"},\"categoryorder\":\"total ascending\"},\"yaxis\":{\"anchor\":\"x\",\"domain\":[0.0,1.0],\"title\":{\"text\":\"Text Length (Number of Tokens)\"}},\"legend\":{\"tracegroupgap\":0},\"title\":{\"text\":\"Text Length Distribution by Coarse Label in Training Set\"},\"boxmode\":\"group\"},                        {\"responsive\": true}                    ).then(function(){\n",
              "                            \n",
              "var gd = document.getElementById('9a63225f-6cd6-45f0-876d-56326e6e21ee');\n",
              "var x = new MutationObserver(function (mutations, observer) {{\n",
              "        var display = window.getComputedStyle(gd).display;\n",
              "        if (!display || display === 'none') {{\n",
              "            console.log([gd, 'removed!']);\n",
              "            Plotly.purge(gd);\n",
              "            observer.disconnect();\n",
              "        }}\n",
              "}});\n",
              "\n",
              "// Listen for the removal of the full notebook cells\n",
              "var notebookContainer = gd.closest('#notebook-container');\n",
              "if (notebookContainer) {{\n",
              "    x.observe(notebookContainer, {childList: true});\n",
              "}}\n",
              "\n",
              "// Listen for the clearing of the current output cell\n",
              "var outputEl = gd.closest('.output');\n",
              "if (outputEl) {{\n",
              "    x.observe(outputEl, {childList: true});\n",
              "}}\n",
              "\n",
              "                        })                };                            </script>        </div>\n",
              "</body>\n",
              "</html>"
            ]
          },
          "metadata": {}
        }
      ]
    },
    {
      "cell_type": "code",
      "source": [
        "# Create box plots for the test dataset\n",
        "test_fig = px.box(\n",
        "    test_df,\n",
        "    x='Label',\n",
        "    y='text_length',\n",
        "    title='Text Length Distribution by Coarse Label in Test Set',\n",
        "    labels={'text_length': 'Text Length (Number of Tokens)', 'Label': 'Coarse Label'}\n",
        ")\n",
        "test_fig.update_layout(xaxis={'categoryorder': 'total ascending'})\n",
        "test_fig.show()"
      ],
      "metadata": {
        "colab": {
          "base_uri": "https://localhost:8080/",
          "height": 542
        },
        "id": "A4undt8p82g4",
        "outputId": "f4be98d2-30e5-4fd4-9394-5779fb0ff251"
      },
      "execution_count": 43,
      "outputs": [
        {
          "output_type": "display_data",
          "data": {
            "text/html": [
              "<html>\n",
              "<head><meta charset=\"utf-8\" /></head>\n",
              "<body>\n",
              "    <div>            <script src=\"https://cdnjs.cloudflare.com/ajax/libs/mathjax/2.7.5/MathJax.js?config=TeX-AMS-MML_SVG\"></script><script type=\"text/javascript\">if (window.MathJax && window.MathJax.Hub && window.MathJax.Hub.Config) {window.MathJax.Hub.Config({SVG: {font: \"STIX-Web\"}});}</script>                <script type=\"text/javascript\">window.PlotlyConfig = {MathJaxConfig: 'local'};</script>\n",
              "        <script charset=\"utf-8\" src=\"https://cdn.plot.ly/plotly-2.24.1.min.js\"></script>                <div id=\"39249c09-7a55-4954-9362-0443cdadd87f\" class=\"plotly-graph-div\" style=\"height:525px; width:100%;\"></div>            <script type=\"text/javascript\">                                    window.PLOTLYENV=window.PLOTLYENV || {};                                    if (document.getElementById(\"39249c09-7a55-4954-9362-0443cdadd87f\")) {                    Plotly.newPlot(                        \"39249c09-7a55-4954-9362-0443cdadd87f\",                        [{\"alignmentgroup\":\"True\",\"hovertemplate\":\"Coarse Label=%{x}\\u003cbr\\u003eText Length (Number of Tokens)=%{y}\\u003cextra\\u003e\\u003c\\u002fextra\\u003e\",\"legendgroup\":\"\",\"marker\":{\"color\":\"#636efa\"},\"name\":\"\",\"notched\":false,\"offsetgroup\":\"\",\"orientation\":\"v\",\"showlegend\":false,\"x\":[\"NUM\",\"LOC\",\"HUM\",\"DESC\",\"NUM\",\"NUM\",\"HUM\",\"ENTY\",\"DESC\",\"DESC\",\"LOC\",\"HUM\",\"NUM\",\"HUM\",\"NUM\",\"NUM\",\"ENTY\",\"HUM\",\"DESC\",\"NUM\",\"HUM\",\"DESC\",\"LOC\",\"DESC\",\"DESC\",\"HUM\",\"DESC\",\"LOC\",\"LOC\",\"LOC\",\"NUM\",\"LOC\",\"DESC\",\"NUM\",\"NUM\",\"NUM\",\"LOC\",\"NUM\",\"NUM\",\"NUM\",\"ENTY\",\"DESC\",\"DESC\",\"DESC\",\"ENTY\",\"ENTY\",\"NUM\",\"DESC\",\"NUM\",\"HUM\",\"DESC\",\"HUM\",\"HUM\",\"DESC\",\"DESC\",\"DESC\",\"NUM\",\"LOC\",\"LOC\",\"NUM\",\"LOC\",\"HUM\",\"LOC\",\"ENTY\",\"LOC\",\"HUM\",\"ENTY\",\"DESC\",\"NUM\",\"LOC\",\"NUM\",\"NUM\",\"LOC\",\"HUM\",\"LOC\",\"DESC\",\"ENTY\",\"NUM\",\"NUM\",\"HUM\",\"DESC\",\"NUM\",\"HUM\",\"NUM\",\"NUM\",\"DESC\",\"DESC\",\"HUM\",\"DESC\",\"LOC\",\"ENTY\",\"DESC\",\"NUM\",\"NUM\",\"HUM\",\"LOC\",\"NUM\",\"DESC\",\"DESC\",\"ENTY\",\"DESC\",\"HUM\",\"DESC\",\"HUM\",\"LOC\",\"DESC\",\"NUM\",\"ENTY\",\"NUM\",\"LOC\",\"ENTY\",\"DESC\",\"NUM\",\"HUM\",\"ENTY\",\"HUM\",\"NUM\",\"ENTY\",\"NUM\",\"LOC\",\"NUM\",\"NUM\",\"DESC\",\"HUM\",\"NUM\",\"HUM\",\"NUM\",\"NUM\",\"DESC\",\"NUM\",\"NUM\",\"HUM\",\"DESC\",\"ENTY\",\"DESC\",\"ENTY\",\"LOC\",\"HUM\",\"HUM\",\"DESC\",\"DESC\",\"ENTY\",\"LOC\",\"ENTY\",\"DESC\",\"ENTY\",\"HUM\",\"ENTY\",\"DESC\",\"DESC\",\"ENTY\",\"HUM\",\"DESC\",\"NUM\",\"HUM\",\"LOC\",\"LOC\",\"DESC\",\"LOC\",\"LOC\",\"DESC\",\"DESC\",\"NUM\",\"LOC\",\"ENTY\",\"LOC\",\"NUM\",\"DESC\",\"LOC\",\"HUM\",\"NUM\",\"NUM\",\"NUM\",\"DESC\",\"LOC\",\"LOC\",\"LOC\",\"NUM\",\"ENTY\",\"NUM\",\"LOC\",\"DESC\",\"LOC\",\"DESC\",\"ENTY\",\"HUM\",\"HUM\",\"DESC\",\"LOC\",\"ENTY\",\"ENTY\",\"NUM\",\"NUM\",\"NUM\",\"DESC\",\"LOC\",\"ENTY\",\"HUM\",\"ENTY\",\"ENTY\",\"ENTY\",\"LOC\",\"HUM\",\"ENTY\",\"NUM\",\"LOC\",\"HUM\",\"NUM\",\"DESC\",\"DESC\",\"NUM\",\"NUM\",\"LOC\",\"LOC\",\"DESC\",\"ENTY\",\"DESC\",\"ENTY\",\"NUM\",\"DESC\",\"DESC\",\"NUM\",\"DESC\",\"ENTY\",\"LOC\",\"ENTY\",\"NUM\",\"DESC\",\"LOC\",\"HUM\",\"NUM\",\"HUM\",\"DESC\",\"NUM\",\"ENTY\",\"DESC\",\"LOC\",\"DESC\",\"LOC\",\"NUM\",\"LOC\",\"DESC\",\"DESC\",\"DESC\",\"DESC\",\"LOC\",\"DESC\",\"DESC\",\"DESC\",\"ENTY\",\"HUM\",\"LOC\",\"ENTY\",\"ENTY\",\"DESC\",\"LOC\",\"NUM\",\"ENTY\",\"DESC\",\"NUM\",\"HUM\",\"HUM\",\"NUM\",\"ENTY\",\"NUM\",\"DESC\",\"DESC\",\"LOC\",\"NUM\",\"DESC\",\"ENTY\",\"DESC\",\"DESC\",\"HUM\",\"DESC\",\"DESC\",\"DESC\",\"NUM\",\"ABBR\",\"ENTY\",\"LOC\",\"HUM\",\"ABBR\",\"DESC\",\"LOC\",\"DESC\",\"DESC\",\"DESC\",\"DESC\",\"DESC\",\"LOC\",\"ENTY\",\"NUM\",\"ENTY\",\"DESC\",\"DESC\",\"ENTY\",\"NUM\",\"ENTY\",\"ENTY\",\"ABBR\",\"NUM\",\"DESC\",\"NUM\",\"NUM\",\"LOC\",\"HUM\",\"LOC\",\"HUM\",\"NUM\",\"LOC\",\"LOC\",\"NUM\",\"DESC\",\"LOC\",\"DESC\",\"HUM\",\"LOC\",\"ENTY\",\"LOC\",\"DESC\",\"NUM\",\"ABBR\",\"ENTY\",\"NUM\",\"ABBR\",\"DESC\",\"NUM\",\"NUM\",\"DESC\",\"DESC\",\"NUM\",\"ENTY\",\"ENTY\",\"NUM\",\"LOC\",\"DESC\",\"ENTY\",\"DESC\",\"NUM\",\"NUM\",\"ENTY\",\"NUM\",\"HUM\",\"NUM\",\"HUM\",\"ENTY\",\"DESC\",\"NUM\",\"DESC\",\"NUM\",\"LOC\",\"ENTY\",\"ENTY\",\"DESC\",\"HUM\",\"NUM\",\"NUM\",\"DESC\",\"ENTY\",\"DESC\",\"DESC\",\"ENTY\",\"NUM\",\"DESC\",\"NUM\",\"ENTY\",\"ENTY\",\"DESC\",\"LOC\",\"NUM\",\"ENTY\",\"DESC\",\"DESC\",\"ENTY\",\"NUM\",\"LOC\",\"DESC\",\"ABBR\",\"DESC\",\"HUM\",\"HUM\",\"ENTY\",\"HUM\",\"NUM\",\"NUM\",\"DESC\",\"HUM\",\"DESC\",\"DESC\",\"HUM\",\"DESC\",\"ENTY\",\"NUM\",\"DESC\",\"DESC\",\"DESC\",\"NUM\",\"NUM\",\"LOC\",\"HUM\",\"ENTY\",\"NUM\",\"ABBR\",\"NUM\",\"LOC\",\"DESC\",\"LOC\",\"NUM\",\"DESC\",\"HUM\",\"ENTY\",\"LOC\",\"ABBR\",\"ENTY\",\"DESC\",\"DESC\",\"DESC\",\"HUM\",\"HUM\",\"NUM\",\"LOC\",\"ENTY\",\"DESC\",\"LOC\",\"ENTY\",\"DESC\",\"LOC\",\"DESC\",\"HUM\",\"DESC\",\"ENTY\",\"LOC\",\"HUM\",\"DESC\",\"DESC\",\"DESC\",\"NUM\",\"ABBR\",\"ENTY\",\"HUM\",\"ENTY\",\"LOC\",\"ENTY\",\"HUM\",\"ENTY\",\"LOC\",\"HUM\",\"NUM\",\"ENTY\",\"ENTY\",\"ENTY\",\"ENTY\",\"NUM\",\"NUM\",\"NUM\",\"ENTY\",\"LOC\",\"DESC\",\"DESC\",\"HUM\",\"ENTY\",\"LOC\",\"NUM\",\"LOC\",\"ENTY\",\"DESC\",\"HUM\",\"DESC\",\"DESC\",\"DESC\",\"DESC\",\"ENTY\",\"NUM\",\"ENTY\",\"ENTY\",\"DESC\",\"LOC\",\"ENTY\",\"LOC\",\"ENTY\",\"ENTY\",\"ENTY\",\"DESC\",\"LOC\",\"DESC\",\"LOC\",\"NUM\",\"ENTY\",\"ENTY\",\"DESC\",\"DESC\",\"ENTY\",\"NUM\",\"NUM\",\"HUM\",\"ENTY\",\"NUM\",\"ENTY\",\"DESC\"],\"x0\":\" \",\"xaxis\":\"x\",\"y\":[9,8,4,5,7,7,11,7,7,4,9,9,10,12,7,8,8,7,4,7,10,5,12,5,4,6,4,12,6,7,13,6,4,11,10,9,6,12,9,7,9,4,4,5,10,8,8,4,7,12,4,4,12,4,9,7,6,7,4,7,10,8,13,5,11,5,8,5,9,8,7,9,9,13,8,6,9,12,10,8,5,7,10,7,6,6,4,9,4,9,16,5,10,9,9,6,8,4,5,9,4,5,6,5,8,5,10,7,8,9,8,4,13,10,7,7,6,6,14,4,6,9,5,4,7,5,8,8,4,9,7,15,7,10,4,9,6,9,9,4,5,10,6,7,4,10,6,8,7,4,8,4,4,5,14,6,7,4,14,12,6,4,8,7,10,7,7,4,11,6,11,6,6,4,7,13,5,7,10,8,10,4,6,4,7,8,11,4,6,7,8,13,10,8,5,9,7,6,9,6,17,11,5,11,8,8,10,7,6,8,10,8,6,13,4,11,5,8,7,4,5,8,8,10,12,6,7,6,6,5,8,10,4,12,10,4,9,4,10,5,8,6,5,4,4,10,5,5,5,9,9,6,11,9,4,11,9,9,5,9,13,9,10,7,10,7,4,7,8,6,8,13,4,10,4,7,4,8,7,8,9,8,6,5,5,4,5,4,4,5,9,7,10,9,4,4,5,16,6,8,6,9,5,10,5,6,11,12,7,9,7,6,8,4,9,6,11,7,8,6,4,6,4,6,8,8,6,10,6,6,4,6,8,10,8,10,4,8,5,12,6,10,10,11,7,9,4,10,9,5,9,8,7,7,4,8,7,9,9,12,5,5,16,11,5,10,16,9,6,9,8,8,4,6,7,8,6,4,6,5,6,10,5,15,11,7,5,7,5,6,7,5,7,7,4,4,4,10,11,10,6,8,6,8,9,11,5,6,7,4,9,6,7,6,8,4,5,5,14,6,7,7,14,4,6,12,5,8,4,4,6,13,8,11,5,4,6,9,7,8,5,7,8,8,15,11,8,14,7,8,12,9,9,6,7,6,8,11,4,4,6,8,8,8,10,15,4,10,5,5,4,5,6,7,10,6,5,8,5,10,13,10,10,5,8,5,14,7,8,14,4,4,9,10,8,9,9,7,7,4],\"y0\":\" \",\"yaxis\":\"y\",\"type\":\"box\"}],                        {\"template\":{\"data\":{\"histogram2dcontour\":[{\"type\":\"histogram2dcontour\",\"colorbar\":{\"outlinewidth\":0,\"ticks\":\"\"},\"colorscale\":[[0.0,\"#0d0887\"],[0.1111111111111111,\"#46039f\"],[0.2222222222222222,\"#7201a8\"],[0.3333333333333333,\"#9c179e\"],[0.4444444444444444,\"#bd3786\"],[0.5555555555555556,\"#d8576b\"],[0.6666666666666666,\"#ed7953\"],[0.7777777777777778,\"#fb9f3a\"],[0.8888888888888888,\"#fdca26\"],[1.0,\"#f0f921\"]]}],\"choropleth\":[{\"type\":\"choropleth\",\"colorbar\":{\"outlinewidth\":0,\"ticks\":\"\"}}],\"histogram2d\":[{\"type\":\"histogram2d\",\"colorbar\":{\"outlinewidth\":0,\"ticks\":\"\"},\"colorscale\":[[0.0,\"#0d0887\"],[0.1111111111111111,\"#46039f\"],[0.2222222222222222,\"#7201a8\"],[0.3333333333333333,\"#9c179e\"],[0.4444444444444444,\"#bd3786\"],[0.5555555555555556,\"#d8576b\"],[0.6666666666666666,\"#ed7953\"],[0.7777777777777778,\"#fb9f3a\"],[0.8888888888888888,\"#fdca26\"],[1.0,\"#f0f921\"]]}],\"heatmap\":[{\"type\":\"heatmap\",\"colorbar\":{\"outlinewidth\":0,\"ticks\":\"\"},\"colorscale\":[[0.0,\"#0d0887\"],[0.1111111111111111,\"#46039f\"],[0.2222222222222222,\"#7201a8\"],[0.3333333333333333,\"#9c179e\"],[0.4444444444444444,\"#bd3786\"],[0.5555555555555556,\"#d8576b\"],[0.6666666666666666,\"#ed7953\"],[0.7777777777777778,\"#fb9f3a\"],[0.8888888888888888,\"#fdca26\"],[1.0,\"#f0f921\"]]}],\"heatmapgl\":[{\"type\":\"heatmapgl\",\"colorbar\":{\"outlinewidth\":0,\"ticks\":\"\"},\"colorscale\":[[0.0,\"#0d0887\"],[0.1111111111111111,\"#46039f\"],[0.2222222222222222,\"#7201a8\"],[0.3333333333333333,\"#9c179e\"],[0.4444444444444444,\"#bd3786\"],[0.5555555555555556,\"#d8576b\"],[0.6666666666666666,\"#ed7953\"],[0.7777777777777778,\"#fb9f3a\"],[0.8888888888888888,\"#fdca26\"],[1.0,\"#f0f921\"]]}],\"contourcarpet\":[{\"type\":\"contourcarpet\",\"colorbar\":{\"outlinewidth\":0,\"ticks\":\"\"}}],\"contour\":[{\"type\":\"contour\",\"colorbar\":{\"outlinewidth\":0,\"ticks\":\"\"},\"colorscale\":[[0.0,\"#0d0887\"],[0.1111111111111111,\"#46039f\"],[0.2222222222222222,\"#7201a8\"],[0.3333333333333333,\"#9c179e\"],[0.4444444444444444,\"#bd3786\"],[0.5555555555555556,\"#d8576b\"],[0.6666666666666666,\"#ed7953\"],[0.7777777777777778,\"#fb9f3a\"],[0.8888888888888888,\"#fdca26\"],[1.0,\"#f0f921\"]]}],\"surface\":[{\"type\":\"surface\",\"colorbar\":{\"outlinewidth\":0,\"ticks\":\"\"},\"colorscale\":[[0.0,\"#0d0887\"],[0.1111111111111111,\"#46039f\"],[0.2222222222222222,\"#7201a8\"],[0.3333333333333333,\"#9c179e\"],[0.4444444444444444,\"#bd3786\"],[0.5555555555555556,\"#d8576b\"],[0.6666666666666666,\"#ed7953\"],[0.7777777777777778,\"#fb9f3a\"],[0.8888888888888888,\"#fdca26\"],[1.0,\"#f0f921\"]]}],\"mesh3d\":[{\"type\":\"mesh3d\",\"colorbar\":{\"outlinewidth\":0,\"ticks\":\"\"}}],\"scatter\":[{\"fillpattern\":{\"fillmode\":\"overlay\",\"size\":10,\"solidity\":0.2},\"type\":\"scatter\"}],\"parcoords\":[{\"type\":\"parcoords\",\"line\":{\"colorbar\":{\"outlinewidth\":0,\"ticks\":\"\"}}}],\"scatterpolargl\":[{\"type\":\"scatterpolargl\",\"marker\":{\"colorbar\":{\"outlinewidth\":0,\"ticks\":\"\"}}}],\"bar\":[{\"error_x\":{\"color\":\"#2a3f5f\"},\"error_y\":{\"color\":\"#2a3f5f\"},\"marker\":{\"line\":{\"color\":\"#E5ECF6\",\"width\":0.5},\"pattern\":{\"fillmode\":\"overlay\",\"size\":10,\"solidity\":0.2}},\"type\":\"bar\"}],\"scattergeo\":[{\"type\":\"scattergeo\",\"marker\":{\"colorbar\":{\"outlinewidth\":0,\"ticks\":\"\"}}}],\"scatterpolar\":[{\"type\":\"scatterpolar\",\"marker\":{\"colorbar\":{\"outlinewidth\":0,\"ticks\":\"\"}}}],\"histogram\":[{\"marker\":{\"pattern\":{\"fillmode\":\"overlay\",\"size\":10,\"solidity\":0.2}},\"type\":\"histogram\"}],\"scattergl\":[{\"type\":\"scattergl\",\"marker\":{\"colorbar\":{\"outlinewidth\":0,\"ticks\":\"\"}}}],\"scatter3d\":[{\"type\":\"scatter3d\",\"line\":{\"colorbar\":{\"outlinewidth\":0,\"ticks\":\"\"}},\"marker\":{\"colorbar\":{\"outlinewidth\":0,\"ticks\":\"\"}}}],\"scattermapbox\":[{\"type\":\"scattermapbox\",\"marker\":{\"colorbar\":{\"outlinewidth\":0,\"ticks\":\"\"}}}],\"scatterternary\":[{\"type\":\"scatterternary\",\"marker\":{\"colorbar\":{\"outlinewidth\":0,\"ticks\":\"\"}}}],\"scattercarpet\":[{\"type\":\"scattercarpet\",\"marker\":{\"colorbar\":{\"outlinewidth\":0,\"ticks\":\"\"}}}],\"carpet\":[{\"aaxis\":{\"endlinecolor\":\"#2a3f5f\",\"gridcolor\":\"white\",\"linecolor\":\"white\",\"minorgridcolor\":\"white\",\"startlinecolor\":\"#2a3f5f\"},\"baxis\":{\"endlinecolor\":\"#2a3f5f\",\"gridcolor\":\"white\",\"linecolor\":\"white\",\"minorgridcolor\":\"white\",\"startlinecolor\":\"#2a3f5f\"},\"type\":\"carpet\"}],\"table\":[{\"cells\":{\"fill\":{\"color\":\"#EBF0F8\"},\"line\":{\"color\":\"white\"}},\"header\":{\"fill\":{\"color\":\"#C8D4E3\"},\"line\":{\"color\":\"white\"}},\"type\":\"table\"}],\"barpolar\":[{\"marker\":{\"line\":{\"color\":\"#E5ECF6\",\"width\":0.5},\"pattern\":{\"fillmode\":\"overlay\",\"size\":10,\"solidity\":0.2}},\"type\":\"barpolar\"}],\"pie\":[{\"automargin\":true,\"type\":\"pie\"}]},\"layout\":{\"autotypenumbers\":\"strict\",\"colorway\":[\"#636efa\",\"#EF553B\",\"#00cc96\",\"#ab63fa\",\"#FFA15A\",\"#19d3f3\",\"#FF6692\",\"#B6E880\",\"#FF97FF\",\"#FECB52\"],\"font\":{\"color\":\"#2a3f5f\"},\"hovermode\":\"closest\",\"hoverlabel\":{\"align\":\"left\"},\"paper_bgcolor\":\"white\",\"plot_bgcolor\":\"#E5ECF6\",\"polar\":{\"bgcolor\":\"#E5ECF6\",\"angularaxis\":{\"gridcolor\":\"white\",\"linecolor\":\"white\",\"ticks\":\"\"},\"radialaxis\":{\"gridcolor\":\"white\",\"linecolor\":\"white\",\"ticks\":\"\"}},\"ternary\":{\"bgcolor\":\"#E5ECF6\",\"aaxis\":{\"gridcolor\":\"white\",\"linecolor\":\"white\",\"ticks\":\"\"},\"baxis\":{\"gridcolor\":\"white\",\"linecolor\":\"white\",\"ticks\":\"\"},\"caxis\":{\"gridcolor\":\"white\",\"linecolor\":\"white\",\"ticks\":\"\"}},\"coloraxis\":{\"colorbar\":{\"outlinewidth\":0,\"ticks\":\"\"}},\"colorscale\":{\"sequential\":[[0.0,\"#0d0887\"],[0.1111111111111111,\"#46039f\"],[0.2222222222222222,\"#7201a8\"],[0.3333333333333333,\"#9c179e\"],[0.4444444444444444,\"#bd3786\"],[0.5555555555555556,\"#d8576b\"],[0.6666666666666666,\"#ed7953\"],[0.7777777777777778,\"#fb9f3a\"],[0.8888888888888888,\"#fdca26\"],[1.0,\"#f0f921\"]],\"sequentialminus\":[[0.0,\"#0d0887\"],[0.1111111111111111,\"#46039f\"],[0.2222222222222222,\"#7201a8\"],[0.3333333333333333,\"#9c179e\"],[0.4444444444444444,\"#bd3786\"],[0.5555555555555556,\"#d8576b\"],[0.6666666666666666,\"#ed7953\"],[0.7777777777777778,\"#fb9f3a\"],[0.8888888888888888,\"#fdca26\"],[1.0,\"#f0f921\"]],\"diverging\":[[0,\"#8e0152\"],[0.1,\"#c51b7d\"],[0.2,\"#de77ae\"],[0.3,\"#f1b6da\"],[0.4,\"#fde0ef\"],[0.5,\"#f7f7f7\"],[0.6,\"#e6f5d0\"],[0.7,\"#b8e186\"],[0.8,\"#7fbc41\"],[0.9,\"#4d9221\"],[1,\"#276419\"]]},\"xaxis\":{\"gridcolor\":\"white\",\"linecolor\":\"white\",\"ticks\":\"\",\"title\":{\"standoff\":15},\"zerolinecolor\":\"white\",\"automargin\":true,\"zerolinewidth\":2},\"yaxis\":{\"gridcolor\":\"white\",\"linecolor\":\"white\",\"ticks\":\"\",\"title\":{\"standoff\":15},\"zerolinecolor\":\"white\",\"automargin\":true,\"zerolinewidth\":2},\"scene\":{\"xaxis\":{\"backgroundcolor\":\"#E5ECF6\",\"gridcolor\":\"white\",\"linecolor\":\"white\",\"showbackground\":true,\"ticks\":\"\",\"zerolinecolor\":\"white\",\"gridwidth\":2},\"yaxis\":{\"backgroundcolor\":\"#E5ECF6\",\"gridcolor\":\"white\",\"linecolor\":\"white\",\"showbackground\":true,\"ticks\":\"\",\"zerolinecolor\":\"white\",\"gridwidth\":2},\"zaxis\":{\"backgroundcolor\":\"#E5ECF6\",\"gridcolor\":\"white\",\"linecolor\":\"white\",\"showbackground\":true,\"ticks\":\"\",\"zerolinecolor\":\"white\",\"gridwidth\":2}},\"shapedefaults\":{\"line\":{\"color\":\"#2a3f5f\"}},\"annotationdefaults\":{\"arrowcolor\":\"#2a3f5f\",\"arrowhead\":0,\"arrowwidth\":1},\"geo\":{\"bgcolor\":\"white\",\"landcolor\":\"#E5ECF6\",\"subunitcolor\":\"white\",\"showland\":true,\"showlakes\":true,\"lakecolor\":\"white\"},\"title\":{\"x\":0.05},\"mapbox\":{\"style\":\"light\"}}},\"xaxis\":{\"anchor\":\"y\",\"domain\":[0.0,1.0],\"title\":{\"text\":\"Coarse Label\"},\"categoryorder\":\"total ascending\"},\"yaxis\":{\"anchor\":\"x\",\"domain\":[0.0,1.0],\"title\":{\"text\":\"Text Length (Number of Tokens)\"}},\"legend\":{\"tracegroupgap\":0},\"title\":{\"text\":\"Text Length Distribution by Coarse Label in Test Set\"},\"boxmode\":\"group\"},                        {\"responsive\": true}                    ).then(function(){\n",
              "                            \n",
              "var gd = document.getElementById('39249c09-7a55-4954-9362-0443cdadd87f');\n",
              "var x = new MutationObserver(function (mutations, observer) {{\n",
              "        var display = window.getComputedStyle(gd).display;\n",
              "        if (!display || display === 'none') {{\n",
              "            console.log([gd, 'removed!']);\n",
              "            Plotly.purge(gd);\n",
              "            observer.disconnect();\n",
              "        }}\n",
              "}});\n",
              "\n",
              "// Listen for the removal of the full notebook cells\n",
              "var notebookContainer = gd.closest('#notebook-container');\n",
              "if (notebookContainer) {{\n",
              "    x.observe(notebookContainer, {childList: true});\n",
              "}}\n",
              "\n",
              "// Listen for the clearing of the current output cell\n",
              "var outputEl = gd.closest('.output');\n",
              "if (outputEl) {{\n",
              "    x.observe(outputEl, {childList: true});\n",
              "}}\n",
              "\n",
              "                        })                };                            </script>        </div>\n",
              "</body>\n",
              "</html>"
            ]
          },
          "metadata": {}
        }
      ]
    },
    {
      "cell_type": "markdown",
      "source": [
        "# **Tokenization of dataset**"
      ],
      "metadata": {
        "id": "KrW_1ruOS7XL"
      }
    },
    {
      "cell_type": "code",
      "source": [
        "# Load the tokenizer\n",
        "from transformers import BertTokenizer\n",
        "\n",
        "tokenizer = BertTokenizer.from_pretrained('bert-base-uncased')"
      ],
      "metadata": {
        "id": "Ed_9_2f7UHc-"
      },
      "execution_count": 44,
      "outputs": []
    },
    {
      "cell_type": "code",
      "source": [
        "# Define a tokenization function\n",
        "def tokenize_function(example, tokenizer, padding='max_length', truncation=True, max_length=128):\n",
        "    \"\"\"\n",
        "    Tokenizes the input text using the specified tokenizer.\n",
        "\n",
        "    Parameters:\n",
        "    - example: A dictionary containing the text to be tokenized.\n",
        "    - tokenizer: The tokenizer to be used for tokenization.\n",
        "    - padding: Type of padding to apply ('max_length', 'longest', or None).\n",
        "    - truncation: Whether to truncate sequences to fit within the max_length.\n",
        "    - max_length: The maximum length of sequences after padding/truncation.\n",
        "\n",
        "    Returns:\n",
        "    - A dictionary containing the tokenized input_ids, attention_mask, and token_type_ids.\n",
        "    \"\"\"\n",
        "    return tokenizer(\n",
        "        example['text'],\n",
        "        padding=padding,\n",
        "        truncation=truncation,\n",
        "        max_length=max_length\n",
        "    )"
      ],
      "metadata": {
        "id": "k4IIzptU6miP"
      },
      "execution_count": 45,
      "outputs": []
    },
    {
      "cell_type": "code",
      "source": [
        "# Apply the tokenization function to your dataset\n",
        "tokenized_datasets = dataset.map(lambda x: tokenize_function(x, tokenizer), batched=True)\n",
        "\n",
        "# Remove the original text column\n",
        "tokenized_datasets = tokenized_datasets.remove_columns([\"text\"])\n",
        "\n",
        "# Rename the labels column\n",
        "tokenized_datasets = tokenized_datasets.rename_column(\"coarse_label\", \"labels\")\n",
        "\n",
        "# Set the format to PyTorch tensors\n",
        "tokenized_datasets.set_format(\"torch\")"
      ],
      "metadata": {
        "id": "xfuDVjtxrA2C"
      },
      "execution_count": 51,
      "outputs": []
    },
    {
      "cell_type": "code",
      "source": [
        "# Inspect the first tokenized example in the training set\n",
        "print(tokenized_datasets['train'][0])"
      ],
      "metadata": {
        "colab": {
          "base_uri": "https://localhost:8080/"
        },
        "id": "bvQke_aQ6xBV",
        "outputId": "73e04dcd-f01b-4769-db99-8545d553b6e2"
      },
      "execution_count": 52,
      "outputs": [
        {
          "output_type": "stream",
          "name": "stdout",
          "text": [
            "{'labels': tensor(2), 'fine_label': tensor(26), 'input_ids': tensor([  101,  2129,  2106, 14262,  2546,  9527,  4503,  1999,  1998,  2059,\n",
            "         2681,  3607,  1029,   102,     0,     0,     0,     0,     0,     0,\n",
            "            0,     0,     0,     0,     0,     0,     0,     0,     0,     0,\n",
            "            0,     0,     0,     0,     0,     0,     0,     0,     0,     0,\n",
            "            0,     0,     0,     0,     0,     0,     0,     0,     0,     0,\n",
            "            0,     0,     0,     0,     0,     0,     0,     0,     0,     0,\n",
            "            0,     0,     0,     0,     0,     0,     0,     0,     0,     0,\n",
            "            0,     0,     0,     0,     0,     0,     0,     0,     0,     0,\n",
            "            0,     0,     0,     0,     0,     0,     0,     0,     0,     0,\n",
            "            0,     0,     0,     0,     0,     0,     0,     0,     0,     0,\n",
            "            0,     0,     0,     0,     0,     0,     0,     0,     0,     0,\n",
            "            0,     0,     0,     0,     0,     0,     0,     0,     0,     0,\n",
            "            0,     0,     0,     0,     0,     0,     0,     0]), 'token_type_ids': tensor([0, 0, 0, 0, 0, 0, 0, 0, 0, 0, 0, 0, 0, 0, 0, 0, 0, 0, 0, 0, 0, 0, 0, 0,\n",
            "        0, 0, 0, 0, 0, 0, 0, 0, 0, 0, 0, 0, 0, 0, 0, 0, 0, 0, 0, 0, 0, 0, 0, 0,\n",
            "        0, 0, 0, 0, 0, 0, 0, 0, 0, 0, 0, 0, 0, 0, 0, 0, 0, 0, 0, 0, 0, 0, 0, 0,\n",
            "        0, 0, 0, 0, 0, 0, 0, 0, 0, 0, 0, 0, 0, 0, 0, 0, 0, 0, 0, 0, 0, 0, 0, 0,\n",
            "        0, 0, 0, 0, 0, 0, 0, 0, 0, 0, 0, 0, 0, 0, 0, 0, 0, 0, 0, 0, 0, 0, 0, 0,\n",
            "        0, 0, 0, 0, 0, 0, 0, 0]), 'attention_mask': tensor([1, 1, 1, 1, 1, 1, 1, 1, 1, 1, 1, 1, 1, 1, 0, 0, 0, 0, 0, 0, 0, 0, 0, 0,\n",
            "        0, 0, 0, 0, 0, 0, 0, 0, 0, 0, 0, 0, 0, 0, 0, 0, 0, 0, 0, 0, 0, 0, 0, 0,\n",
            "        0, 0, 0, 0, 0, 0, 0, 0, 0, 0, 0, 0, 0, 0, 0, 0, 0, 0, 0, 0, 0, 0, 0, 0,\n",
            "        0, 0, 0, 0, 0, 0, 0, 0, 0, 0, 0, 0, 0, 0, 0, 0, 0, 0, 0, 0, 0, 0, 0, 0,\n",
            "        0, 0, 0, 0, 0, 0, 0, 0, 0, 0, 0, 0, 0, 0, 0, 0, 0, 0, 0, 0, 0, 0, 0, 0,\n",
            "        0, 0, 0, 0, 0, 0, 0, 0])}\n"
          ]
        }
      ]
    },
    {
      "cell_type": "code",
      "source": [
        "# Inspect the first tokenized example in the test set\n",
        "print(tokenized_datasets['test'][0])"
      ],
      "metadata": {
        "colab": {
          "base_uri": "https://localhost:8080/"
        },
        "id": "nIopdi5e6xJ5",
        "outputId": "c05709dc-fb0d-4919-b744-188189ce4012"
      },
      "execution_count": 53,
      "outputs": [
        {
          "output_type": "stream",
          "name": "stdout",
          "text": [
            "{'labels': tensor(5), 'fine_label': tensor(40), 'input_ids': tensor([  101,  2129,  2521,  2003,  2009,  2013,  7573,  2000, 18567,  1029,\n",
            "          102,     0,     0,     0,     0,     0,     0,     0,     0,     0,\n",
            "            0,     0,     0,     0,     0,     0,     0,     0,     0,     0,\n",
            "            0,     0,     0,     0,     0,     0,     0,     0,     0,     0,\n",
            "            0,     0,     0,     0,     0,     0,     0,     0,     0,     0,\n",
            "            0,     0,     0,     0,     0,     0,     0,     0,     0,     0,\n",
            "            0,     0,     0,     0,     0,     0,     0,     0,     0,     0,\n",
            "            0,     0,     0,     0,     0,     0,     0,     0,     0,     0,\n",
            "            0,     0,     0,     0,     0,     0,     0,     0,     0,     0,\n",
            "            0,     0,     0,     0,     0,     0,     0,     0,     0,     0,\n",
            "            0,     0,     0,     0,     0,     0,     0,     0,     0,     0,\n",
            "            0,     0,     0,     0,     0,     0,     0,     0,     0,     0,\n",
            "            0,     0,     0,     0,     0,     0,     0,     0]), 'token_type_ids': tensor([0, 0, 0, 0, 0, 0, 0, 0, 0, 0, 0, 0, 0, 0, 0, 0, 0, 0, 0, 0, 0, 0, 0, 0,\n",
            "        0, 0, 0, 0, 0, 0, 0, 0, 0, 0, 0, 0, 0, 0, 0, 0, 0, 0, 0, 0, 0, 0, 0, 0,\n",
            "        0, 0, 0, 0, 0, 0, 0, 0, 0, 0, 0, 0, 0, 0, 0, 0, 0, 0, 0, 0, 0, 0, 0, 0,\n",
            "        0, 0, 0, 0, 0, 0, 0, 0, 0, 0, 0, 0, 0, 0, 0, 0, 0, 0, 0, 0, 0, 0, 0, 0,\n",
            "        0, 0, 0, 0, 0, 0, 0, 0, 0, 0, 0, 0, 0, 0, 0, 0, 0, 0, 0, 0, 0, 0, 0, 0,\n",
            "        0, 0, 0, 0, 0, 0, 0, 0]), 'attention_mask': tensor([1, 1, 1, 1, 1, 1, 1, 1, 1, 1, 1, 0, 0, 0, 0, 0, 0, 0, 0, 0, 0, 0, 0, 0,\n",
            "        0, 0, 0, 0, 0, 0, 0, 0, 0, 0, 0, 0, 0, 0, 0, 0, 0, 0, 0, 0, 0, 0, 0, 0,\n",
            "        0, 0, 0, 0, 0, 0, 0, 0, 0, 0, 0, 0, 0, 0, 0, 0, 0, 0, 0, 0, 0, 0, 0, 0,\n",
            "        0, 0, 0, 0, 0, 0, 0, 0, 0, 0, 0, 0, 0, 0, 0, 0, 0, 0, 0, 0, 0, 0, 0, 0,\n",
            "        0, 0, 0, 0, 0, 0, 0, 0, 0, 0, 0, 0, 0, 0, 0, 0, 0, 0, 0, 0, 0, 0, 0, 0,\n",
            "        0, 0, 0, 0, 0, 0, 0, 0])}\n"
          ]
        }
      ]
    },
    {
      "cell_type": "code",
      "source": [
        "# Assuming 'tokenized_datasets' has been created as described earlier\n",
        "training_dataset = tokenized_datasets['train']\n",
        "testing_dataset = tokenized_datasets['test']\n",
        "\n",
        "# Initialize DataLoaders for batching\n",
        "train_loader = DataLoader(training_dataset, batch_size=32, shuffle=True)\n",
        "test_loader = DataLoader(testing_dataset, batch_size=32, shuffle=False)"
      ],
      "metadata": {
        "id": "wRGcEskz7e55"
      },
      "execution_count": 54,
      "outputs": []
    },
    {
      "cell_type": "markdown",
      "source": [
        "# **Loading BERT Model**"
      ],
      "metadata": {
        "id": "sQXKBKVlTGaE"
      }
    },
    {
      "cell_type": "code",
      "source": [
        "# Initialize the model\n",
        "model = BertForSequenceClassification.from_pretrained('bert-base-uncased', num_labels=6)\n",
        "\n",
        "# Transfer the model to the GPU if one is available\n",
        "device = torch.device('cuda' if torch.cuda.is_available() else 'cpu')\n",
        "model.to(device)\n",
        "\n",
        "# Set up the optimizer\n",
        "optimizer = AdamW(model.parameters(), lr=5e-5)"
      ],
      "metadata": {
        "colab": {
          "base_uri": "https://localhost:8080/"
        },
        "id": "iraHD3UA80D3",
        "outputId": "7845bfbd-b04a-458a-a9fb-5d7fbc559d06"
      },
      "execution_count": 56,
      "outputs": [
        {
          "output_type": "stream",
          "name": "stderr",
          "text": [
            "Some weights of BertForSequenceClassification were not initialized from the model checkpoint at bert-base-uncased and are newly initialized: ['classifier.bias', 'classifier.weight']\n",
            "You should probably TRAIN this model on a down-stream task to be able to use it for predictions and inference.\n"
          ]
        }
      ]
    },
    {
      "cell_type": "markdown",
      "source": [
        "# **Training the model**"
      ],
      "metadata": {
        "id": "6PDO8yJjTTPp"
      }
    },
    {
      "cell_type": "code",
      "source": [
        "# Initialize lists to store metrics\n",
        "train_losses = []\n",
        "train_accuracies = []\n",
        "\n",
        "# Number of epochs\n",
        "epochs = 3\n",
        "\n",
        "# Training loop\n",
        "model.train()\n",
        "\n",
        "for epoch in range(epochs):\n",
        "    print(f\"Epoch {epoch + 1}/{epochs}\")\n",
        "    total_loss = 0\n",
        "    correct_predictions = 0\n",
        "    total_predictions = 0\n",
        "\n",
        "    for batch in tqdm(train_loader):\n",
        "        # Move batch to the device\n",
        "        input_ids = batch['input_ids'].to(device)\n",
        "        attention_mask = batch['attention_mask'].to(device)\n",
        "        labels = batch['labels'].to(device)\n",
        "\n",
        "        # Reset gradients from previous updates\n",
        "        optimizer.zero_grad()\n",
        "\n",
        "        # Forward pass through the model\n",
        "        outputs = model(input_ids=input_ids, attention_mask=attention_mask, labels=labels)\n",
        "\n",
        "        # Compute the loss\n",
        "        loss = outputs.loss\n",
        "        total_loss += loss.item()\n",
        "\n",
        "        # Backward pass to calculate gradients\n",
        "        loss.backward()\n",
        "\n",
        "        # Update model weights\n",
        "        optimizer.step()\n",
        "\n",
        "        # Compute accuracy\n",
        "        predictions = torch.argmax(outputs.logits, dim=-1)\n",
        "        correct_predictions += torch.sum(predictions == labels).item()\n",
        "        total_predictions += labels.size(0)\n",
        "\n",
        "    # Calculate average loss and accuracy\n",
        "    average_loss = total_loss / len(train_loader)\n",
        "    accuracy = correct_predictions / total_predictions\n",
        "\n",
        "    train_losses.append(average_loss)\n",
        "    train_accuracies.append(accuracy)\n",
        "\n",
        "    print(f\"Loss: {average_loss:.4f}, Accuracy: {accuracy:.4f}\")"
      ],
      "metadata": {
        "colab": {
          "base_uri": "https://localhost:8080/"
        },
        "id": "CwXGBoYe80MF",
        "outputId": "998c0f62-5efc-4e76-d1eb-148683895036"
      },
      "execution_count": 20,
      "outputs": [
        {
          "output_type": "stream",
          "name": "stdout",
          "text": [
            "Epoch 1/3\n"
          ]
        },
        {
          "output_type": "stream",
          "name": "stderr",
          "text": [
            "100%|██████████| 171/171 [26:35<00:00,  9.33s/it]\n"
          ]
        },
        {
          "output_type": "stream",
          "name": "stdout",
          "text": [
            "Loss: 0.5232, Accuracy: 0.8313\n",
            "Epoch 2/3\n"
          ]
        },
        {
          "output_type": "stream",
          "name": "stderr",
          "text": [
            "100%|██████████| 171/171 [25:39<00:00,  9.00s/it]\n"
          ]
        },
        {
          "output_type": "stream",
          "name": "stdout",
          "text": [
            "Loss: 0.1261, Accuracy: 0.9633\n",
            "Epoch 3/3\n"
          ]
        },
        {
          "output_type": "stream",
          "name": "stderr",
          "text": [
            "100%|██████████| 171/171 [27:22<00:00,  9.61s/it]"
          ]
        },
        {
          "output_type": "stream",
          "name": "stdout",
          "text": [
            "Loss: 0.0636, Accuracy: 0.9833\n"
          ]
        },
        {
          "output_type": "stream",
          "name": "stderr",
          "text": [
            "\n"
          ]
        }
      ]
    },
    {
      "cell_type": "code",
      "source": [
        "# Plotting accuracy and loss curves\n",
        "def plot_training_curves(epochs, train_losses, train_accuracies):\n",
        "    \"\"\"\n",
        "    Plots the training loss and accuracy curves.\n",
        "\n",
        "    Parameters:\n",
        "    - epochs: Number of epochs (int).\n",
        "    - train_losses: List of loss values for each epoch.\n",
        "    - train_accuracies: List of accuracy values for each epoch.\n",
        "    \"\"\"\n",
        "    plt.figure(figsize=(12, 5))\n",
        "\n",
        "    # Plotting the loss curve\n",
        "    plt.subplot(1, 2, 1)\n",
        "    plt.plot(range(1, epochs + 1), train_losses, label='Training Loss')\n",
        "    plt.xlabel('Epoch')\n",
        "    plt.ylabel('Loss')\n",
        "    plt.title('Training Loss Over Epochs')\n",
        "    plt.legend()\n",
        "\n",
        "    # Plotting the accuracy curve\n",
        "    plt.subplot(1, 2, 2)\n",
        "    plt.plot(range(1, epochs + 1), train_accuracies, label='Training Accuracy')\n",
        "    plt.xlabel('Epoch')\n",
        "    plt.ylabel('Accuracy')\n",
        "    plt.title('Training Accuracy Over Epochs')\n",
        "    plt.legend()\n",
        "\n",
        "    plt.tight_layout()\n",
        "    plt.show()\n",
        "\n",
        "plot_training_curves(epochs, train_losses, train_accuracies)"
      ],
      "metadata": {
        "colab": {
          "base_uri": "https://localhost:8080/",
          "height": 507
        },
        "id": "McjsCTK1p6re",
        "outputId": "06ce4af7-8e99-4392-d9bb-f85f9b92cf8d"
      },
      "execution_count": 21,
      "outputs": [
        {
          "output_type": "display_data",
          "data": {
            "text/plain": [
              "<Figure size 1200x500 with 2 Axes>"
            ],
            "image/png": "[encoded data removed]"
          },
          "metadata": {}
        }
      ]
    },
    {
      "cell_type": "markdown",
      "source": [
        "# **Model evaluation**"
      ],
      "metadata": {
        "id": "OsiyIC9CTsT0"
      }
    },
    {
      "cell_type": "code",
      "source": [
        "# Model Evaluation\n",
        "model.eval()\n",
        "predictions = []\n",
        "true_labels = []\n",
        "\n",
        "with torch.no_grad():\n",
        "    for batch in test_loader:\n",
        "        input_ids = batch['input_ids'].to(device)\n",
        "        attention_mask = batch['attention_mask'].to(device)\n",
        "        labels = batch['labels'].to(device)\n",
        "\n",
        "        outputs = model(input_ids=input_ids, attention_mask=attention_mask)\n",
        "        preds = torch.argmax(outputs.logits, dim=-1)\n",
        "\n",
        "        predictions.extend(preds.cpu().numpy())\n",
        "        true_labels.extend(labels.cpu().numpy())\n",
        "\n",
        "# Compute accuracy\n",
        "accuracy = accuracy_score(true_labels, predictions)\n",
        "print(f\"Test Accuracy: {accuracy:.4f}\")"
      ],
      "metadata": {
        "colab": {
          "base_uri": "https://localhost:8080/"
        },
        "id": "eofP0Fvu80SF",
        "outputId": "e51e2939-0158-4ec7-8110-6f488516b3c9"
      },
      "execution_count": 26,
      "outputs": [
        {
          "output_type": "stream",
          "name": "stdout",
          "text": [
            "Test Accuracy: 0.9620\n"
          ]
        }
      ]
    },
    {
      "cell_type": "markdown",
      "source": [
        "# **Results**"
      ],
      "metadata": {
        "id": "GWZp4zMrThOr"
      }
    },
    {
      "cell_type": "code",
      "source": [
        "# Verify that label_names is a list containing the actual label names\n",
        "label_names = dataset['train'].features['coarse_label'].names\n",
        "\n",
        "# Generate the confusion matrix\n",
        "conf_matrix = confusion_matrix(true_labels, predictions)\n",
        "\n",
        "# Visualize the confusion matrix\n",
        "plt.figure(figsize=(8, 6))\n",
        "sns.heatmap(conf_matrix, annot=True, fmt=\"d\", cmap=\"Blues\", xticklabels=label_names, yticklabels=label_names)\n",
        "plt.xlabel(\"Predicted Label\")\n",
        "plt.ylabel(\"Actual Label\")\n",
        "plt.title(\"Confusion Matrix\")\n",
        "plt.show()"
      ],
      "metadata": {
        "colab": {
          "base_uri": "https://localhost:8080/",
          "height": 564
        },
        "id": "ug1XWvjS80Zh",
        "outputId": "31f3a7fd-75c6-4a75-8613-26143d2c62c5"
      },
      "execution_count": 30,
      "outputs": [
        {
          "output_type": "display_data",
          "data": {
            "text/plain": [
              "<Figure size 800x600 with 2 Axes>"
            ],
            "image/png": "[encoded data removed]"
          },
          "metadata": {}
        }
      ]
    },
    {
      "cell_type": "code",
      "source": [
        "# Generate the classification report\n",
        "classification_report_output = classification_report(true_labels, predictions, target_names=label_names)\n",
        "print(\"\\nClassification Report:\")\n",
        "print(classification_report_output)"
      ],
      "metadata": {
        "colab": {
          "base_uri": "https://localhost:8080/"
        },
        "id": "HfzAiMwsRQZH",
        "outputId": "1ff1a00f-9802-4bea-864e-369b0432342f"
      },
      "execution_count": 31,
      "outputs": [
        {
          "output_type": "stream",
          "name": "stdout",
          "text": [
            "\n",
            "Classification Report:\n",
            "              precision    recall  f1-score   support\n",
            "\n",
            "        ABBR       0.69      1.00      0.82         9\n",
            "        ENTY       0.98      0.90      0.94        94\n",
            "        DESC       0.98      0.96      0.97       138\n",
            "         HUM       1.00      0.94      0.97        65\n",
            "         LOC       0.92      0.99      0.95        81\n",
            "         NUM       0.97      1.00      0.99       113\n",
            "\n",
            "    accuracy                           0.96       500\n",
            "   macro avg       0.92      0.97      0.94       500\n",
            "weighted avg       0.97      0.96      0.96       500\n",
            "\n"
          ]
        }
      ]
    },
    {
      "cell_type": "markdown",
      "source": [
        "# **Example predictions**"
      ],
      "metadata": {
        "id": "1WurxSYpTkpB"
      }
    },
    {
      "cell_type": "code",
      "source": [
        "# Select 5 random indices from the test set\n",
        "def print_random_predictions(model, tokenizer, tokenized_dataset, label_names, device, num_samples=5):\n",
        "    \"\"\"\n",
        "    Selects random samples from the test set, makes predictions using the model, and prints the results.\n",
        "\n",
        "    Parameters:\n",
        "    - model: The trained BERT model.\n",
        "    - tokenizer: The tokenizer used to preprocess the text.\n",
        "    - tokenized_dataset: The tokenized test dataset.\n",
        "    - label_names: List of label names corresponding to label IDs.\n",
        "    - device: The device to perform the computations on (e.g., 'cpu' or 'cuda').\n",
        "    - num_samples: Number of random samples to select and predict (default is 5).\n",
        "    \"\"\"\n",
        "    # Randomly choose indices from the test set\n",
        "    selected_indices = random.sample(range(len(tokenized_dataset)), num_samples)\n",
        "\n",
        "    # Set model to evaluation mode\n",
        "    model.eval()\n",
        "\n",
        "    for idx in selected_indices:\n",
        "        # Get the input data\n",
        "        input_ids = tokenized_dataset['input_ids'][idx].unsqueeze(0).to(device)\n",
        "        attention_mask = tokenized_dataset['attention_mask'][idx].unsqueeze(0).to(device)\n",
        "\n",
        "        # Get the true label\n",
        "        true_label_id = tokenized_dataset['labels'][idx].item()\n",
        "        true_label = label_names[true_label_id]\n",
        "\n",
        "        # Make a prediction\n",
        "        with torch.no_grad():\n",
        "            outputs = model(input_ids=input_ids, attention_mask=attention_mask)\n",
        "            pred_label_id = torch.argmax(outputs.logits, dim=-1).item()\n",
        "            pred_label = label_names[pred_label_id]\n",
        "\n",
        "        # Print the results\n",
        "        original_text = tokenizer.decode(tokenized_dataset['input_ids'][idx], skip_special_tokens=True)\n",
        "        print(f\"Original Text: {original_text}\")\n",
        "        print(f\"True Label: {true_label}\")\n",
        "        print(f\"Predicted Label: {pred_label}\\n\")\n",
        "\n",
        "\n",
        "print_random_predictions(model, tokenizer, tokenized_datasets['test'], label_names, device, num_samples=5)"
      ],
      "metadata": {
        "colab": {
          "base_uri": "https://localhost:8080/"
        },
        "id": "tOdu9Eue80mK",
        "outputId": "eed0d226-e159-4746-8d14-f8768e9990e0"
      },
      "execution_count": 33,
      "outputs": [
        {
          "output_type": "stream",
          "name": "stdout",
          "text": [
            "Original Text: where are the rocky mountains?\n",
            "True Label: LOC\n",
            "Predicted Label: LOC\n",
            "\n",
            "Original Text: what were christopher columbus'three ships?\n",
            "True Label: ENTY\n",
            "Predicted Label: ENTY\n",
            "\n",
            "Original Text: what is maryland's state bird?\n",
            "True Label: ENTY\n",
            "Predicted Label: ENTY\n",
            "\n",
            "Original Text: who was the first vice president of the u. s.?\n",
            "True Label: HUM\n",
            "Predicted Label: HUM\n",
            "\n",
            "Original Text: what is the life expectancy for crickets?\n",
            "True Label: NUM\n",
            "Predicted Label: NUM\n",
            "\n"
          ]
        }
      ]
    }
  ]
}